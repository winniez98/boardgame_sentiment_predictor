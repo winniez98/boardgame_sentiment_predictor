{
 "cells": [
  {
   "cell_type": "markdown",
   "id": "c799e8a6",
   "metadata": {},
   "source": [
    "# Exploratory Data Analysis\n",
    "* **Author**: Winnie Zhang \n",
    "* BrainStation, Data Science\n",
    "* Previous Notebook: 2. Feature Engineering "
   ]
  },
  {
   "cell_type": "markdown",
   "id": "9d2ac26b",
   "metadata": {},
   "source": [
    "## Introdution\n",
    "In the previous notebook, we engineered a few features for our dataset. In this notebook, we will perform some exploratory data analysis.\n",
    "\n",
    "I want to answer a few questions:\n",
    "1. What is the distribution of the ratings before and after we binarize them?\n",
    "2. Do users who leave more reviews give lower scores than those who don't?\n",
    "3. Does game difficulty impact the rating?\n",
    "4. Are certain words indicative of higher or lower rating scores?\n",
    "5. Do certain categories, mechanics, or features of board games score higher?"
   ]
  },
  {
   "cell_type": "markdown",
   "id": "80748ff7",
   "metadata": {},
   "source": [
    "First, I will load the packages and data."
   ]
  },
  {
   "cell_type": "code",
   "execution_count": 1,
   "id": "3470b1c4",
   "metadata": {},
   "outputs": [],
   "source": [
    "import pandas as pd\n",
    "import numpy as np\n",
    "import seaborn as sns\n",
    "import matplotlib.pyplot as plt \n",
    "\n",
    "from scipy import stats\n",
    "\n",
    "import joblib\n",
    "from wordcloud import WordCloud"
   ]
  },
  {
   "cell_type": "code",
   "execution_count": 2,
   "id": "adcdd65d",
   "metadata": {},
   "outputs": [],
   "source": [
    "df = joblib.load(\"data/data_clean_ver2.pkl\")"
   ]
  },
  {
   "cell_type": "code",
   "execution_count": 3,
   "id": "460bb9ae",
   "metadata": {},
   "outputs": [
    {
     "data": {
      "text/html": [
       "<div>\n",
       "<style scoped>\n",
       "    .dataframe tbody tr th:only-of-type {\n",
       "        vertical-align: middle;\n",
       "    }\n",
       "\n",
       "    .dataframe tbody tr th {\n",
       "        vertical-align: top;\n",
       "    }\n",
       "\n",
       "    .dataframe thead th {\n",
       "        text-align: right;\n",
       "    }\n",
       "</style>\n",
       "<table border=\"1\" class=\"dataframe\">\n",
       "  <thead>\n",
       "    <tr style=\"text-align: right;\">\n",
       "      <th></th>\n",
       "      <th>description</th>\n",
       "      <th>yearpublished</th>\n",
       "      <th>minplayers</th>\n",
       "      <th>maxplayers</th>\n",
       "      <th>minplaytime</th>\n",
       "      <th>maxplaytime</th>\n",
       "      <th>minage</th>\n",
       "      <th>boardgameexpansion</th>\n",
       "      <th>boardgameimplementation</th>\n",
       "      <th>usersrated</th>\n",
       "      <th>...</th>\n",
       "      <th>Action / Dexterity</th>\n",
       "      <th>Movies / TV / Radio theme</th>\n",
       "      <th>Medieval</th>\n",
       "      <th>Players: Two Player Only Games</th>\n",
       "      <th>Crowdfunding: Kickstarter</th>\n",
       "      <th>rating</th>\n",
       "      <th>comment</th>\n",
       "      <th>number_of_reviews_by_user</th>\n",
       "      <th>avg_rating</th>\n",
       "      <th>comment_length</th>\n",
       "    </tr>\n",
       "  </thead>\n",
       "  <tbody>\n",
       "    <tr>\n",
       "      <th>1</th>\n",
       "      <td>In Pandemic, several virulent diseases have br...</td>\n",
       "      <td>2008</td>\n",
       "      <td>2</td>\n",
       "      <td>4</td>\n",
       "      <td>45</td>\n",
       "      <td>45</td>\n",
       "      <td>8</td>\n",
       "      <td>1</td>\n",
       "      <td>1</td>\n",
       "      <td>109006</td>\n",
       "      <td>...</td>\n",
       "      <td>0</td>\n",
       "      <td>0</td>\n",
       "      <td>0</td>\n",
       "      <td>0</td>\n",
       "      <td>0</td>\n",
       "      <td>10.0</td>\n",
       "      <td>I tend to either love or easily tire of co-op ...</td>\n",
       "      <td>137</td>\n",
       "      <td>6.175182</td>\n",
       "      <td>76</td>\n",
       "    </tr>\n",
       "    <tr>\n",
       "      <th>2</th>\n",
       "      <td>In Pandemic, several virulent diseases have br...</td>\n",
       "      <td>2008</td>\n",
       "      <td>2</td>\n",
       "      <td>4</td>\n",
       "      <td>45</td>\n",
       "      <td>45</td>\n",
       "      <td>8</td>\n",
       "      <td>1</td>\n",
       "      <td>1</td>\n",
       "      <td>109006</td>\n",
       "      <td>...</td>\n",
       "      <td>0</td>\n",
       "      <td>0</td>\n",
       "      <td>0</td>\n",
       "      <td>0</td>\n",
       "      <td>0</td>\n",
       "      <td>10.0</td>\n",
       "      <td>This is an amazing co-op game.  I play mostly ...</td>\n",
       "      <td>306</td>\n",
       "      <td>7.035948</td>\n",
       "      <td>62</td>\n",
       "    </tr>\n",
       "    <tr>\n",
       "      <th>3</th>\n",
       "      <td>In Pandemic, several virulent diseases have br...</td>\n",
       "      <td>2008</td>\n",
       "      <td>2</td>\n",
       "      <td>4</td>\n",
       "      <td>45</td>\n",
       "      <td>45</td>\n",
       "      <td>8</td>\n",
       "      <td>1</td>\n",
       "      <td>1</td>\n",
       "      <td>109006</td>\n",
       "      <td>...</td>\n",
       "      <td>0</td>\n",
       "      <td>0</td>\n",
       "      <td>0</td>\n",
       "      <td>0</td>\n",
       "      <td>0</td>\n",
       "      <td>10.0</td>\n",
       "      <td>Hey! I can finally rate this game I've been pl...</td>\n",
       "      <td>1411</td>\n",
       "      <td>5.974841</td>\n",
       "      <td>217</td>\n",
       "    </tr>\n",
       "    <tr>\n",
       "      <th>4</th>\n",
       "      <td>In Pandemic, several virulent diseases have br...</td>\n",
       "      <td>2008</td>\n",
       "      <td>2</td>\n",
       "      <td>4</td>\n",
       "      <td>45</td>\n",
       "      <td>45</td>\n",
       "      <td>8</td>\n",
       "      <td>1</td>\n",
       "      <td>1</td>\n",
       "      <td>109006</td>\n",
       "      <td>...</td>\n",
       "      <td>0</td>\n",
       "      <td>0</td>\n",
       "      <td>0</td>\n",
       "      <td>0</td>\n",
       "      <td>0</td>\n",
       "      <td>10.0</td>\n",
       "      <td>Love it- great fun with my son. 2 plays so far...</td>\n",
       "      <td>96</td>\n",
       "      <td>7.385417</td>\n",
       "      <td>16</td>\n",
       "    </tr>\n",
       "    <tr>\n",
       "      <th>5</th>\n",
       "      <td>In Pandemic, several virulent diseases have br...</td>\n",
       "      <td>2008</td>\n",
       "      <td>2</td>\n",
       "      <td>4</td>\n",
       "      <td>45</td>\n",
       "      <td>45</td>\n",
       "      <td>8</td>\n",
       "      <td>1</td>\n",
       "      <td>1</td>\n",
       "      <td>109006</td>\n",
       "      <td>...</td>\n",
       "      <td>0</td>\n",
       "      <td>0</td>\n",
       "      <td>0</td>\n",
       "      <td>0</td>\n",
       "      <td>0</td>\n",
       "      <td>10.0</td>\n",
       "      <td>Fun, fun game. Strategy is required, but defin...</td>\n",
       "      <td>7</td>\n",
       "      <td>7.285714</td>\n",
       "      <td>99</td>\n",
       "    </tr>\n",
       "  </tbody>\n",
       "</table>\n",
       "<p>5 rows × 47 columns</p>\n",
       "</div>"
      ],
      "text/plain": [
       "                                         description  yearpublished  \\\n",
       "1  In Pandemic, several virulent diseases have br...           2008   \n",
       "2  In Pandemic, several virulent diseases have br...           2008   \n",
       "3  In Pandemic, several virulent diseases have br...           2008   \n",
       "4  In Pandemic, several virulent diseases have br...           2008   \n",
       "5  In Pandemic, several virulent diseases have br...           2008   \n",
       "\n",
       "   minplayers  maxplayers  minplaytime  maxplaytime  minage  \\\n",
       "1           2           4           45           45       8   \n",
       "2           2           4           45           45       8   \n",
       "3           2           4           45           45       8   \n",
       "4           2           4           45           45       8   \n",
       "5           2           4           45           45       8   \n",
       "\n",
       "   boardgameexpansion  boardgameimplementation  usersrated  ...  \\\n",
       "1                   1                        1      109006  ...   \n",
       "2                   1                        1      109006  ...   \n",
       "3                   1                        1      109006  ...   \n",
       "4                   1                        1      109006  ...   \n",
       "5                   1                        1      109006  ...   \n",
       "\n",
       "   Action / Dexterity  Movies / TV / Radio theme  Medieval  \\\n",
       "1                   0                          0         0   \n",
       "2                   0                          0         0   \n",
       "3                   0                          0         0   \n",
       "4                   0                          0         0   \n",
       "5                   0                          0         0   \n",
       "\n",
       "   Players: Two Player Only Games  Crowdfunding: Kickstarter  rating  \\\n",
       "1                               0                          0    10.0   \n",
       "2                               0                          0    10.0   \n",
       "3                               0                          0    10.0   \n",
       "4                               0                          0    10.0   \n",
       "5                               0                          0    10.0   \n",
       "\n",
       "                                             comment  \\\n",
       "1  I tend to either love or easily tire of co-op ...   \n",
       "2  This is an amazing co-op game.  I play mostly ...   \n",
       "3  Hey! I can finally rate this game I've been pl...   \n",
       "4  Love it- great fun with my son. 2 plays so far...   \n",
       "5  Fun, fun game. Strategy is required, but defin...   \n",
       "\n",
       "   number_of_reviews_by_user  avg_rating  comment_length  \n",
       "1                        137    6.175182              76  \n",
       "2                        306    7.035948              62  \n",
       "3                       1411    5.974841             217  \n",
       "4                         96    7.385417              16  \n",
       "5                          7    7.285714              99  \n",
       "\n",
       "[5 rows x 47 columns]"
      ]
     },
     "execution_count": 3,
     "metadata": {},
     "output_type": "execute_result"
    }
   ],
   "source": [
    "# sanity check\n",
    "df.head()"
   ]
  },
  {
   "cell_type": "markdown",
   "id": "89af6932",
   "metadata": {},
   "source": [
    "## Exploratory Data Analysis\n",
    "### Distribution of `rating`"
   ]
  },
  {
   "cell_type": "markdown",
   "id": "808cb8fc",
   "metadata": {},
   "source": [
    "First, I will look at the distribution of the `ratings` column. First, I will make this all into whole intgers. "
   ]
  },
  {
   "cell_type": "markdown",
   "id": "f85697b7",
   "metadata": {},
   "source": [
    "Since rounding rounds 0.5 down instead of up, I will add 0.01 to each score to ensure it rounds properly."
   ]
  },
  {
   "cell_type": "code",
   "execution_count": 4,
   "id": "71d9f93c",
   "metadata": {},
   "outputs": [
    {
     "data": {
      "text/plain": [
       "1    10.0\n",
       "2    10.0\n",
       "3    10.0\n",
       "4    10.0\n",
       "5    10.0\n",
       "Name: rating, dtype: float64"
      ]
     },
     "execution_count": 4,
     "metadata": {},
     "output_type": "execute_result"
    }
   ],
   "source": [
    "scores = np.array(df[\"rating\"])\n",
    "scores = scores + 0.01\n",
    "df[\"rating\"] = scores\n",
    "df[\"rating\"] = round(df[\"rating\"])\n",
    "df[\"rating\"].head()"
   ]
  },
  {
   "cell_type": "markdown",
   "id": "5a1933dd",
   "metadata": {},
   "source": [
    "Now, I will take a look at this distribution. I expect the ratings to be mostly high or low, as people are more likely to give reviewws if they're very happy or unsatisfied with something. "
   ]
  },
  {
   "cell_type": "code",
   "execution_count": 5,
   "id": "aaabd175",
   "metadata": {},
   "outputs": [
    {
     "data": {
      "image/png": "[encoded data removed]",
      "text/plain": [
       "<Figure size 720x576 with 1 Axes>"
      ]
     },
     "metadata": {
      "needs_background": "light"
     },
     "output_type": "display_data"
    }
   ],
   "source": [
    "plt.figure(figsize=(10,8))\n",
    "plt.bar(df[\"rating\"].value_counts().index,\n",
    "        df[\"rating\"].value_counts().values)\n",
    "plt.xlabel(\"Rating\")\n",
    "plt.ylabel(\"Count\")\n",
    "plt.title(\"Distribution of Rating\")\n",
    "plt.show()"
   ]
  },
  {
   "cell_type": "markdown",
   "id": "9e5e771e",
   "metadata": {},
   "source": [
    "Suprisingly, the majority of reviews is around the 7-8 range. \n",
    "\n",
    "Since I'm interested in evaluating the sentiment of the reviews, I will binarize `ratings`. If the rating is lower than 8, it will be considered a negative review (0), and if it's higher than 8, it will be considered a postiive review (1)."
   ]
  },
  {
   "cell_type": "code",
   "execution_count": 6,
   "id": "7c2d4370",
   "metadata": {},
   "outputs": [],
   "source": [
    "df_binarized = df.copy()"
   ]
  },
  {
   "cell_type": "code",
   "execution_count": 7,
   "id": "400e69c4",
   "metadata": {},
   "outputs": [
    {
     "data": {
      "text/html": [
       "<div>\n",
       "<style scoped>\n",
       "    .dataframe tbody tr th:only-of-type {\n",
       "        vertical-align: middle;\n",
       "    }\n",
       "\n",
       "    .dataframe tbody tr th {\n",
       "        vertical-align: top;\n",
       "    }\n",
       "\n",
       "    .dataframe thead th {\n",
       "        text-align: right;\n",
       "    }\n",
       "</style>\n",
       "<table border=\"1\" class=\"dataframe\">\n",
       "  <thead>\n",
       "    <tr style=\"text-align: right;\">\n",
       "      <th></th>\n",
       "      <th>description</th>\n",
       "      <th>yearpublished</th>\n",
       "      <th>minplayers</th>\n",
       "      <th>maxplayers</th>\n",
       "      <th>minplaytime</th>\n",
       "      <th>maxplaytime</th>\n",
       "      <th>minage</th>\n",
       "      <th>boardgameexpansion</th>\n",
       "      <th>boardgameimplementation</th>\n",
       "      <th>usersrated</th>\n",
       "      <th>...</th>\n",
       "      <th>Action / Dexterity</th>\n",
       "      <th>Movies / TV / Radio theme</th>\n",
       "      <th>Medieval</th>\n",
       "      <th>Players: Two Player Only Games</th>\n",
       "      <th>Crowdfunding: Kickstarter</th>\n",
       "      <th>rating</th>\n",
       "      <th>comment</th>\n",
       "      <th>number_of_reviews_by_user</th>\n",
       "      <th>avg_rating</th>\n",
       "      <th>comment_length</th>\n",
       "    </tr>\n",
       "  </thead>\n",
       "  <tbody>\n",
       "    <tr>\n",
       "      <th>1</th>\n",
       "      <td>In Pandemic, several virulent diseases have br...</td>\n",
       "      <td>2008</td>\n",
       "      <td>2</td>\n",
       "      <td>4</td>\n",
       "      <td>45</td>\n",
       "      <td>45</td>\n",
       "      <td>8</td>\n",
       "      <td>1</td>\n",
       "      <td>1</td>\n",
       "      <td>109006</td>\n",
       "      <td>...</td>\n",
       "      <td>0</td>\n",
       "      <td>0</td>\n",
       "      <td>0</td>\n",
       "      <td>0</td>\n",
       "      <td>0</td>\n",
       "      <td>1</td>\n",
       "      <td>I tend to either love or easily tire of co-op ...</td>\n",
       "      <td>137</td>\n",
       "      <td>6.175182</td>\n",
       "      <td>76</td>\n",
       "    </tr>\n",
       "    <tr>\n",
       "      <th>2</th>\n",
       "      <td>In Pandemic, several virulent diseases have br...</td>\n",
       "      <td>2008</td>\n",
       "      <td>2</td>\n",
       "      <td>4</td>\n",
       "      <td>45</td>\n",
       "      <td>45</td>\n",
       "      <td>8</td>\n",
       "      <td>1</td>\n",
       "      <td>1</td>\n",
       "      <td>109006</td>\n",
       "      <td>...</td>\n",
       "      <td>0</td>\n",
       "      <td>0</td>\n",
       "      <td>0</td>\n",
       "      <td>0</td>\n",
       "      <td>0</td>\n",
       "      <td>1</td>\n",
       "      <td>This is an amazing co-op game.  I play mostly ...</td>\n",
       "      <td>306</td>\n",
       "      <td>7.035948</td>\n",
       "      <td>62</td>\n",
       "    </tr>\n",
       "    <tr>\n",
       "      <th>3</th>\n",
       "      <td>In Pandemic, several virulent diseases have br...</td>\n",
       "      <td>2008</td>\n",
       "      <td>2</td>\n",
       "      <td>4</td>\n",
       "      <td>45</td>\n",
       "      <td>45</td>\n",
       "      <td>8</td>\n",
       "      <td>1</td>\n",
       "      <td>1</td>\n",
       "      <td>109006</td>\n",
       "      <td>...</td>\n",
       "      <td>0</td>\n",
       "      <td>0</td>\n",
       "      <td>0</td>\n",
       "      <td>0</td>\n",
       "      <td>0</td>\n",
       "      <td>1</td>\n",
       "      <td>Hey! I can finally rate this game I've been pl...</td>\n",
       "      <td>1411</td>\n",
       "      <td>5.974841</td>\n",
       "      <td>217</td>\n",
       "    </tr>\n",
       "    <tr>\n",
       "      <th>4</th>\n",
       "      <td>In Pandemic, several virulent diseases have br...</td>\n",
       "      <td>2008</td>\n",
       "      <td>2</td>\n",
       "      <td>4</td>\n",
       "      <td>45</td>\n",
       "      <td>45</td>\n",
       "      <td>8</td>\n",
       "      <td>1</td>\n",
       "      <td>1</td>\n",
       "      <td>109006</td>\n",
       "      <td>...</td>\n",
       "      <td>0</td>\n",
       "      <td>0</td>\n",
       "      <td>0</td>\n",
       "      <td>0</td>\n",
       "      <td>0</td>\n",
       "      <td>1</td>\n",
       "      <td>Love it- great fun with my son. 2 plays so far...</td>\n",
       "      <td>96</td>\n",
       "      <td>7.385417</td>\n",
       "      <td>16</td>\n",
       "    </tr>\n",
       "    <tr>\n",
       "      <th>5</th>\n",
       "      <td>In Pandemic, several virulent diseases have br...</td>\n",
       "      <td>2008</td>\n",
       "      <td>2</td>\n",
       "      <td>4</td>\n",
       "      <td>45</td>\n",
       "      <td>45</td>\n",
       "      <td>8</td>\n",
       "      <td>1</td>\n",
       "      <td>1</td>\n",
       "      <td>109006</td>\n",
       "      <td>...</td>\n",
       "      <td>0</td>\n",
       "      <td>0</td>\n",
       "      <td>0</td>\n",
       "      <td>0</td>\n",
       "      <td>0</td>\n",
       "      <td>1</td>\n",
       "      <td>Fun, fun game. Strategy is required, but defin...</td>\n",
       "      <td>7</td>\n",
       "      <td>7.285714</td>\n",
       "      <td>99</td>\n",
       "    </tr>\n",
       "  </tbody>\n",
       "</table>\n",
       "<p>5 rows × 47 columns</p>\n",
       "</div>"
      ],
      "text/plain": [
       "                                         description  yearpublished  \\\n",
       "1  In Pandemic, several virulent diseases have br...           2008   \n",
       "2  In Pandemic, several virulent diseases have br...           2008   \n",
       "3  In Pandemic, several virulent diseases have br...           2008   \n",
       "4  In Pandemic, several virulent diseases have br...           2008   \n",
       "5  In Pandemic, several virulent diseases have br...           2008   \n",
       "\n",
       "   minplayers  maxplayers  minplaytime  maxplaytime  minage  \\\n",
       "1           2           4           45           45       8   \n",
       "2           2           4           45           45       8   \n",
       "3           2           4           45           45       8   \n",
       "4           2           4           45           45       8   \n",
       "5           2           4           45           45       8   \n",
       "\n",
       "   boardgameexpansion  boardgameimplementation  usersrated  ...  \\\n",
       "1                   1                        1      109006  ...   \n",
       "2                   1                        1      109006  ...   \n",
       "3                   1                        1      109006  ...   \n",
       "4                   1                        1      109006  ...   \n",
       "5                   1                        1      109006  ...   \n",
       "\n",
       "   Action / Dexterity  Movies / TV / Radio theme  Medieval  \\\n",
       "1                   0                          0         0   \n",
       "2                   0                          0         0   \n",
       "3                   0                          0         0   \n",
       "4                   0                          0         0   \n",
       "5                   0                          0         0   \n",
       "\n",
       "   Players: Two Player Only Games  Crowdfunding: Kickstarter  rating  \\\n",
       "1                               0                          0       1   \n",
       "2                               0                          0       1   \n",
       "3                               0                          0       1   \n",
       "4                               0                          0       1   \n",
       "5                               0                          0       1   \n",
       "\n",
       "                                             comment  \\\n",
       "1  I tend to either love or easily tire of co-op ...   \n",
       "2  This is an amazing co-op game.  I play mostly ...   \n",
       "3  Hey! I can finally rate this game I've been pl...   \n",
       "4  Love it- great fun with my son. 2 plays so far...   \n",
       "5  Fun, fun game. Strategy is required, but defin...   \n",
       "\n",
       "   number_of_reviews_by_user  avg_rating  comment_length  \n",
       "1                        137    6.175182              76  \n",
       "2                        306    7.035948              62  \n",
       "3                       1411    5.974841             217  \n",
       "4                         96    7.385417              16  \n",
       "5                          7    7.285714              99  \n",
       "\n",
       "[5 rows x 47 columns]"
      ]
     },
     "execution_count": 7,
     "metadata": {},
     "output_type": "execute_result"
    }
   ],
   "source": [
    "\n",
    "df_binarized[\"rating\"] = np.where(df_binarized[\"rating\"] >= 8, 1, 0)\n",
    "df_binarized.head()"
   ]
  },
  {
   "cell_type": "markdown",
   "id": "84b98f5f",
   "metadata": {},
   "source": [
    "Now, I will take a look at the distribution now that it's been binarized to see if the classes are balanced."
   ]
  },
  {
   "cell_type": "code",
   "execution_count": 8,
   "id": "816c8af9",
   "metadata": {
    "scrolled": true
   },
   "outputs": [
    {
     "data": {
      "image/png": "[encoded data removed]",
      "text/plain": [
       "<Figure size 432x288 with 1 Axes>"
      ]
     },
     "metadata": {
      "needs_background": "light"
     },
     "output_type": "display_data"
    }
   ],
   "source": [
    "# distribution of reviews\n",
    "plt.figure()\n",
    "plt.bar(df_binarized[\"rating\"].value_counts().index,\n",
    "        df_binarized[\"rating\"].value_counts().values)\n",
    "plt.xlabel(\"Sentiment\")\n",
    "plt.ylabel(\"Count\")\n",
    "plt.title(\"Distribution of the Sentiment of Ratings\")\n",
    "plt.show()"
   ]
  },
  {
   "cell_type": "markdown",
   "id": "b09882c0",
   "metadata": {},
   "source": [
    "The classes aren't perfectly balanced, but they look close to being well-balanced. I will check the class-distribution."
   ]
  },
  {
   "cell_type": "code",
   "execution_count": 9,
   "id": "3c6c3c3a",
   "metadata": {},
   "outputs": [
    {
     "name": "stdout",
     "output_type": "stream",
     "text": [
      "Class imbalance: [0.59 0.41]\n"
     ]
    }
   ],
   "source": [
    "values, counts = np.unique(df_binarized['rating'], return_counts=True)\n",
    "normalized_counts = counts/counts.sum()\n",
    "print(f\"Class imbalance: {np.round(normalized_counts, 2)}\")"
   ]
  },
  {
   "cell_type": "markdown",
   "id": "aef9b1dc",
   "metadata": {},
   "source": [
    "The class imbalance is 0.59 to 0.41. This is close enough to being balanced that I will not deal with the class imablance.\n",
    "\n",
    "I will save this dataset."
   ]
  },
  {
   "cell_type": "code",
   "execution_count": 10,
   "id": "9da31829",
   "metadata": {},
   "outputs": [],
   "source": [
    "# joblib.dump(df_binarized, \"data/data_final.pkl\")"
   ]
  },
  {
   "cell_type": "markdown",
   "id": "64888d88",
   "metadata": {},
   "source": [
    "### Reviews"
   ]
  },
  {
   "cell_type": "markdown",
   "id": "8b84e6bf",
   "metadata": {},
   "source": [
    "#### Is there a difference in ratings given between those who leave comments and those who don't?\n",
    "Next, I will further explore the data. I want to explore the original `reviews` dataframe to understand if there's a significant difference in the ratings given by people who leave comment versus those who don't.\n",
    "\n",
    "First, I'll read in this data:"
   ]
  },
  {
   "cell_type": "code",
   "execution_count": 11,
   "id": "30cad9db",
   "metadata": {},
   "outputs": [
    {
     "data": {
      "text/html": [
       "<div>\n",
       "<style scoped>\n",
       "    .dataframe tbody tr th:only-of-type {\n",
       "        vertical-align: middle;\n",
       "    }\n",
       "\n",
       "    .dataframe tbody tr th {\n",
       "        vertical-align: top;\n",
       "    }\n",
       "\n",
       "    .dataframe thead th {\n",
       "        text-align: right;\n",
       "    }\n",
       "</style>\n",
       "<table border=\"1\" class=\"dataframe\">\n",
       "  <thead>\n",
       "    <tr style=\"text-align: right;\">\n",
       "      <th></th>\n",
       "      <th>Unnamed: 0</th>\n",
       "      <th>user</th>\n",
       "      <th>rating</th>\n",
       "      <th>comment</th>\n",
       "      <th>ID</th>\n",
       "      <th>name</th>\n",
       "    </tr>\n",
       "  </thead>\n",
       "  <tbody>\n",
       "    <tr>\n",
       "      <th>0</th>\n",
       "      <td>0</td>\n",
       "      <td>Torsten</td>\n",
       "      <td>10.0</td>\n",
       "      <td>NaN</td>\n",
       "      <td>30549</td>\n",
       "      <td>Pandemic</td>\n",
       "    </tr>\n",
       "    <tr>\n",
       "      <th>1</th>\n",
       "      <td>1</td>\n",
       "      <td>mitnachtKAUBO-I</td>\n",
       "      <td>10.0</td>\n",
       "      <td>Hands down my favorite new game of BGG CON 200...</td>\n",
       "      <td>30549</td>\n",
       "      <td>Pandemic</td>\n",
       "    </tr>\n",
       "    <tr>\n",
       "      <th>2</th>\n",
       "      <td>2</td>\n",
       "      <td>avlawn</td>\n",
       "      <td>10.0</td>\n",
       "      <td>I tend to either love or easily tire of co-op ...</td>\n",
       "      <td>30549</td>\n",
       "      <td>Pandemic</td>\n",
       "    </tr>\n",
       "    <tr>\n",
       "      <th>3</th>\n",
       "      <td>3</td>\n",
       "      <td>Mike Mayer</td>\n",
       "      <td>10.0</td>\n",
       "      <td>NaN</td>\n",
       "      <td>30549</td>\n",
       "      <td>Pandemic</td>\n",
       "    </tr>\n",
       "    <tr>\n",
       "      <th>4</th>\n",
       "      <td>4</td>\n",
       "      <td>Mease19</td>\n",
       "      <td>10.0</td>\n",
       "      <td>This is an amazing co-op game.  I play mostly ...</td>\n",
       "      <td>30549</td>\n",
       "      <td>Pandemic</td>\n",
       "    </tr>\n",
       "  </tbody>\n",
       "</table>\n",
       "</div>"
      ],
      "text/plain": [
       "   Unnamed: 0             user  rating  \\\n",
       "0           0          Torsten    10.0   \n",
       "1           1  mitnachtKAUBO-I    10.0   \n",
       "2           2           avlawn    10.0   \n",
       "3           3       Mike Mayer    10.0   \n",
       "4           4          Mease19    10.0   \n",
       "\n",
       "                                             comment     ID      name  \n",
       "0                                                NaN  30549  Pandemic  \n",
       "1  Hands down my favorite new game of BGG CON 200...  30549  Pandemic  \n",
       "2  I tend to either love or easily tire of co-op ...  30549  Pandemic  \n",
       "3                                                NaN  30549  Pandemic  \n",
       "4  This is an amazing co-op game.  I play mostly ...  30549  Pandemic  "
      ]
     },
     "execution_count": 11,
     "metadata": {},
     "output_type": "execute_result"
    }
   ],
   "source": [
    "reviews = pd.read_csv(\"data/bgg-19m-reviews.csv\")\n",
    "\n",
    "# sanity check\n",
    "reviews.head()"
   ]
  },
  {
   "cell_type": "markdown",
   "id": "3a0693c6",
   "metadata": {},
   "source": [
    "Then, I'll mark all the null rows as 0 and all the rows with comments as 1."
   ]
  },
  {
   "cell_type": "code",
   "execution_count": 12,
   "id": "c77ad277",
   "metadata": {},
   "outputs": [],
   "source": [
    "reviews[\"comment\"] = np.where(reviews[\"comment\"].isna(), 0, 1)"
   ]
  },
  {
   "cell_type": "code",
   "execution_count": 13,
   "id": "d008b675",
   "metadata": {},
   "outputs": [
    {
     "data": {
      "text/html": [
       "<div>\n",
       "<style scoped>\n",
       "    .dataframe tbody tr th:only-of-type {\n",
       "        vertical-align: middle;\n",
       "    }\n",
       "\n",
       "    .dataframe tbody tr th {\n",
       "        vertical-align: top;\n",
       "    }\n",
       "\n",
       "    .dataframe thead th {\n",
       "        text-align: right;\n",
       "    }\n",
       "</style>\n",
       "<table border=\"1\" class=\"dataframe\">\n",
       "  <thead>\n",
       "    <tr style=\"text-align: right;\">\n",
       "      <th></th>\n",
       "      <th>Unnamed: 0</th>\n",
       "      <th>user</th>\n",
       "      <th>rating</th>\n",
       "      <th>comment</th>\n",
       "      <th>ID</th>\n",
       "      <th>name</th>\n",
       "    </tr>\n",
       "  </thead>\n",
       "  <tbody>\n",
       "    <tr>\n",
       "      <th>0</th>\n",
       "      <td>0</td>\n",
       "      <td>Torsten</td>\n",
       "      <td>10.0</td>\n",
       "      <td>0</td>\n",
       "      <td>30549</td>\n",
       "      <td>Pandemic</td>\n",
       "    </tr>\n",
       "    <tr>\n",
       "      <th>1</th>\n",
       "      <td>1</td>\n",
       "      <td>mitnachtKAUBO-I</td>\n",
       "      <td>10.0</td>\n",
       "      <td>1</td>\n",
       "      <td>30549</td>\n",
       "      <td>Pandemic</td>\n",
       "    </tr>\n",
       "    <tr>\n",
       "      <th>2</th>\n",
       "      <td>2</td>\n",
       "      <td>avlawn</td>\n",
       "      <td>10.0</td>\n",
       "      <td>1</td>\n",
       "      <td>30549</td>\n",
       "      <td>Pandemic</td>\n",
       "    </tr>\n",
       "    <tr>\n",
       "      <th>3</th>\n",
       "      <td>3</td>\n",
       "      <td>Mike Mayer</td>\n",
       "      <td>10.0</td>\n",
       "      <td>0</td>\n",
       "      <td>30549</td>\n",
       "      <td>Pandemic</td>\n",
       "    </tr>\n",
       "    <tr>\n",
       "      <th>4</th>\n",
       "      <td>4</td>\n",
       "      <td>Mease19</td>\n",
       "      <td>10.0</td>\n",
       "      <td>1</td>\n",
       "      <td>30549</td>\n",
       "      <td>Pandemic</td>\n",
       "    </tr>\n",
       "  </tbody>\n",
       "</table>\n",
       "</div>"
      ],
      "text/plain": [
       "   Unnamed: 0             user  rating  comment     ID      name\n",
       "0           0          Torsten    10.0        0  30549  Pandemic\n",
       "1           1  mitnachtKAUBO-I    10.0        1  30549  Pandemic\n",
       "2           2           avlawn    10.0        1  30549  Pandemic\n",
       "3           3       Mike Mayer    10.0        0  30549  Pandemic\n",
       "4           4          Mease19    10.0        1  30549  Pandemic"
      ]
     },
     "execution_count": 13,
     "metadata": {},
     "output_type": "execute_result"
    }
   ],
   "source": [
    "# sanity check\n",
    "reviews.head()"
   ]
  },
  {
   "cell_type": "markdown",
   "id": "9041f2ee",
   "metadata": {},
   "source": [
    "I will now plot this:"
   ]
  },
  {
   "cell_type": "code",
   "execution_count": 14,
   "id": "50a7a4ac",
   "metadata": {},
   "outputs": [
    {
     "data": {
      "image/png": "[encoded data removed]",
      "text/plain": [
       "<Figure size 432x288 with 1 Axes>"
      ]
     },
     "metadata": {
      "needs_background": "light"
     },
     "output_type": "display_data"
    }
   ],
   "source": [
    "plt.figure()\n",
    "sns.boxplot(x=\"comment\", y=\"rating\", data=reviews)\n",
    "plt.title(\"Distribution of Ratings if Comment was Present vs Absent\")\n",
    "plt.show()"
   ]
  },
  {
   "cell_type": "markdown",
   "id": "610a971e",
   "metadata": {},
   "source": [
    "Surprisingly, the ratings are the same. I would have expected there to be a difference, as people who leave comments might have particularly strong positive or negative feelings about the game. However, it's important to keep in mind that some of the comments are just changes in the score, so this may be affecting what is seen here."
   ]
  },
  {
   "cell_type": "markdown",
   "id": "e560befb",
   "metadata": {},
   "source": [
    "#### Do people who give more reviews give lower ratings?\n",
    "I'm also interested in knowing if people who give more comments are more likely to give a more positive or negative review. For example, if someone leaves more comments, they might have more experience playing different board games, and therefore, have higher expecations, resulting in lower ratings by them."
   ]
  },
  {
   "cell_type": "code",
   "execution_count": 15,
   "id": "149d493f",
   "metadata": {},
   "outputs": [],
   "source": [
    "reviews_clean = joblib.load(\"data/reviews_clean_final.pkl\")"
   ]
  },
  {
   "cell_type": "code",
   "execution_count": 16,
   "id": "b04a3632",
   "metadata": {},
   "outputs": [
    {
     "data": {
      "text/html": [
       "<div>\n",
       "<style scoped>\n",
       "    .dataframe tbody tr th:only-of-type {\n",
       "        vertical-align: middle;\n",
       "    }\n",
       "\n",
       "    .dataframe tbody tr th {\n",
       "        vertical-align: top;\n",
       "    }\n",
       "\n",
       "    .dataframe thead th {\n",
       "        text-align: right;\n",
       "    }\n",
       "</style>\n",
       "<table border=\"1\" class=\"dataframe\">\n",
       "  <thead>\n",
       "    <tr style=\"text-align: right;\">\n",
       "      <th></th>\n",
       "      <th>index</th>\n",
       "      <th>user</th>\n",
       "      <th>rating</th>\n",
       "      <th>comment</th>\n",
       "      <th>ID</th>\n",
       "      <th>name</th>\n",
       "    </tr>\n",
       "  </thead>\n",
       "  <tbody>\n",
       "    <tr>\n",
       "      <th>1</th>\n",
       "      <td>1</td>\n",
       "      <td>avlawn</td>\n",
       "      <td>10.0</td>\n",
       "      <td>I tend to either love or easily tire of co-op ...</td>\n",
       "      <td>30549</td>\n",
       "      <td>Pandemic</td>\n",
       "    </tr>\n",
       "    <tr>\n",
       "      <th>2</th>\n",
       "      <td>2</td>\n",
       "      <td>Mease19</td>\n",
       "      <td>10.0</td>\n",
       "      <td>This is an amazing co-op game.  I play mostly ...</td>\n",
       "      <td>30549</td>\n",
       "      <td>Pandemic</td>\n",
       "    </tr>\n",
       "    <tr>\n",
       "      <th>3</th>\n",
       "      <td>3</td>\n",
       "      <td>cfarrell</td>\n",
       "      <td>10.0</td>\n",
       "      <td>Hey! I can finally rate this game I've been pl...</td>\n",
       "      <td>30549</td>\n",
       "      <td>Pandemic</td>\n",
       "    </tr>\n",
       "    <tr>\n",
       "      <th>4</th>\n",
       "      <td>4</td>\n",
       "      <td>gregd</td>\n",
       "      <td>10.0</td>\n",
       "      <td>Love it- great fun with my son. 2 plays so far...</td>\n",
       "      <td>30549</td>\n",
       "      <td>Pandemic</td>\n",
       "    </tr>\n",
       "    <tr>\n",
       "      <th>5</th>\n",
       "      <td>5</td>\n",
       "      <td>calbearfan</td>\n",
       "      <td>10.0</td>\n",
       "      <td>Fun, fun game. Strategy is required, but defin...</td>\n",
       "      <td>30549</td>\n",
       "      <td>Pandemic</td>\n",
       "    </tr>\n",
       "  </tbody>\n",
       "</table>\n",
       "</div>"
      ],
      "text/plain": [
       "   index        user  rating  \\\n",
       "1      1      avlawn    10.0   \n",
       "2      2     Mease19    10.0   \n",
       "3      3    cfarrell    10.0   \n",
       "4      4       gregd    10.0   \n",
       "5      5  calbearfan    10.0   \n",
       "\n",
       "                                             comment     ID      name  \n",
       "1  I tend to either love or easily tire of co-op ...  30549  Pandemic  \n",
       "2  This is an amazing co-op game.  I play mostly ...  30549  Pandemic  \n",
       "3  Hey! I can finally rate this game I've been pl...  30549  Pandemic  \n",
       "4  Love it- great fun with my son. 2 plays so far...  30549  Pandemic  \n",
       "5  Fun, fun game. Strategy is required, but defin...  30549  Pandemic  "
      ]
     },
     "execution_count": 16,
     "metadata": {},
     "output_type": "execute_result"
    }
   ],
   "source": [
    "reviews_clean.head()"
   ]
  },
  {
   "cell_type": "code",
   "execution_count": 17,
   "id": "7327dc2e",
   "metadata": {},
   "outputs": [
    {
     "data": {
      "text/html": [
       "<div>\n",
       "<style scoped>\n",
       "    .dataframe tbody tr th:only-of-type {\n",
       "        vertical-align: middle;\n",
       "    }\n",
       "\n",
       "    .dataframe tbody tr th {\n",
       "        vertical-align: top;\n",
       "    }\n",
       "\n",
       "    .dataframe thead th {\n",
       "        text-align: right;\n",
       "    }\n",
       "</style>\n",
       "<table border=\"1\" class=\"dataframe\">\n",
       "  <thead>\n",
       "    <tr style=\"text-align: right;\">\n",
       "      <th></th>\n",
       "      <th>user</th>\n",
       "      <th>count</th>\n",
       "      <th>avg_rating</th>\n",
       "    </tr>\n",
       "  </thead>\n",
       "  <tbody>\n",
       "    <tr>\n",
       "      <th>0</th>\n",
       "      <td>Fu_Koios</td>\n",
       "      <td>2</td>\n",
       "      <td>9.000000</td>\n",
       "    </tr>\n",
       "    <tr>\n",
       "      <th>1</th>\n",
       "      <td>beastvol</td>\n",
       "      <td>9</td>\n",
       "      <td>7.333333</td>\n",
       "    </tr>\n",
       "    <tr>\n",
       "      <th>2</th>\n",
       "      <td>mycroft</td>\n",
       "      <td>14</td>\n",
       "      <td>7.521429</td>\n",
       "    </tr>\n",
       "    <tr>\n",
       "      <th>3</th>\n",
       "      <td>woh</td>\n",
       "      <td>5</td>\n",
       "      <td>7.400000</td>\n",
       "    </tr>\n",
       "    <tr>\n",
       "      <th>4</th>\n",
       "      <td>(mostly) harmless</td>\n",
       "      <td>1</td>\n",
       "      <td>9.000000</td>\n",
       "    </tr>\n",
       "  </tbody>\n",
       "</table>\n",
       "</div>"
      ],
      "text/plain": [
       "                user  count  avg_rating\n",
       "0          Fu_Koios       2    9.000000\n",
       "1           beastvol      9    7.333333\n",
       "2            mycroft     14    7.521429\n",
       "3                woh      5    7.400000\n",
       "4  (mostly) harmless      1    9.000000"
      ]
     },
     "execution_count": 17,
     "metadata": {},
     "output_type": "execute_result"
    }
   ],
   "source": [
    "users = reviews.groupby(\"user\").agg(count=(\"comment\", \"size\"), \n",
    "                                          avg_rating=(\"rating\", \"mean\")).reset_index()\n",
    "# sanity check\n",
    "users.head()"
   ]
  },
  {
   "cell_type": "markdown",
   "id": "2fefcfe4",
   "metadata": {},
   "source": [
    "Now, I will look at the scatter plot between the number of reviews and average score."
   ]
  },
  {
   "cell_type": "code",
   "execution_count": 18,
   "id": "3fe025f5",
   "metadata": {},
   "outputs": [
    {
     "data": {
      "image/png": "[encoded data removed]",
      "text/plain": [
       "<Figure size 432x288 with 1 Axes>"
      ]
     },
     "metadata": {
      "needs_background": "light"
     },
     "output_type": "display_data"
    }
   ],
   "source": [
    "plt.figure()\n",
    "sns.scatterplot(x=\"count\", y=\"avg_rating\", data=users, alpha=0.3)\n",
    "plt.xlabel(\"Number of Reviews Given by User\")\n",
    "plt.ylabel(\"Average Score of Ratings Given by User\")\n",
    "plt.title(\"Comparison of Average Score and Number of Reviews Given by Each User\")\n",
    "plt.show()"
   ]
  },
  {
   "cell_type": "markdown",
   "id": "11d7a263",
   "metadata": {},
   "source": [
    "By the looks of it, for the those who left only a few ratings, appear to have a wide range for scores, particularly concentrated on whole numbers. For those who leave more reviews, there seems to be a less wide range, with a range narrowing, the more reviews they give, and averaging out around the 7 mark."
   ]
  },
  {
   "cell_type": "markdown",
   "id": "86d85f05",
   "metadata": {},
   "source": [
    "Now, I will look at the distrbution of the average rating by users."
   ]
  },
  {
   "cell_type": "code",
   "execution_count": 19,
   "id": "409452ce",
   "metadata": {},
   "outputs": [
    {
     "data": {
      "image/png": "[encoded data removed]",
      "text/plain": [
       "<Figure size 432x288 with 1 Axes>"
      ]
     },
     "metadata": {
      "needs_background": "light"
     },
     "output_type": "display_data"
    }
   ],
   "source": [
    "plt.figure()\n",
    "sns.histplot(x=\"avg_rating\", data=users, bins=10)\n",
    "plt.xlabel(\"Average Rating by User\")\n",
    "plt.title(\"Distribution of Average Rating for Each User\")\n",
    "plt.show()"
   ]
  },
  {
   "cell_type": "markdown",
   "id": "0f4507b4",
   "metadata": {},
   "source": [
    "The average rating appears to be around 7, as observed in the previous graph."
   ]
  },
  {
   "cell_type": "markdown",
   "id": "e06e43f6",
   "metadata": {},
   "source": [
    "Next, I will look at the distribution of the number of reviews a user gives."
   ]
  },
  {
   "cell_type": "code",
   "execution_count": 20,
   "id": "d224d6c7",
   "metadata": {},
   "outputs": [
    {
     "data": {
      "image/png": "[encoded data removed]",
      "text/plain": [
       "<Figure size 720x576 with 1 Axes>"
      ]
     },
     "metadata": {
      "needs_background": "light"
     },
     "output_type": "display_data"
    }
   ],
   "source": [
    "plt.figure(figsize=(10,8))\n",
    "sns.histplot(x=\"count\", data=users, bins=100)\n",
    "plt.xlabel(\"Number of Reviews\")\n",
    "plt.title(\"Distibution of the Number of Reviews for Each User\")\n",
    "plt.show()"
   ]
  },
  {
   "cell_type": "markdown",
   "id": "5486ca7c",
   "metadata": {},
   "source": [
    "### Difference in Sentiment for Ratings\n",
    "But is there a difference in sentiment for people who leave more reviews vs those who don't?"
   ]
  },
  {
   "cell_type": "code",
   "execution_count": 21,
   "id": "07137c6f",
   "metadata": {},
   "outputs": [
    {
     "data": {
      "image/png": "[encoded data removed]",
      "text/plain": [
       "<Figure size 432x288 with 1 Axes>"
      ]
     },
     "metadata": {
      "needs_background": "light"
     },
     "output_type": "display_data"
    }
   ],
   "source": [
    "plt.figure()\n",
    "sns.boxplot(x=\"rating\", y=\"number_of_reviews_by_user\", data=df_binarized)\n",
    "plt.show()"
   ]
  },
  {
   "cell_type": "markdown",
   "id": "8807063b",
   "metadata": {},
   "source": [
    "The people who give positive scores tend to give fewer reviews."
   ]
  },
  {
   "cell_type": "markdown",
   "id": "cceaa0ef",
   "metadata": {},
   "source": [
    "### Games DataFrame\n",
    "Next, I'm interested in exploring more about some of the features about the games. Since this information is now repeated several times due to being concatenated with `reviews`, I will look at the cleaned games dataframe."
   ]
  },
  {
   "cell_type": "code",
   "execution_count": 22,
   "id": "352d9851",
   "metadata": {},
   "outputs": [
    {
     "data": {
      "text/html": [
       "<div>\n",
       "<style scoped>\n",
       "    .dataframe tbody tr th:only-of-type {\n",
       "        vertical-align: middle;\n",
       "    }\n",
       "\n",
       "    .dataframe tbody tr th {\n",
       "        vertical-align: top;\n",
       "    }\n",
       "\n",
       "    .dataframe thead th {\n",
       "        text-align: right;\n",
       "    }\n",
       "</style>\n",
       "<table border=\"1\" class=\"dataframe\">\n",
       "  <thead>\n",
       "    <tr style=\"text-align: right;\">\n",
       "      <th></th>\n",
       "      <th>id</th>\n",
       "      <th>primary</th>\n",
       "      <th>description</th>\n",
       "      <th>yearpublished</th>\n",
       "      <th>minplayers</th>\n",
       "      <th>maxplayers</th>\n",
       "      <th>minplaytime</th>\n",
       "      <th>maxplaytime</th>\n",
       "      <th>minage</th>\n",
       "      <th>boardgameexpansion</th>\n",
       "      <th>...</th>\n",
       "      <th>Bluffing</th>\n",
       "      <th>Humor</th>\n",
       "      <th>Adventure</th>\n",
       "      <th>Deduction</th>\n",
       "      <th>Miniatures</th>\n",
       "      <th>Action / Dexterity</th>\n",
       "      <th>Movies / TV / Radio theme</th>\n",
       "      <th>Medieval</th>\n",
       "      <th>Players: Two Player Only Games</th>\n",
       "      <th>Crowdfunding: Kickstarter</th>\n",
       "    </tr>\n",
       "  </thead>\n",
       "  <tbody>\n",
       "    <tr>\n",
       "      <th>0</th>\n",
       "      <td>30549</td>\n",
       "      <td>Pandemic</td>\n",
       "      <td>In Pandemic, several virulent diseases have br...</td>\n",
       "      <td>2008</td>\n",
       "      <td>2</td>\n",
       "      <td>4</td>\n",
       "      <td>45</td>\n",
       "      <td>45</td>\n",
       "      <td>8</td>\n",
       "      <td>1</td>\n",
       "      <td>...</td>\n",
       "      <td>0</td>\n",
       "      <td>0</td>\n",
       "      <td>0</td>\n",
       "      <td>0</td>\n",
       "      <td>0</td>\n",
       "      <td>0</td>\n",
       "      <td>0</td>\n",
       "      <td>0</td>\n",
       "      <td>0</td>\n",
       "      <td>0</td>\n",
       "    </tr>\n",
       "    <tr>\n",
       "      <th>1</th>\n",
       "      <td>822</td>\n",
       "      <td>Carcassonne</td>\n",
       "      <td>Carcassonne is a tile-placement game in which ...</td>\n",
       "      <td>2000</td>\n",
       "      <td>2</td>\n",
       "      <td>5</td>\n",
       "      <td>30</td>\n",
       "      <td>45</td>\n",
       "      <td>7</td>\n",
       "      <td>1</td>\n",
       "      <td>...</td>\n",
       "      <td>0</td>\n",
       "      <td>0</td>\n",
       "      <td>0</td>\n",
       "      <td>0</td>\n",
       "      <td>0</td>\n",
       "      <td>0</td>\n",
       "      <td>0</td>\n",
       "      <td>1</td>\n",
       "      <td>0</td>\n",
       "      <td>0</td>\n",
       "    </tr>\n",
       "    <tr>\n",
       "      <th>2</th>\n",
       "      <td>13</td>\n",
       "      <td>Catan</td>\n",
       "      <td>In CATAN (formerly The Settlers of Catan), pla...</td>\n",
       "      <td>1995</td>\n",
       "      <td>3</td>\n",
       "      <td>4</td>\n",
       "      <td>60</td>\n",
       "      <td>120</td>\n",
       "      <td>10</td>\n",
       "      <td>1</td>\n",
       "      <td>...</td>\n",
       "      <td>0</td>\n",
       "      <td>0</td>\n",
       "      <td>0</td>\n",
       "      <td>0</td>\n",
       "      <td>0</td>\n",
       "      <td>0</td>\n",
       "      <td>0</td>\n",
       "      <td>0</td>\n",
       "      <td>0</td>\n",
       "      <td>0</td>\n",
       "    </tr>\n",
       "    <tr>\n",
       "      <th>3</th>\n",
       "      <td>68448</td>\n",
       "      <td>7 Wonders</td>\n",
       "      <td>You are the leader of one of the 7 great citie...</td>\n",
       "      <td>2010</td>\n",
       "      <td>2</td>\n",
       "      <td>7</td>\n",
       "      <td>30</td>\n",
       "      <td>30</td>\n",
       "      <td>10</td>\n",
       "      <td>1</td>\n",
       "      <td>...</td>\n",
       "      <td>0</td>\n",
       "      <td>0</td>\n",
       "      <td>0</td>\n",
       "      <td>0</td>\n",
       "      <td>0</td>\n",
       "      <td>0</td>\n",
       "      <td>0</td>\n",
       "      <td>0</td>\n",
       "      <td>0</td>\n",
       "      <td>0</td>\n",
       "    </tr>\n",
       "    <tr>\n",
       "      <th>4</th>\n",
       "      <td>36218</td>\n",
       "      <td>Dominion</td>\n",
       "      <td>&amp;quot;You are a monarch, like your parents bef...</td>\n",
       "      <td>2008</td>\n",
       "      <td>2</td>\n",
       "      <td>4</td>\n",
       "      <td>30</td>\n",
       "      <td>30</td>\n",
       "      <td>13</td>\n",
       "      <td>1</td>\n",
       "      <td>...</td>\n",
       "      <td>0</td>\n",
       "      <td>0</td>\n",
       "      <td>0</td>\n",
       "      <td>0</td>\n",
       "      <td>0</td>\n",
       "      <td>0</td>\n",
       "      <td>0</td>\n",
       "      <td>1</td>\n",
       "      <td>0</td>\n",
       "      <td>0</td>\n",
       "    </tr>\n",
       "  </tbody>\n",
       "</table>\n",
       "<p>5 rows × 43 columns</p>\n",
       "</div>"
      ],
      "text/plain": [
       "      id      primary                                        description  \\\n",
       "0  30549     Pandemic  In Pandemic, several virulent diseases have br...   \n",
       "1    822  Carcassonne  Carcassonne is a tile-placement game in which ...   \n",
       "2     13        Catan  In CATAN (formerly The Settlers of Catan), pla...   \n",
       "3  68448    7 Wonders  You are the leader of one of the 7 great citie...   \n",
       "4  36218     Dominion  &quot;You are a monarch, like your parents bef...   \n",
       "\n",
       "   yearpublished  minplayers  maxplayers  minplaytime  maxplaytime  minage  \\\n",
       "0           2008           2           4           45           45       8   \n",
       "1           2000           2           5           30           45       7   \n",
       "2           1995           3           4           60          120      10   \n",
       "3           2010           2           7           30           30      10   \n",
       "4           2008           2           4           30           30      13   \n",
       "\n",
       "   boardgameexpansion  ...  Bluffing  Humor  Adventure Deduction  Miniatures  \\\n",
       "0                   1  ...         0      0          0         0           0   \n",
       "1                   1  ...         0      0          0         0           0   \n",
       "2                   1  ...         0      0          0         0           0   \n",
       "3                   1  ...         0      0          0         0           0   \n",
       "4                   1  ...         0      0          0         0           0   \n",
       "\n",
       "   Action / Dexterity  Movies / TV / Radio theme  Medieval  \\\n",
       "0                   0                          0         0   \n",
       "1                   0                          0         1   \n",
       "2                   0                          0         0   \n",
       "3                   0                          0         0   \n",
       "4                   0                          0         1   \n",
       "\n",
       "   Players: Two Player Only Games  Crowdfunding: Kickstarter  \n",
       "0                               0                          0  \n",
       "1                               0                          0  \n",
       "2                               0                          0  \n",
       "3                               0                          0  \n",
       "4                               0                          0  \n",
       "\n",
       "[5 rows x 43 columns]"
      ]
     },
     "execution_count": 22,
     "metadata": {},
     "output_type": "execute_result"
    }
   ],
   "source": [
    "games_clean = joblib.load(\"data/games_wrangled.pkl\")\n",
    "\n",
    "# sanity check\n",
    "games_clean.head()"
   ]
  },
  {
   "cell_type": "markdown",
   "id": "42ade29b",
   "metadata": {},
   "source": [
    "#### Distribution of the Number of Ratings per Game\n",
    "First, I will look at the distribution of the number of ratings per game."
   ]
  },
  {
   "cell_type": "code",
   "execution_count": 23,
   "id": "98bbf83a",
   "metadata": {},
   "outputs": [
    {
     "data": {
      "image/png": "[encoded data removed]",
      "text/plain": [
       "<Figure size 720x720 with 1 Axes>"
      ]
     },
     "metadata": {
      "needs_background": "light"
     },
     "output_type": "display_data"
    }
   ],
   "source": [
    "plt.figure(figsize=(10,10))\n",
    "sns.histplot(x=\"usersrated\", data=games_clean, bins=100)\n",
    "plt.xlabel(\"Number of Users Rated\")\n",
    "plt.title(\"Distribution of Number of Users that Rated Each Game\")\n",
    "plt.show()"
   ]
  },
  {
   "cell_type": "markdown",
   "id": "ef450eb8",
   "metadata": {},
   "source": [
    "This distribution is highly right skewed. The majority seem to lie under 5000 users rated, but there are obviosuly some outliers with a lot more users rating the board game."
   ]
  },
  {
   "cell_type": "markdown",
   "id": "aed47cd5",
   "metadata": {},
   "source": [
    "#### Distribution of the Number of Comments Per Game\n",
    "\n",
    "Next, I will look at the distrbution of the number of comments."
   ]
  },
  {
   "cell_type": "code",
   "execution_count": 24,
   "id": "5d64f364",
   "metadata": {},
   "outputs": [
    {
     "data": {
      "image/png": "[encoded data removed]",
      "text/plain": [
       "<Figure size 720x720 with 1 Axes>"
      ]
     },
     "metadata": {
      "needs_background": "light"
     },
     "output_type": "display_data"
    }
   ],
   "source": [
    "plt.figure(figsize=(10,10))\n",
    "sns.histplot(x=\"numcomments\", data=games_clean, bins=100)\n",
    "plt.xlabel(\"Number of Comments\")\n",
    "plt.title(\"Distribution of the Number of Comments for Each Game\")\n",
    "plt.show()"
   ]
  },
  {
   "cell_type": "markdown",
   "id": "d3193790",
   "metadata": {},
   "source": [
    "This distribution is highly right skewed. The majority of games don't seem to have that many comments, with a few outliers with many comments."
   ]
  },
  {
   "cell_type": "markdown",
   "id": "03a33842",
   "metadata": {},
   "source": [
    "#### Does the Difficulty of the Game Affect its Average Rating?"
   ]
  },
  {
   "cell_type": "markdown",
   "id": "45523c37",
   "metadata": {},
   "source": [
    "The column `averageweight` is the how difficult the game is, as rated by users. I am interested in seeing if there's a relationship with the rating of the game. For example, are more difficult games rated lower or higher?"
   ]
  },
  {
   "cell_type": "code",
   "execution_count": 25,
   "id": "5248a19d",
   "metadata": {},
   "outputs": [
    {
     "data": {
      "image/png": "[encoded data removed]",
      "text/plain": [
       "<Figure size 432x288 with 1 Axes>"
      ]
     },
     "metadata": {
      "needs_background": "light"
     },
     "output_type": "display_data"
    }
   ],
   "source": [
    "plt.figure()\n",
    "sns.scatterplot(x=\"averageweight\", y=\"average\", data=games_clean, alpha=0.2)\n",
    "plt.title(\"Average Difficulty Rating vs Average Rating\")\n",
    "plt.xlabel(\"Average Difficulty\")\n",
    "plt.ylabel(\"Average Game Rating\")\n",
    "plt.show()"
   ]
  },
  {
   "cell_type": "markdown",
   "id": "c78c6b3a",
   "metadata": {},
   "source": [
    "There seems to be a somewhat positive relationship. I will see if this correlation is significant."
   ]
  },
  {
   "cell_type": "code",
   "execution_count": 26,
   "id": "1d02995c",
   "metadata": {},
   "outputs": [
    {
     "name": "stdout",
     "output_type": "stream",
     "text": [
      "Correlation Coefficient: 0.48101200814964185\n",
      "P-value: 0.0\n"
     ]
    }
   ],
   "source": [
    "corr_coef, p_value = stats.pearsonr(games_clean[\"averageweight\"], games_clean[\"average\"])\n",
    "\n",
    "print(\"Correlation Coefficient:\", corr_coef)\n",
    "print(\"P-value:\", p_value)"
   ]
  },
  {
   "cell_type": "markdown",
   "id": "597c6771",
   "metadata": {},
   "source": [
    "The correlation coefficient is 0.481 and the p-value is less than 0.05, suggesting there is a positive correlation and that it's significant. Therefore, I will look at the `reviews_clean` column again and see if certain words that indicate the difficulty or ease of a game changes the rating."
   ]
  },
  {
   "cell_type": "code",
   "execution_count": 27,
   "id": "99709920",
   "metadata": {},
   "outputs": [],
   "source": [
    "reviews_words = reviews_clean.copy()"
   ]
  },
  {
   "cell_type": "code",
   "execution_count": 28,
   "id": "56e044f4",
   "metadata": {},
   "outputs": [],
   "source": [
    "reviews_words[\"contains_difficult\"] = np.where(reviews_words[\"comment\"].str.contains(\"difficult\"),\n",
    "                                               1, 0)"
   ]
  },
  {
   "cell_type": "code",
   "execution_count": 29,
   "id": "6cb506fe",
   "metadata": {
    "scrolled": true
   },
   "outputs": [
    {
     "data": {
      "text/html": [
       "<div>\n",
       "<style scoped>\n",
       "    .dataframe tbody tr th:only-of-type {\n",
       "        vertical-align: middle;\n",
       "    }\n",
       "\n",
       "    .dataframe tbody tr th {\n",
       "        vertical-align: top;\n",
       "    }\n",
       "\n",
       "    .dataframe thead th {\n",
       "        text-align: right;\n",
       "    }\n",
       "</style>\n",
       "<table border=\"1\" class=\"dataframe\">\n",
       "  <thead>\n",
       "    <tr style=\"text-align: right;\">\n",
       "      <th></th>\n",
       "      <th>index</th>\n",
       "      <th>user</th>\n",
       "      <th>rating</th>\n",
       "      <th>comment</th>\n",
       "      <th>ID</th>\n",
       "      <th>name</th>\n",
       "      <th>contains_difficult</th>\n",
       "    </tr>\n",
       "  </thead>\n",
       "  <tbody>\n",
       "    <tr>\n",
       "      <th>1</th>\n",
       "      <td>1</td>\n",
       "      <td>avlawn</td>\n",
       "      <td>10.0</td>\n",
       "      <td>I tend to either love or easily tire of co-op ...</td>\n",
       "      <td>30549</td>\n",
       "      <td>Pandemic</td>\n",
       "      <td>0</td>\n",
       "    </tr>\n",
       "    <tr>\n",
       "      <th>2</th>\n",
       "      <td>2</td>\n",
       "      <td>Mease19</td>\n",
       "      <td>10.0</td>\n",
       "      <td>This is an amazing co-op game.  I play mostly ...</td>\n",
       "      <td>30549</td>\n",
       "      <td>Pandemic</td>\n",
       "      <td>0</td>\n",
       "    </tr>\n",
       "    <tr>\n",
       "      <th>3</th>\n",
       "      <td>3</td>\n",
       "      <td>cfarrell</td>\n",
       "      <td>10.0</td>\n",
       "      <td>Hey! I can finally rate this game I've been pl...</td>\n",
       "      <td>30549</td>\n",
       "      <td>Pandemic</td>\n",
       "      <td>1</td>\n",
       "    </tr>\n",
       "    <tr>\n",
       "      <th>4</th>\n",
       "      <td>4</td>\n",
       "      <td>gregd</td>\n",
       "      <td>10.0</td>\n",
       "      <td>Love it- great fun with my son. 2 plays so far...</td>\n",
       "      <td>30549</td>\n",
       "      <td>Pandemic</td>\n",
       "      <td>0</td>\n",
       "    </tr>\n",
       "    <tr>\n",
       "      <th>5</th>\n",
       "      <td>5</td>\n",
       "      <td>calbearfan</td>\n",
       "      <td>10.0</td>\n",
       "      <td>Fun, fun game. Strategy is required, but defin...</td>\n",
       "      <td>30549</td>\n",
       "      <td>Pandemic</td>\n",
       "      <td>0</td>\n",
       "    </tr>\n",
       "  </tbody>\n",
       "</table>\n",
       "</div>"
      ],
      "text/plain": [
       "   index        user  rating  \\\n",
       "1      1      avlawn    10.0   \n",
       "2      2     Mease19    10.0   \n",
       "3      3    cfarrell    10.0   \n",
       "4      4       gregd    10.0   \n",
       "5      5  calbearfan    10.0   \n",
       "\n",
       "                                             comment     ID      name  \\\n",
       "1  I tend to either love or easily tire of co-op ...  30549  Pandemic   \n",
       "2  This is an amazing co-op game.  I play mostly ...  30549  Pandemic   \n",
       "3  Hey! I can finally rate this game I've been pl...  30549  Pandemic   \n",
       "4  Love it- great fun with my son. 2 plays so far...  30549  Pandemic   \n",
       "5  Fun, fun game. Strategy is required, but defin...  30549  Pandemic   \n",
       "\n",
       "   contains_difficult  \n",
       "1                   0  \n",
       "2                   0  \n",
       "3                   1  \n",
       "4                   0  \n",
       "5                   0  "
      ]
     },
     "execution_count": 29,
     "metadata": {},
     "output_type": "execute_result"
    }
   ],
   "source": [
    "reviews_words.head()"
   ]
  },
  {
   "cell_type": "markdown",
   "id": "d22b42da",
   "metadata": {},
   "source": [
    "The rating appears to be the same. What if I look at the word \"easy\"?"
   ]
  },
  {
   "cell_type": "code",
   "execution_count": 30,
   "id": "fe14acb3",
   "metadata": {},
   "outputs": [
    {
     "data": {
      "text/html": [
       "<div>\n",
       "<style scoped>\n",
       "    .dataframe tbody tr th:only-of-type {\n",
       "        vertical-align: middle;\n",
       "    }\n",
       "\n",
       "    .dataframe tbody tr th {\n",
       "        vertical-align: top;\n",
       "    }\n",
       "\n",
       "    .dataframe thead th {\n",
       "        text-align: right;\n",
       "    }\n",
       "</style>\n",
       "<table border=\"1\" class=\"dataframe\">\n",
       "  <thead>\n",
       "    <tr style=\"text-align: right;\">\n",
       "      <th></th>\n",
       "      <th>index</th>\n",
       "      <th>user</th>\n",
       "      <th>rating</th>\n",
       "      <th>comment</th>\n",
       "      <th>ID</th>\n",
       "      <th>name</th>\n",
       "      <th>contains_difficult</th>\n",
       "      <th>contains_easy</th>\n",
       "    </tr>\n",
       "  </thead>\n",
       "  <tbody>\n",
       "    <tr>\n",
       "      <th>1</th>\n",
       "      <td>1</td>\n",
       "      <td>avlawn</td>\n",
       "      <td>10.0</td>\n",
       "      <td>I tend to either love or easily tire of co-op ...</td>\n",
       "      <td>30549</td>\n",
       "      <td>Pandemic</td>\n",
       "      <td>0</td>\n",
       "      <td>0</td>\n",
       "    </tr>\n",
       "    <tr>\n",
       "      <th>2</th>\n",
       "      <td>2</td>\n",
       "      <td>Mease19</td>\n",
       "      <td>10.0</td>\n",
       "      <td>This is an amazing co-op game.  I play mostly ...</td>\n",
       "      <td>30549</td>\n",
       "      <td>Pandemic</td>\n",
       "      <td>0</td>\n",
       "      <td>0</td>\n",
       "    </tr>\n",
       "    <tr>\n",
       "      <th>3</th>\n",
       "      <td>3</td>\n",
       "      <td>cfarrell</td>\n",
       "      <td>10.0</td>\n",
       "      <td>Hey! I can finally rate this game I've been pl...</td>\n",
       "      <td>30549</td>\n",
       "      <td>Pandemic</td>\n",
       "      <td>1</td>\n",
       "      <td>1</td>\n",
       "    </tr>\n",
       "    <tr>\n",
       "      <th>4</th>\n",
       "      <td>4</td>\n",
       "      <td>gregd</td>\n",
       "      <td>10.0</td>\n",
       "      <td>Love it- great fun with my son. 2 plays so far...</td>\n",
       "      <td>30549</td>\n",
       "      <td>Pandemic</td>\n",
       "      <td>0</td>\n",
       "      <td>0</td>\n",
       "    </tr>\n",
       "    <tr>\n",
       "      <th>5</th>\n",
       "      <td>5</td>\n",
       "      <td>calbearfan</td>\n",
       "      <td>10.0</td>\n",
       "      <td>Fun, fun game. Strategy is required, but defin...</td>\n",
       "      <td>30549</td>\n",
       "      <td>Pandemic</td>\n",
       "      <td>0</td>\n",
       "      <td>0</td>\n",
       "    </tr>\n",
       "  </tbody>\n",
       "</table>\n",
       "</div>"
      ],
      "text/plain": [
       "   index        user  rating  \\\n",
       "1      1      avlawn    10.0   \n",
       "2      2     Mease19    10.0   \n",
       "3      3    cfarrell    10.0   \n",
       "4      4       gregd    10.0   \n",
       "5      5  calbearfan    10.0   \n",
       "\n",
       "                                             comment     ID      name  \\\n",
       "1  I tend to either love or easily tire of co-op ...  30549  Pandemic   \n",
       "2  This is an amazing co-op game.  I play mostly ...  30549  Pandemic   \n",
       "3  Hey! I can finally rate this game I've been pl...  30549  Pandemic   \n",
       "4  Love it- great fun with my son. 2 plays so far...  30549  Pandemic   \n",
       "5  Fun, fun game. Strategy is required, but defin...  30549  Pandemic   \n",
       "\n",
       "   contains_difficult  contains_easy  \n",
       "1                   0              0  \n",
       "2                   0              0  \n",
       "3                   1              1  \n",
       "4                   0              0  \n",
       "5                   0              0  "
      ]
     },
     "execution_count": 30,
     "metadata": {},
     "output_type": "execute_result"
    }
   ],
   "source": [
    "reviews_words[reviews_words[\"comment\"].str.contains(\"easy\")]\n",
    "reviews_words[\"contains_easy\"] = np.where(reviews_words[\"comment\"].str.contains(\"easy\"), 1, 0)\n",
    "reviews_words.head()"
   ]
  },
  {
   "cell_type": "code",
   "execution_count": 31,
   "id": "ce3e6b27",
   "metadata": {},
   "outputs": [
    {
     "data": {
      "image/png": "[encoded data removed]",
      "text/plain": [
       "<Figure size 432x288 with 1 Axes>"
      ]
     },
     "metadata": {
      "needs_background": "light"
     },
     "output_type": "display_data"
    }
   ],
   "source": [
    "plt.figure()\n",
    "sns.boxplot(x=\"contains_easy\", y=\"rating\", data=reviews_words)\n",
    "plt.title(\"Distribution of Ratings Depending on if it contains the word 'easy'\")\n",
    "plt.show()"
   ]
  },
  {
   "cell_type": "markdown",
   "id": "3d26473f",
   "metadata": {},
   "source": [
    "The median of reviews that contain the word \"easy\" is higher. This is quite surprising, as the previous graph would suggest the opposite is true, where more difficult games would be higher rated. This might be because we're losing the context of the whole review. For example, it could be that the review states the game is \"not easy\" to learn, but we don't see this since we're only looking for the word \"easy\"."
   ]
  },
  {
   "cell_type": "markdown",
   "id": "f497cb7b",
   "metadata": {},
   "source": [
    "But, is this slight difference significant? I will look at  median when considering this, using the Mann-Whitney U test."
   ]
  },
  {
   "cell_type": "code",
   "execution_count": 32,
   "id": "f73c5ff5",
   "metadata": {
    "scrolled": true
   },
   "outputs": [
    {
     "data": {
      "text/plain": [
       "1    10.0\n",
       "2    10.0\n",
       "4    10.0\n",
       "5    10.0\n",
       "6    10.0\n",
       "Name: rating, dtype: float64"
      ]
     },
     "execution_count": 32,
     "metadata": {},
     "output_type": "execute_result"
    }
   ],
   "source": [
    "# all the ratings without the word easy\n",
    "no_easy = reviews_words[reviews_words[\"contains_easy\"]==0][\"rating\"]\n",
    "no_easy.head()"
   ]
  },
  {
   "cell_type": "code",
   "execution_count": 33,
   "id": "3a17ffc8",
   "metadata": {},
   "outputs": [
    {
     "data": {
      "text/plain": [
       "3      10.0\n",
       "36     10.0\n",
       "70     10.0\n",
       "132    10.0\n",
       "150    10.0\n",
       "Name: rating, dtype: float64"
      ]
     },
     "execution_count": 33,
     "metadata": {},
     "output_type": "execute_result"
    }
   ],
   "source": [
    "# all the ratings that contain the word easy\n",
    "yes_easy = reviews_words[reviews_words[\"contains_easy\"]==1][\"rating\"]\n",
    "yes_easy.head()"
   ]
  },
  {
   "cell_type": "markdown",
   "id": "a56b5d66",
   "metadata": {},
   "source": [
    "Now, I will test if the differences in the median is significant."
   ]
  },
  {
   "cell_type": "code",
   "execution_count": 34,
   "id": "913f4077",
   "metadata": {},
   "outputs": [
    {
     "data": {
      "text/plain": [
       "MannwhitneyuResult(statistic=212532688409.0, pvalue=0.0)"
      ]
     },
     "execution_count": 34,
     "metadata": {},
     "output_type": "execute_result"
    }
   ],
   "source": [
    "stats.mannwhitneyu(yes_easy, no_easy)"
   ]
  },
  {
   "cell_type": "markdown",
   "id": "6b3e0d32",
   "metadata": {},
   "source": [
    "The p-value is less than 0, meaning that the difference is significant. I will also look to see if there difference in the mean is significant."
   ]
  },
  {
   "cell_type": "code",
   "execution_count": 35,
   "id": "33c0b6da",
   "metadata": {
    "scrolled": false
   },
   "outputs": [
    {
     "data": {
      "text/plain": [
       "Ttest_indResult(statistic=84.63103241735139, pvalue=0.0)"
      ]
     },
     "execution_count": 35,
     "metadata": {},
     "output_type": "execute_result"
    }
   ],
   "source": [
    "stats.ttest_ind(yes_easy, no_easy)"
   ]
  },
  {
   "cell_type": "markdown",
   "id": "78191137",
   "metadata": {},
   "source": [
    "The p-value is also less than 0, meaning this is significant."
   ]
  },
  {
   "cell_type": "markdown",
   "id": "882fa1b2",
   "metadata": {},
   "source": [
    "Mood's test for median's"
   ]
  },
  {
   "cell_type": "code",
   "execution_count": 54,
   "id": "4d25a095",
   "metadata": {},
   "outputs": [],
   "source": [
    "stat, p, med, tbl = stats.median_test(yes_easy, no_easy)"
   ]
  },
  {
   "cell_type": "code",
   "execution_count": 55,
   "id": "75234212",
   "metadata": {},
   "outputs": [
    {
     "data": {
      "text/plain": [
       "0.0"
      ]
     },
     "execution_count": 55,
     "metadata": {},
     "output_type": "execute_result"
    }
   ],
   "source": [
    "p"
   ]
  },
  {
   "cell_type": "code",
   "execution_count": 36,
   "id": "1b3fbdbc",
   "metadata": {
    "scrolled": true
   },
   "outputs": [
    {
     "data": {
      "image/png": "[encoded data removed]",
      "text/plain": [
       "<Figure size 432x288 with 1 Axes>"
      ]
     },
     "metadata": {
      "needs_background": "light"
     },
     "output_type": "display_data"
    }
   ],
   "source": [
    "plt.figure()\n",
    "sns.boxplot(x=\"contains_difficult\", y=\"rating\", data=reviews_words)\n",
    "plt.title(\"Distribution of Rating Depending on if it Contains the Word `Difficult'\")\n",
    "plt.show()"
   ]
  },
  {
   "cell_type": "markdown",
   "id": "1a21b8c4",
   "metadata": {},
   "source": [
    "But what about the sentiment instead of just reviews?"
   ]
  },
  {
   "cell_type": "code",
   "execution_count": 37,
   "id": "05dd0b8d",
   "metadata": {},
   "outputs": [
    {
     "data": {
      "text/html": [
       "<div>\n",
       "<style scoped>\n",
       "    .dataframe tbody tr th:only-of-type {\n",
       "        vertical-align: middle;\n",
       "    }\n",
       "\n",
       "    .dataframe tbody tr th {\n",
       "        vertical-align: top;\n",
       "    }\n",
       "\n",
       "    .dataframe thead th {\n",
       "        text-align: right;\n",
       "    }\n",
       "</style>\n",
       "<table border=\"1\" class=\"dataframe\">\n",
       "  <thead>\n",
       "    <tr style=\"text-align: right;\">\n",
       "      <th></th>\n",
       "      <th>index</th>\n",
       "      <th>user</th>\n",
       "      <th>rating</th>\n",
       "      <th>comment</th>\n",
       "      <th>ID</th>\n",
       "      <th>name</th>\n",
       "      <th>contains_difficult</th>\n",
       "      <th>contains_easy</th>\n",
       "    </tr>\n",
       "  </thead>\n",
       "  <tbody>\n",
       "    <tr>\n",
       "      <th>1</th>\n",
       "      <td>1</td>\n",
       "      <td>avlawn</td>\n",
       "      <td>1</td>\n",
       "      <td>I tend to either love or easily tire of co-op ...</td>\n",
       "      <td>30549</td>\n",
       "      <td>Pandemic</td>\n",
       "      <td>0</td>\n",
       "      <td>0</td>\n",
       "    </tr>\n",
       "    <tr>\n",
       "      <th>2</th>\n",
       "      <td>2</td>\n",
       "      <td>Mease19</td>\n",
       "      <td>1</td>\n",
       "      <td>This is an amazing co-op game.  I play mostly ...</td>\n",
       "      <td>30549</td>\n",
       "      <td>Pandemic</td>\n",
       "      <td>0</td>\n",
       "      <td>0</td>\n",
       "    </tr>\n",
       "    <tr>\n",
       "      <th>3</th>\n",
       "      <td>3</td>\n",
       "      <td>cfarrell</td>\n",
       "      <td>1</td>\n",
       "      <td>Hey! I can finally rate this game I've been pl...</td>\n",
       "      <td>30549</td>\n",
       "      <td>Pandemic</td>\n",
       "      <td>1</td>\n",
       "      <td>1</td>\n",
       "    </tr>\n",
       "    <tr>\n",
       "      <th>4</th>\n",
       "      <td>4</td>\n",
       "      <td>gregd</td>\n",
       "      <td>1</td>\n",
       "      <td>Love it- great fun with my son. 2 plays so far...</td>\n",
       "      <td>30549</td>\n",
       "      <td>Pandemic</td>\n",
       "      <td>0</td>\n",
       "      <td>0</td>\n",
       "    </tr>\n",
       "    <tr>\n",
       "      <th>5</th>\n",
       "      <td>5</td>\n",
       "      <td>calbearfan</td>\n",
       "      <td>1</td>\n",
       "      <td>Fun, fun game. Strategy is required, but defin...</td>\n",
       "      <td>30549</td>\n",
       "      <td>Pandemic</td>\n",
       "      <td>0</td>\n",
       "      <td>0</td>\n",
       "    </tr>\n",
       "  </tbody>\n",
       "</table>\n",
       "</div>"
      ],
      "text/plain": [
       "   index        user  rating  \\\n",
       "1      1      avlawn       1   \n",
       "2      2     Mease19       1   \n",
       "3      3    cfarrell       1   \n",
       "4      4       gregd       1   \n",
       "5      5  calbearfan       1   \n",
       "\n",
       "                                             comment     ID      name  \\\n",
       "1  I tend to either love or easily tire of co-op ...  30549  Pandemic   \n",
       "2  This is an amazing co-op game.  I play mostly ...  30549  Pandemic   \n",
       "3  Hey! I can finally rate this game I've been pl...  30549  Pandemic   \n",
       "4  Love it- great fun with my son. 2 plays so far...  30549  Pandemic   \n",
       "5  Fun, fun game. Strategy is required, but defin...  30549  Pandemic   \n",
       "\n",
       "   contains_difficult  contains_easy  \n",
       "1                   0              0  \n",
       "2                   0              0  \n",
       "3                   1              1  \n",
       "4                   0              0  \n",
       "5                   0              0  "
      ]
     },
     "execution_count": 37,
     "metadata": {},
     "output_type": "execute_result"
    }
   ],
   "source": [
    "reviews_words2 = reviews_words.copy()\n",
    "scores = np.array(reviews_words2[\"rating\"])\n",
    "scores = scores + 0.01\n",
    "reviews_words2[\"rating\"] = scores\n",
    "reviews_words2[\"rating\"] = round(reviews_words2[\"rating\"])\n",
    "reviews_words2[\"rating\"].head()\n",
    "reviews_words2[\"rating\"] = np.where(reviews_words2[\"rating\"] >= 8, 1, 0)\n",
    "reviews_words2.head()"
   ]
  },
  {
   "cell_type": "code",
   "execution_count": 38,
   "id": "3a07687c",
   "metadata": {
    "scrolled": true
   },
   "outputs": [
    {
     "data": {
      "text/plain": [
       "contains_easy  rating\n",
       "0              0         1732090\n",
       "               1         1177784\n",
       "1              0           64628\n",
       "               1           63969\n",
       "Name: rating, dtype: int64"
      ]
     },
     "execution_count": 38,
     "metadata": {},
     "output_type": "execute_result"
    }
   ],
   "source": [
    "sentiment_for_easy = reviews_words2.\\\n",
    "    groupby(reviews_words2[\"contains_easy\"])[\"rating\"].value_counts()\n",
    "sentiment_for_easy.head()"
   ]
  },
  {
   "cell_type": "code",
   "execution_count": 39,
   "id": "08891726",
   "metadata": {
    "scrolled": true
   },
   "outputs": [],
   "source": [
    "sentiment_for_easy = pd.DataFrame(sentiment_for_easy)\n",
    "sentiment_for_easy.columns = [\"Count\"]\n",
    "sentiment_for_easy = sentiment_for_easy.reset_index()"
   ]
  },
  {
   "cell_type": "code",
   "execution_count": 40,
   "id": "19a3fa8f",
   "metadata": {},
   "outputs": [
    {
     "data": {
      "text/html": [
       "<div>\n",
       "<style scoped>\n",
       "    .dataframe tbody tr th:only-of-type {\n",
       "        vertical-align: middle;\n",
       "    }\n",
       "\n",
       "    .dataframe tbody tr th {\n",
       "        vertical-align: top;\n",
       "    }\n",
       "\n",
       "    .dataframe thead th {\n",
       "        text-align: right;\n",
       "    }\n",
       "</style>\n",
       "<table border=\"1\" class=\"dataframe\">\n",
       "  <thead>\n",
       "    <tr style=\"text-align: right;\">\n",
       "      <th></th>\n",
       "      <th>contains_easy</th>\n",
       "      <th>rating</th>\n",
       "      <th>Count</th>\n",
       "    </tr>\n",
       "  </thead>\n",
       "  <tbody>\n",
       "    <tr>\n",
       "      <th>0</th>\n",
       "      <td>0</td>\n",
       "      <td>0</td>\n",
       "      <td>1732090</td>\n",
       "    </tr>\n",
       "    <tr>\n",
       "      <th>1</th>\n",
       "      <td>0</td>\n",
       "      <td>1</td>\n",
       "      <td>1177784</td>\n",
       "    </tr>\n",
       "    <tr>\n",
       "      <th>2</th>\n",
       "      <td>1</td>\n",
       "      <td>0</td>\n",
       "      <td>64628</td>\n",
       "    </tr>\n",
       "    <tr>\n",
       "      <th>3</th>\n",
       "      <td>1</td>\n",
       "      <td>1</td>\n",
       "      <td>63969</td>\n",
       "    </tr>\n",
       "  </tbody>\n",
       "</table>\n",
       "</div>"
      ],
      "text/plain": [
       "   contains_easy  rating    Count\n",
       "0              0       0  1732090\n",
       "1              0       1  1177784\n",
       "2              1       0    64628\n",
       "3              1       1    63969"
      ]
     },
     "execution_count": 40,
     "metadata": {},
     "output_type": "execute_result"
    }
   ],
   "source": [
    "sentiment_for_easy.head()"
   ]
  },
  {
   "cell_type": "code",
   "execution_count": 41,
   "id": "cae6dccf",
   "metadata": {},
   "outputs": [
    {
     "data": {
      "text/html": [
       "<div>\n",
       "<style scoped>\n",
       "    .dataframe tbody tr th:only-of-type {\n",
       "        vertical-align: middle;\n",
       "    }\n",
       "\n",
       "    .dataframe tbody tr th {\n",
       "        vertical-align: top;\n",
       "    }\n",
       "\n",
       "    .dataframe thead th {\n",
       "        text-align: right;\n",
       "    }\n",
       "</style>\n",
       "<table border=\"1\" class=\"dataframe\">\n",
       "  <thead>\n",
       "    <tr style=\"text-align: right;\">\n",
       "      <th>rating</th>\n",
       "      <th>contains_easy</th>\n",
       "      <th>0</th>\n",
       "      <th>1</th>\n",
       "    </tr>\n",
       "  </thead>\n",
       "  <tbody>\n",
       "    <tr>\n",
       "      <th>0</th>\n",
       "      <td>0</td>\n",
       "      <td>1732090</td>\n",
       "      <td>1177784</td>\n",
       "    </tr>\n",
       "    <tr>\n",
       "      <th>1</th>\n",
       "      <td>1</td>\n",
       "      <td>64628</td>\n",
       "      <td>63969</td>\n",
       "    </tr>\n",
       "  </tbody>\n",
       "</table>\n",
       "</div>"
      ],
      "text/plain": [
       "rating  contains_easy        0        1\n",
       "0                   0  1732090  1177784\n",
       "1                   1    64628    63969"
      ]
     },
     "execution_count": 41,
     "metadata": {},
     "output_type": "execute_result"
    }
   ],
   "source": [
    "# pivot positive and negative counts on same row\n",
    "sentiment_for_easy = sentiment_for_easy.pivot(index=\"contains_easy\", columns=\"rating\", \n",
    "                                              values=\"Count\").reset_index()\n",
    "sentiment_for_easy.head()"
   ]
  },
  {
   "cell_type": "code",
   "execution_count": 42,
   "id": "19c4fe5a",
   "metadata": {},
   "outputs": [
    {
     "data": {
      "text/plain": [
       "<BarContainer object of 2 artists>"
      ]
     },
     "execution_count": 42,
     "metadata": {},
     "output_type": "execute_result"
    },
    {
     "data": {
      "image/png": "[encoded data removed]",
      "text/plain": [
       "<Figure size 432x288 with 2 Axes>"
      ]
     },
     "metadata": {
      "needs_background": "light"
     },
     "output_type": "display_data"
    }
   ],
   "source": [
    "plt.subplots(1, 2)\n",
    "plt.subplot(1, 2, 1)\n",
    "plt.title(\"Doesn't Contain Easy\")\n",
    "plt.barh(sentiment_for_easy[\"contains_easy\"],\n",
    "         sentiment_for_easy[0]/(1732090 + 64628))\n",
    "plt.subplot(1, 2, 2)\n",
    "plt.title(\"Contains Easy\")\n",
    "plt.barh(sentiment_for_easy[\"contains_easy\"],\n",
    "         sentiment_for_easy[1]/(1177784 + 63969))"
   ]
  },
  {
   "cell_type": "markdown",
   "id": "a93d35f3",
   "metadata": {},
   "source": [
    "The distribution of the sentiment ratings for those that contain easy and don't contain easy appear to be the same."
   ]
  },
  {
   "cell_type": "markdown",
   "id": "6bc1e31c",
   "metadata": {},
   "source": [
    "#### Are there other words from the reviews that are indicative of the rating the game may get?"
   ]
  },
  {
   "cell_type": "markdown",
   "id": "3d34a14d",
   "metadata": {},
   "source": [
    "I will look at other words as well, such as \"fun\"."
   ]
  },
  {
   "cell_type": "code",
   "execution_count": 43,
   "id": "e10751d1",
   "metadata": {},
   "outputs": [
    {
     "data": {
      "text/html": [
       "<div>\n",
       "<style scoped>\n",
       "    .dataframe tbody tr th:only-of-type {\n",
       "        vertical-align: middle;\n",
       "    }\n",
       "\n",
       "    .dataframe tbody tr th {\n",
       "        vertical-align: top;\n",
       "    }\n",
       "\n",
       "    .dataframe thead th {\n",
       "        text-align: right;\n",
       "    }\n",
       "</style>\n",
       "<table border=\"1\" class=\"dataframe\">\n",
       "  <thead>\n",
       "    <tr style=\"text-align: right;\">\n",
       "      <th></th>\n",
       "      <th>index</th>\n",
       "      <th>user</th>\n",
       "      <th>rating</th>\n",
       "      <th>comment</th>\n",
       "      <th>ID</th>\n",
       "      <th>name</th>\n",
       "      <th>contains_difficult</th>\n",
       "      <th>contains_easy</th>\n",
       "      <th>contains_fun</th>\n",
       "    </tr>\n",
       "  </thead>\n",
       "  <tbody>\n",
       "    <tr>\n",
       "      <th>1</th>\n",
       "      <td>1</td>\n",
       "      <td>avlawn</td>\n",
       "      <td>10.0</td>\n",
       "      <td>I tend to either love or easily tire of co-op ...</td>\n",
       "      <td>30549</td>\n",
       "      <td>Pandemic</td>\n",
       "      <td>0</td>\n",
       "      <td>0</td>\n",
       "      <td>0</td>\n",
       "    </tr>\n",
       "    <tr>\n",
       "      <th>2</th>\n",
       "      <td>2</td>\n",
       "      <td>Mease19</td>\n",
       "      <td>10.0</td>\n",
       "      <td>This is an amazing co-op game.  I play mostly ...</td>\n",
       "      <td>30549</td>\n",
       "      <td>Pandemic</td>\n",
       "      <td>0</td>\n",
       "      <td>0</td>\n",
       "      <td>0</td>\n",
       "    </tr>\n",
       "    <tr>\n",
       "      <th>3</th>\n",
       "      <td>3</td>\n",
       "      <td>cfarrell</td>\n",
       "      <td>10.0</td>\n",
       "      <td>Hey! I can finally rate this game I've been pl...</td>\n",
       "      <td>30549</td>\n",
       "      <td>Pandemic</td>\n",
       "      <td>1</td>\n",
       "      <td>1</td>\n",
       "      <td>0</td>\n",
       "    </tr>\n",
       "    <tr>\n",
       "      <th>4</th>\n",
       "      <td>4</td>\n",
       "      <td>gregd</td>\n",
       "      <td>10.0</td>\n",
       "      <td>Love it- great fun with my son. 2 plays so far...</td>\n",
       "      <td>30549</td>\n",
       "      <td>Pandemic</td>\n",
       "      <td>0</td>\n",
       "      <td>0</td>\n",
       "      <td>1</td>\n",
       "    </tr>\n",
       "    <tr>\n",
       "      <th>5</th>\n",
       "      <td>5</td>\n",
       "      <td>calbearfan</td>\n",
       "      <td>10.0</td>\n",
       "      <td>Fun, fun game. Strategy is required, but defin...</td>\n",
       "      <td>30549</td>\n",
       "      <td>Pandemic</td>\n",
       "      <td>0</td>\n",
       "      <td>0</td>\n",
       "      <td>1</td>\n",
       "    </tr>\n",
       "  </tbody>\n",
       "</table>\n",
       "</div>"
      ],
      "text/plain": [
       "   index        user  rating  \\\n",
       "1      1      avlawn    10.0   \n",
       "2      2     Mease19    10.0   \n",
       "3      3    cfarrell    10.0   \n",
       "4      4       gregd    10.0   \n",
       "5      5  calbearfan    10.0   \n",
       "\n",
       "                                             comment     ID      name  \\\n",
       "1  I tend to either love or easily tire of co-op ...  30549  Pandemic   \n",
       "2  This is an amazing co-op game.  I play mostly ...  30549  Pandemic   \n",
       "3  Hey! I can finally rate this game I've been pl...  30549  Pandemic   \n",
       "4  Love it- great fun with my son. 2 plays so far...  30549  Pandemic   \n",
       "5  Fun, fun game. Strategy is required, but defin...  30549  Pandemic   \n",
       "\n",
       "   contains_difficult  contains_easy  contains_fun  \n",
       "1                   0              0             0  \n",
       "2                   0              0             0  \n",
       "3                   1              1             0  \n",
       "4                   0              0             1  \n",
       "5                   0              0             1  "
      ]
     },
     "execution_count": 43,
     "metadata": {},
     "output_type": "execute_result"
    }
   ],
   "source": [
    "reviews_words[reviews_words[\"comment\"].str.contains(\"fun\")]\n",
    "reviews_words[\"contains_fun\"] = np.where(reviews_words[\"comment\"].str.contains(\"fun\"), 1, 0)\n",
    "reviews_words.head()"
   ]
  },
  {
   "cell_type": "code",
   "execution_count": 44,
   "id": "f607ea0a",
   "metadata": {},
   "outputs": [
    {
     "data": {
      "image/png": "[encoded data removed]",
      "text/plain": [
       "<Figure size 432x288 with 1 Axes>"
      ]
     },
     "metadata": {
      "needs_background": "light"
     },
     "output_type": "display_data"
    }
   ],
   "source": [
    "plt.figure()\n",
    "sns.boxplot(x=\"contains_fun\", y=\"rating\", data=reviews_words)\n",
    "plt.title(\"Distribution of the Ratings Depending on if the Review Contains the Word 'Fun'\")\n",
    "plt.show()"
   ]
  },
  {
   "cell_type": "markdown",
   "id": "bf1c09e7",
   "metadata": {},
   "source": [
    "I will also look at the word \"boring\". I expect the reviews with the word boring to rate lower."
   ]
  },
  {
   "cell_type": "code",
   "execution_count": 45,
   "id": "bf405f1e",
   "metadata": {},
   "outputs": [],
   "source": [
    "reviews_words[\"contains_boring\"] = np.where(reviews_words[\"comment\"].str.contains(\"boring\"), 1, 0)"
   ]
  },
  {
   "cell_type": "code",
   "execution_count": 46,
   "id": "9e53f016",
   "metadata": {},
   "outputs": [
    {
     "data": {
      "image/png": "[encoded data removed]",
      "text/plain": [
       "<Figure size 432x288 with 1 Axes>"
      ]
     },
     "metadata": {
      "needs_background": "light"
     },
     "output_type": "display_data"
    }
   ],
   "source": [
    "plt.figure()\n",
    "sns.boxplot(x=\"contains_boring\", y=\"rating\", data=reviews_words)\n",
    "plt.title(\"Distribution of Ratings if it Contains the Word 'boring'\")\n",
    "plt.show()"
   ]
  },
  {
   "cell_type": "markdown",
   "id": "fb1e2838",
   "metadata": {},
   "source": [
    "There is a large difference! The median and the distribution of the ratings is much lower if the reviews contain the word \"boring\". I will test if the difference in the mean and median are significant."
   ]
  },
  {
   "cell_type": "code",
   "execution_count": 47,
   "id": "499608f5",
   "metadata": {
    "scrolled": true
   },
   "outputs": [
    {
     "data": {
      "text/plain": [
       "1    10.0\n",
       "2    10.0\n",
       "3    10.0\n",
       "4    10.0\n",
       "5    10.0\n",
       "Name: rating, dtype: float64"
      ]
     },
     "execution_count": 47,
     "metadata": {},
     "output_type": "execute_result"
    }
   ],
   "source": [
    "# all the ratings without the word boring\n",
    "no_boring = reviews_words[reviews_words[\"contains_boring\"]==0][\"rating\"]\n",
    "no_boring.head()"
   ]
  },
  {
   "cell_type": "code",
   "execution_count": 48,
   "id": "3eb9cef8",
   "metadata": {},
   "outputs": [
    {
     "data": {
      "text/plain": [
       "114    10.0\n",
       "170    10.0\n",
       "187    10.0\n",
       "331    10.0\n",
       "825    10.0\n",
       "Name: rating, dtype: float64"
      ]
     },
     "execution_count": 48,
     "metadata": {},
     "output_type": "execute_result"
    }
   ],
   "source": [
    "# all the ratings that contain the word boring\n",
    "yes_boring = reviews_words[reviews_words[\"contains_boring\"]==1][\"rating\"]\n",
    "yes_boring.head()"
   ]
  },
  {
   "cell_type": "markdown",
   "id": "b8b1bf30",
   "metadata": {},
   "source": [
    "Now, I will test if the differences in the median is significant."
   ]
  },
  {
   "cell_type": "code",
   "execution_count": 49,
   "id": "b4668a79",
   "metadata": {},
   "outputs": [
    {
     "data": {
      "text/plain": [
       "MannwhitneyuResult(statistic=27590219027.5, pvalue=0.0)"
      ]
     },
     "execution_count": 49,
     "metadata": {},
     "output_type": "execute_result"
    }
   ],
   "source": [
    "stats.mannwhitneyu(yes_boring, no_boring)"
   ]
  },
  {
   "cell_type": "markdown",
   "id": "71ddcfa1",
   "metadata": {},
   "source": [
    "The p-value is less than 0, meaning that the difference is significant. I will also look to see if there difference in the mean is significant."
   ]
  },
  {
   "cell_type": "code",
   "execution_count": 50,
   "id": "4b5ba9a0",
   "metadata": {
    "scrolled": true
   },
   "outputs": [
    {
     "data": {
      "text/plain": [
       "Ttest_indResult(statistic=-194.12858081925575, pvalue=0.0)"
      ]
     },
     "execution_count": 50,
     "metadata": {},
     "output_type": "execute_result"
    }
   ],
   "source": [
    "stats.ttest_ind(yes_boring, no_boring)"
   ]
  },
  {
   "cell_type": "markdown",
   "id": "9786bd3a",
   "metadata": {},
   "source": [
    "#### Do certain categories/families/mechanics receiving higher or lower ratings?"
   ]
  },
  {
   "cell_type": "markdown",
   "id": "342e5422",
   "metadata": {},
   "source": [
    "Next, I will look at some of the board game categories to see if they ratings change depending on if they're labelled as that category or not. What are some of the categories I'm interested in? \n",
    "\n",
    "Based on data cleaning, these categories look interesting: "
   ]
  },
  {
   "cell_type": "code",
   "execution_count": 51,
   "id": "24b5b999",
   "metadata": {},
   "outputs": [],
   "source": [
    "cat_list = ['Card Game', 'Wargame', 'Fantasy', 'Party Game', 'Dice', 'Science Fiction', 'Fighting',\n",
    "            \"Children's Game\", 'Abstract Strategy', 'Economic', 'Animals', 'World War II',\n",
    "            'Bluffing', 'Humor', 'Adventure', 'Deduction', 'Miniatures', 'Action / Dexterity',\n",
    "            'Movies / TV / Radio theme', 'Medieval', 'Players: Two Player Only Games', \n",
    "            'Crowdfunding: Kickstarter']"
   ]
  },
  {
   "cell_type": "code",
   "execution_count": 120,
   "id": "7813c7e4",
   "metadata": {
    "scrolled": true
   },
   "outputs": [
    {
     "data": {
      "image/png": "[encoded data removed]",
      "text/plain": [
       "<Figure size 432x288 with 1 Axes>"
      ]
     },
     "metadata": {
      "needs_background": "light"
     },
     "output_type": "display_data"
    },
    {
     "data": {
      "image/png": "[encoded data removed]",
      "text/plain": [
       "<Figure size 432x288 with 1 Axes>"
      ]
     },
     "metadata": {
      "needs_background": "light"
     },
     "output_type": "display_data"
    },
    {
     "data": {
      "image/png": "[encoded data removed]",
      "text/plain": [
       "<Figure size 432x288 with 1 Axes>"
      ]
     },
     "metadata": {
      "needs_background": "light"
     },
     "output_type": "display_data"
    },
    {
     "data": {
      "image/png": "[encoded data removed]",
      "text/plain": [
       "<Figure size 432x288 with 1 Axes>"
      ]
     },
     "metadata": {
      "needs_background": "light"
     },
     "output_type": "display_data"
    },
    {
     "data": {
      "image/png": "[encoded data removed]",
      "text/plain": [
       "<Figure size 432x288 with 1 Axes>"
      ]
     },
     "metadata": {
      "needs_background": "light"
     },
     "output_type": "display_data"
    },
    {
     "data": {
      "image/png": "[encoded data removed]",
      "text/plain": [
       "<Figure size 432x288 with 1 Axes>"
      ]
     },
     "metadata": {
      "needs_background": "light"
     },
     "output_type": "display_data"
    },
    {
     "data": {
      "image/png": "[encoded data removed]",
      "text/plain": [
       "<Figure size 432x288 with 1 Axes>"
      ]
     },
     "metadata": {
      "needs_background": "light"
     },
     "output_type": "display_data"
    },
    {
     "data": {
      "image/png": "[encoded data removed]",
      "text/plain": [
       "<Figure size 432x288 with 1 Axes>"
      ]
     },
     "metadata": {
      "needs_background": "light"
     },
     "output_type": "display_data"
    },
    {
     "data": {
      "image/png": "[encoded data removed]",
      "text/plain": [
       "<Figure size 432x288 with 1 Axes>"
      ]
     },
     "metadata": {
      "needs_background": "light"
     },
     "output_type": "display_data"
    },
    {
     "data": {
      "image/png": "[encoded data removed]",
      "text/plain": [
       "<Figure size 432x288 with 1 Axes>"
      ]
     },
     "metadata": {
      "needs_background": "light"
     },
     "output_type": "display_data"
    },
    {
     "data": {
      "image/png": "[encoded data removed]",
      "text/plain": [
       "<Figure size 432x288 with 1 Axes>"
      ]
     },
     "metadata": {
      "needs_background": "light"
     },
     "output_type": "display_data"
    },
    {
     "data": {
      "image/png": "[encoded data removed]",
      "text/plain": [
       "<Figure size 432x288 with 1 Axes>"
      ]
     },
     "metadata": {
      "needs_background": "light"
     },
     "output_type": "display_data"
    },
    {
     "data": {
      "image/png": "[encoded data removed]",
      "text/plain": [
       "<Figure size 432x288 with 1 Axes>"
      ]
     },
     "metadata": {
      "needs_background": "light"
     },
     "output_type": "display_data"
    },
    {
     "data": {
      "image/png": "[encoded data removed]",
      "text/plain": [
       "<Figure size 432x288 with 1 Axes>"
      ]
     },
     "metadata": {
      "needs_background": "light"
     },
     "output_type": "display_data"
    },
    {
     "data": {
      "image/png": "[encoded data removed]",
      "text/plain": [
       "<Figure size 432x288 with 1 Axes>"
      ]
     },
     "metadata": {
      "needs_background": "light"
     },
     "output_type": "display_data"
    },
    {
     "data": {
      "image/png": "[encoded data removed]",
      "text/plain": [
       "<Figure size 432x288 with 1 Axes>"
      ]
     },
     "metadata": {
      "needs_background": "light"
     },
     "output_type": "display_data"
    },
    {
     "data": {
      "image/png": "[encoded data removed]",
      "text/plain": [
       "<Figure size 432x288 with 1 Axes>"
      ]
     },
     "metadata": {
      "needs_background": "light"
     },
     "output_type": "display_data"
    },
    {
     "data": {
      "image/png": "[encoded data removed]",
      "text/plain": [
       "<Figure size 432x288 with 1 Axes>"
      ]
     },
     "metadata": {
      "needs_background": "light"
     },
     "output_type": "display_data"
    },
    {
     "data": {
      "image/png": "[encoded data removed]",
      "text/plain": [
       "<Figure size 432x288 with 1 Axes>"
      ]
     },
     "metadata": {
      "needs_background": "light"
     },
     "output_type": "display_data"
    },
    {
     "data": {
      "image/png": "[encoded data removed]",
      "text/plain": [
       "<Figure size 432x288 with 1 Axes>"
      ]
     },
     "metadata": {
      "needs_background": "light"
     },
     "output_type": "display_data"
    },
    {
     "data": {
      "image/png": "[encoded data removed]",
      "text/plain": [
       "<Figure size 432x288 with 1 Axes>"
      ]
     },
     "metadata": {
      "needs_background": "light"
     },
     "output_type": "display_data"
    },
    {
     "data": {
      "image/png": "[encoded data removed]",
      "text/plain": [
       "<Figure size 432x288 with 1 Axes>"
      ]
     },
     "metadata": {
      "needs_background": "light"
     },
     "output_type": "display_data"
    }
   ],
   "source": [
    "for cat in cat_list:\n",
    "    plt.figure()\n",
    "    sns.boxplot(x=cat, y=\"average\", data=games_clean)\n",
    "    plt.title(cat)\n",
    "    plt.show()"
   ]
  },
  {
   "cell_type": "markdown",
   "id": "25039590",
   "metadata": {},
   "source": [
    "Based on this, it appears that board games that fall under these categories have a lower average score: \n",
    "- Party Game\n",
    "- Children's Game\n",
    "- Animals\n",
    "- Humour \n",
    "- Action/Dexterity\n",
    "- Moves/TV/Radio theme\n",
    "\n",
    "Board games that fall under these categories have a higher average score: \n",
    "- War game \n",
    "- Fantasy\n",
    "- Fighting\n",
    "- World War II\n",
    "- Minatures\n",
    "- Medieval\n",
    "- Players: 2 Player Only Games\n",
    "- Crowdfunding: KickStarter\n",
    "\n",
    "However, it's important to keep in mind that a board game can fall under more than 1 category, so this may be skewing the results here, as for example, a board game can have \"Minatures\", which is rated higher, but it can also be a \"Party Game\", which is more lowly rated."
   ]
  },
  {
   "cell_type": "markdown",
   "id": "50a75950",
   "metadata": {},
   "source": [
    "### What are the most common words used in reviews and descriptions?"
   ]
  },
  {
   "cell_type": "markdown",
   "id": "1c185eea",
   "metadata": {},
   "source": [
    "I'm going to visualize the most common words used in reviews and descriptions is a word cloud, where bigger the word, the more often the word appears in the dataset.\n",
    "\n",
    "This code is borrowed from [Andrew Dang](https://github.com/andrew-dang/whisky_predictions/blob/main/2_EDA_and_Feature_Engineering.ipynb)"
   ]
  },
  {
   "cell_type": "code",
   "execution_count": null,
   "id": "15f51829",
   "metadata": {
    "scrolled": false
   },
   "outputs": [],
   "source": [
    "# combine all reviews into a text to create wordcloud\n",
    "text = \" \".join(review for review in reviews_clean['comment'])\n",
    "print(f'There are {len(text)} words in the combination of all reviews')\n",
    "\n",
    "# create the wordcloud\n",
    "plt.figure(figsize=(15,10))\n",
    "wordcloud = WordCloud(background_color='white').generate(text)\n",
    "plt.imshow(wordcloud, interpolation='bilinear')\n",
    "plt.axis('off')\n",
    "plt.show()"
   ]
  },
  {
   "cell_type": "markdown",
   "id": "abad142e",
   "metadata": {},
   "source": [
    "The wirds that stand out are \"game\", \"play\", \"one\", and \"lot\". These don't really add much value as they don't mean much, as you do play board games."
   ]
  },
  {
   "cell_type": "markdown",
   "id": "81dcb2ce",
   "metadata": {},
   "source": [
    "Next, I will create a wordcloud for the `description` of the games."
   ]
  },
  {
   "cell_type": "markdown",
   "id": "1f5c69b0",
   "metadata": {},
   "source": [
    "There is 1 NaN row in `games_clean`. I will drop it."
   ]
  },
  {
   "cell_type": "code",
   "execution_count": null,
   "id": "6701608c",
   "metadata": {},
   "outputs": [],
   "source": [
    "games_copy = games_clean.drop(15338, axis=0)"
   ]
  },
  {
   "cell_type": "code",
   "execution_count": null,
   "id": "fc9495ef",
   "metadata": {},
   "outputs": [],
   "source": [
    "# combine all gamess into a text to create wordcloud\n",
    "text = \" \".join(games for games in games_copy['description'])\n",
    "print(f'There are {len(text)} words in the combination of all gamess')\n",
    "\n",
    "# create the wordcloud\n",
    "plt.figure(figsize=(15,10))\n",
    "wordcloud = WordCloud(background_color='white').generate(text)\n",
    "plt.imshow(wordcloud, interpolation='bilinear')\n",
    "plt.axis('off')\n",
    "plt.show()"
   ]
  },
  {
   "cell_type": "markdown",
   "id": "70aa98ed",
   "metadata": {},
   "source": [
    "Based on this, \"card\" stands out. Card Game tend to be popular and so taking turns and battling."
   ]
  },
  {
   "cell_type": "markdown",
   "id": "11aaf008",
   "metadata": {},
   "source": [
    "# Conclusion:\n",
    "In this notebook, we checked the distribution of ratings for both the reviews and boardgames, looked at the most common words in the dataset, and if certain words in a review indicate a lower or higher rating.\n",
    "\n",
    "We also saved this dataset after binarizing `ratings` into 0 for a negative sentiment and 0 for a positive sentiment.\n",
    "\n",
    "**Next Notebook**: 4. Modelling\n",
    "- Vectorize (process text into numerical representations) test\n",
    "- Make models and optimize hyperparameters"
   ]
  }
 ],
 "metadata": {
  "kernelspec": {
   "display_name": "capstone_env",
   "language": "python",
   "name": "capstone_env"
  },
  "language_info": {
   "codemirror_mode": {
    "name": "ipython",
    "version": 3
   },
   "file_extension": ".py",
   "mimetype": "text/x-python",
   "name": "python",
   "nbconvert_exporter": "python",
   "pygments_lexer": "ipython3",
   "version": "3.8.13"
  }
 },
 "nbformat": 4,
 "nbformat_minor": 5
}
