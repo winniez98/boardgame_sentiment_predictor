{
 "cells": [
  {
   "cell_type": "markdown",
   "id": "e88b0563",
   "metadata": {},
   "source": [
    "# Capstone: What Makes a Good Board Game?\n",
    "\n",
    "* **Author**: Winnie Zhang\n",
    "* Next Notebook: 2. Feature Engineering"
   ]
  },
  {
   "cell_type": "markdown",
   "id": "9a93f0f6",
   "metadata": {},
   "source": [
    "## Introduction\n",
    "What makes a good boardgame?\n",
    "\n",
    "In this project, my main goals are to understand the language used when describing boardgames. Particularly, I want to answer the following questions:\n",
    "1. What words are used by reviewers that positively impact ratings? What words negatively impact ratings?\n",
    "- By knowing which words that positively impact games, companies know what type of games they hsould focus on\n",
    "\n",
    "2. Are certain types of board games more popular than others?\n",
    "- Certain categories? Co-op? Games that include certain mechanisms?\n",
    "\n",
    "This project will use a data scraped from the website [BoardGameGeek](https://boardgamegeek.com/). The dataset was scraped and uploaded by a user to Kaggle [here](https://www.kaggle.com/datasets/jvanelteren/boardgamegeek-reviews?select=bgg-15m-reviews.csv). The dataset contains 19 million rows of data and is updated as of January 2022. \n",
    "\n",
    "The goal of this notebook is to clean and preprocess the data."
   ]
  },
  {
   "cell_type": "markdown",
   "id": "412f96b6",
   "metadata": {},
   "source": [
    "## Cleaning and Preprocessing\n",
    "First, I will import all the packages that I need. "
   ]
  },
  {
   "cell_type": "code",
   "execution_count": 33,
   "id": "d210e211",
   "metadata": {},
   "outputs": [],
   "source": [
    "import numpy as np\n",
    "import pandas as pd\n",
    "import matplotlib.pyplot as plt \n",
    "import seaborn as sns\n",
    "import joblib"
   ]
  },
  {
   "cell_type": "markdown",
   "id": "c76aa9fa",
   "metadata": {},
   "source": [
    "Next, I will read in the data."
   ]
  },
  {
   "cell_type": "code",
   "execution_count": 34,
   "id": "8a5ec0c8",
   "metadata": {},
   "outputs": [
    {
     "name": "stderr",
     "output_type": "stream",
     "text": [
      "C:\\Users\\winni\\AppData\\Local\\Temp\\ipykernel_26508\\1759049023.py:2: DtypeWarning: Columns (29,48) have mixed types. Specify dtype option on import or set low_memory=False.\n",
      "  games = pd.read_csv(\"data/games_detailed_info.csv\")\n"
     ]
    }
   ],
   "source": [
    "reviews = pd.read_csv(\"data/bgg-19m-reviews.csv\")\n",
    "games = pd.read_csv(\"data/games_detailed_info.csv\")\n",
    "game_reviews = pd.read_csv(\"data/2022-01-08.csv\")"
   ]
  },
  {
   "cell_type": "markdown",
   "id": "972b8a47",
   "metadata": {},
   "source": [
    "The dataset is made of 3 different tables: `reviews`, `games`, and `game_reviews`:\n",
    "- `reviews` contains all the user ratings and comments left for each game\n",
    "- `game_reviews`  contains description of the game, its average rating, and ranking\n",
    "- `games` contains other information about the game such as the categories it falls under, the number of comments, the difficulty, and so on.\n",
    "\n",
    "I will take a look at the first 5 rows of each."
   ]
  },
  {
   "cell_type": "code",
   "execution_count": 35,
   "id": "c997a3b1",
   "metadata": {},
   "outputs": [
    {
     "data": {
      "text/html": [
       "<div>\n",
       "<style scoped>\n",
       "    .dataframe tbody tr th:only-of-type {\n",
       "        vertical-align: middle;\n",
       "    }\n",
       "\n",
       "    .dataframe tbody tr th {\n",
       "        vertical-align: top;\n",
       "    }\n",
       "\n",
       "    .dataframe thead th {\n",
       "        text-align: right;\n",
       "    }\n",
       "</style>\n",
       "<table border=\"1\" class=\"dataframe\">\n",
       "  <thead>\n",
       "    <tr style=\"text-align: right;\">\n",
       "      <th></th>\n",
       "      <th>Unnamed: 0</th>\n",
       "      <th>user</th>\n",
       "      <th>rating</th>\n",
       "      <th>comment</th>\n",
       "      <th>ID</th>\n",
       "      <th>name</th>\n",
       "    </tr>\n",
       "  </thead>\n",
       "  <tbody>\n",
       "    <tr>\n",
       "      <th>0</th>\n",
       "      <td>0</td>\n",
       "      <td>Torsten</td>\n",
       "      <td>10.0</td>\n",
       "      <td>NaN</td>\n",
       "      <td>30549</td>\n",
       "      <td>Pandemic</td>\n",
       "    </tr>\n",
       "    <tr>\n",
       "      <th>1</th>\n",
       "      <td>1</td>\n",
       "      <td>mitnachtKAUBO-I</td>\n",
       "      <td>10.0</td>\n",
       "      <td>Hands down my favorite new game of BGG CON 200...</td>\n",
       "      <td>30549</td>\n",
       "      <td>Pandemic</td>\n",
       "    </tr>\n",
       "    <tr>\n",
       "      <th>2</th>\n",
       "      <td>2</td>\n",
       "      <td>avlawn</td>\n",
       "      <td>10.0</td>\n",
       "      <td>I tend to either love or easily tire of co-op ...</td>\n",
       "      <td>30549</td>\n",
       "      <td>Pandemic</td>\n",
       "    </tr>\n",
       "    <tr>\n",
       "      <th>3</th>\n",
       "      <td>3</td>\n",
       "      <td>Mike Mayer</td>\n",
       "      <td>10.0</td>\n",
       "      <td>NaN</td>\n",
       "      <td>30549</td>\n",
       "      <td>Pandemic</td>\n",
       "    </tr>\n",
       "    <tr>\n",
       "      <th>4</th>\n",
       "      <td>4</td>\n",
       "      <td>Mease19</td>\n",
       "      <td>10.0</td>\n",
       "      <td>This is an amazing co-op game.  I play mostly ...</td>\n",
       "      <td>30549</td>\n",
       "      <td>Pandemic</td>\n",
       "    </tr>\n",
       "  </tbody>\n",
       "</table>\n",
       "</div>"
      ],
      "text/plain": [
       "   Unnamed: 0             user  rating  \\\n",
       "0           0          Torsten    10.0   \n",
       "1           1  mitnachtKAUBO-I    10.0   \n",
       "2           2           avlawn    10.0   \n",
       "3           3       Mike Mayer    10.0   \n",
       "4           4          Mease19    10.0   \n",
       "\n",
       "                                             comment     ID      name  \n",
       "0                                                NaN  30549  Pandemic  \n",
       "1  Hands down my favorite new game of BGG CON 200...  30549  Pandemic  \n",
       "2  I tend to either love or easily tire of co-op ...  30549  Pandemic  \n",
       "3                                                NaN  30549  Pandemic  \n",
       "4  This is an amazing co-op game.  I play mostly ...  30549  Pandemic  "
      ]
     },
     "execution_count": 35,
     "metadata": {},
     "output_type": "execute_result"
    }
   ],
   "source": [
    "reviews.head()"
   ]
  },
  {
   "cell_type": "code",
   "execution_count": 36,
   "id": "050e30af",
   "metadata": {},
   "outputs": [],
   "source": [
    "game_reviews.head()"
   ]
  },
  {
   "cell_type": "code",
   "execution_count": 37,
   "id": "9fffb3de",
   "metadata": {},
   "outputs": [],
   "source": [
    "games.head()"
   ]
  },
  {
   "cell_type": "markdown",
   "id": "2a0b0298",
   "metadata": {},
   "source": [
    "`games` and `game_reviews` seem to contain some of the same information, such as `Year`, `Rank`, `Average`, `Bayes average` and `Users rated`. \n",
    "\n",
    "Since `games` has much more information than `game_reviews`, including the difficulty (`weight`), `playingtime` and so on, I will continue exploring the `games` dataframe and no longer look at `game_reviews."
   ]
  },
  {
   "cell_type": "markdown",
   "id": "1bc4e360",
   "metadata": {},
   "source": [
    "## `Reviews` DataFrame\n",
    "### Inspecting the Data\n",
    "First, I will take a look at the `reviews` DataFrame. I will inspect each column of the dataset."
   ]
  },
  {
   "cell_type": "code",
   "execution_count": 38,
   "id": "7fec9565",
   "metadata": {},
   "outputs": [
    {
     "name": "stdout",
     "output_type": "stream",
     "text": [
      "<class 'pandas.core.frame.DataFrame'>\n",
      "RangeIndex: 18964807 entries, 0 to 18964806\n",
      "Data columns (total 6 columns):\n",
      " #   Column      Dtype  \n",
      "---  ------      -----  \n",
      " 0   Unnamed: 0  int64  \n",
      " 1   user        object \n",
      " 2   rating      float64\n",
      " 3   comment     object \n",
      " 4   ID          int64  \n",
      " 5   name        object \n",
      "dtypes: float64(1), int64(2), object(3)\n",
      "memory usage: 868.1+ MB\n"
     ]
    }
   ],
   "source": [
    "reviews.info()"
   ]
  },
  {
   "cell_type": "markdown",
   "id": "f959450e",
   "metadata": {},
   "source": [
    "- `Unnamed: 0`: This column appears to be the same as the index column. I will check to see if they're the same and if they are, drop it.\n",
    "- `user`: This column is the username of the person who left the review. It may be useful to feature engineer how many times a user leaves a review and the average score they give. After engineering these features, this column can be dropped.\n",
    "- `rating`: This is the rating of the boardgame that the user gave.\n",
    "- `comment`: The user also has an option to leave a comment with their review. \n",
    "- `ID` is the ID of the boardgame. This can be used later, to concatenate the `reviews` and `games` dataframes.\n",
    "- `name` is the name of the boardgame. This can be dropped later as it doesn't add valuable information."
   ]
  },
  {
   "cell_type": "markdown",
   "id": "ea46f01f",
   "metadata": {},
   "source": [
    "Next, I will inspect the same of the `reviews` dataframe."
   ]
  },
  {
   "cell_type": "code",
   "execution_count": 39,
   "id": "bb40f620",
   "metadata": {},
   "outputs": [
    {
     "data": {
      "text/plain": [
       "(18964807, 6)"
      ]
     },
     "execution_count": 39,
     "metadata": {},
     "output_type": "execute_result"
    }
   ],
   "source": [
    "reviews.shape"
   ]
  },
  {
   "cell_type": "markdown",
   "id": "b138417c",
   "metadata": {},
   "source": [
    "This dataset consists of almost 19 million rows and 6 columns."
   ]
  },
  {
   "cell_type": "markdown",
   "id": "3a227a72",
   "metadata": {},
   "source": [
    "### Dropping Unneeded Columns\n",
    "First, I will check to see in the `Unnamed: 0` column is the same as index. If it is, I will drop the column."
   ]
  },
  {
   "cell_type": "code",
   "execution_count": 40,
   "id": "f2c33aa9",
   "metadata": {},
   "outputs": [
    {
     "data": {
      "text/plain": [
       "0"
      ]
     },
     "execution_count": 40,
     "metadata": {},
     "output_type": "execute_result"
    }
   ],
   "source": [
    "(reviews[\"Unnamed: 0\"] != reviews.index).sum()"
   ]
  },
  {
   "cell_type": "markdown",
   "id": "8beda7f8",
   "metadata": {},
   "source": [
    "There are no rows where `Unnamed: 0` doesn't match the index of the column. Therefore, I will drop this column. "
   ]
  },
  {
   "cell_type": "code",
   "execution_count": 41,
   "id": "c98ebae3",
   "metadata": {},
   "outputs": [
    {
     "name": "stdout",
     "output_type": "stream",
     "text": [
      "<class 'pandas.core.frame.DataFrame'>\n",
      "RangeIndex: 18964807 entries, 0 to 18964806\n",
      "Data columns (total 5 columns):\n",
      " #   Column   Dtype  \n",
      "---  ------   -----  \n",
      " 0   user     object \n",
      " 1   rating   float64\n",
      " 2   comment  object \n",
      " 3   ID       int64  \n",
      " 4   name     object \n",
      "dtypes: float64(1), int64(1), object(3)\n",
      "memory usage: 723.5+ MB\n"
     ]
    }
   ],
   "source": [
    "reviews.drop([\"Unnamed: 0\"], axis=1, inplace=True)\n",
    "\n",
    "# sanity check\n",
    "reviews.info()"
   ]
  },
  {
   "cell_type": "markdown",
   "id": "14fb3a5b",
   "metadata": {},
   "source": [
    "I succesfully dropped `Unnamed: 0`. I will leave the `name` column in for now so I can double check that the `reviews` and `games` column are concatenated properly later on."
   ]
  },
  {
   "cell_type": "markdown",
   "id": "cecc80ac",
   "metadata": {},
   "source": [
    "### Duplicated Rows and Columns\n",
    "Next, I will check if any of the rows are duplicated."
   ]
  },
  {
   "cell_type": "code",
   "execution_count": 42,
   "id": "a003dd52",
   "metadata": {},
   "outputs": [
    {
     "data": {
      "text/plain": [
       "0"
      ]
     },
     "execution_count": 42,
     "metadata": {},
     "output_type": "execute_result"
    }
   ],
   "source": [
    "reviews.duplicated().sum()"
   ]
  },
  {
   "cell_type": "markdown",
   "id": "a49bfbaf",
   "metadata": {},
   "source": [
    "None of the rows are duplicated so they won't need to be dropped. Based on the first 5 rows of the dataframe, none of the columns appear to be duplicated so I will not check them for duplication.\n",
    "\n",
    "### Missing Values\n",
    "\n",
    "Next, I will check if there are missing values in any of these rows."
   ]
  },
  {
   "cell_type": "code",
   "execution_count": 43,
   "id": "cabef5a7",
   "metadata": {},
   "outputs": [
    {
     "data": {
      "text/plain": [
       "user             66\n",
       "rating            0\n",
       "comment    15596188\n",
       "ID                0\n",
       "name              0\n",
       "dtype: int64"
      ]
     },
     "execution_count": 43,
     "metadata": {},
     "output_type": "execute_result"
    }
   ],
   "source": [
    "reviews.isna().sum()"
   ]
  },
  {
   "cell_type": "markdown",
   "id": "9d11652a",
   "metadata": {},
   "source": [
    "There are over 15 million rows misisng in the `comments` column since leaving a comment is optional. Since the whole purpose of my project is to make predictions based on these comments, I will drop all the rows where the comments are missing."
   ]
  },
  {
   "cell_type": "code",
   "execution_count": 44,
   "id": "8b5d31fe",
   "metadata": {},
   "outputs": [
    {
     "data": {
      "text/plain": [
       "3368619"
      ]
     },
     "execution_count": 44,
     "metadata": {},
     "output_type": "execute_result"
    }
   ],
   "source": [
    "18_964_807 - 15_596_188"
   ]
  },
  {
   "cell_type": "markdown",
   "id": "b02d5a92",
   "metadata": {},
   "source": [
    "This still leaves us with approximately 3 million rows of data, which is still a lot. "
   ]
  },
  {
   "cell_type": "code",
   "execution_count": 45,
   "id": "efba3b1f",
   "metadata": {},
   "outputs": [
    {
     "data": {
      "text/html": [
       "<div>\n",
       "<style scoped>\n",
       "    .dataframe tbody tr th:only-of-type {\n",
       "        vertical-align: middle;\n",
       "    }\n",
       "\n",
       "    .dataframe tbody tr th {\n",
       "        vertical-align: top;\n",
       "    }\n",
       "\n",
       "    .dataframe thead th {\n",
       "        text-align: right;\n",
       "    }\n",
       "</style>\n",
       "<table border=\"1\" class=\"dataframe\">\n",
       "  <thead>\n",
       "    <tr style=\"text-align: right;\">\n",
       "      <th></th>\n",
       "      <th>user</th>\n",
       "      <th>rating</th>\n",
       "      <th>comment</th>\n",
       "      <th>ID</th>\n",
       "      <th>name</th>\n",
       "    </tr>\n",
       "  </thead>\n",
       "  <tbody>\n",
       "    <tr>\n",
       "      <th>1</th>\n",
       "      <td>mitnachtKAUBO-I</td>\n",
       "      <td>10.0</td>\n",
       "      <td>Hands down my favorite new game of BGG CON 200...</td>\n",
       "      <td>30549</td>\n",
       "      <td>Pandemic</td>\n",
       "    </tr>\n",
       "    <tr>\n",
       "      <th>2</th>\n",
       "      <td>avlawn</td>\n",
       "      <td>10.0</td>\n",
       "      <td>I tend to either love or easily tire of co-op ...</td>\n",
       "      <td>30549</td>\n",
       "      <td>Pandemic</td>\n",
       "    </tr>\n",
       "    <tr>\n",
       "      <th>4</th>\n",
       "      <td>Mease19</td>\n",
       "      <td>10.0</td>\n",
       "      <td>This is an amazing co-op game.  I play mostly ...</td>\n",
       "      <td>30549</td>\n",
       "      <td>Pandemic</td>\n",
       "    </tr>\n",
       "    <tr>\n",
       "      <th>5</th>\n",
       "      <td>cfarrell</td>\n",
       "      <td>10.0</td>\n",
       "      <td>Hey! I can finally rate this game I've been pl...</td>\n",
       "      <td>30549</td>\n",
       "      <td>Pandemic</td>\n",
       "    </tr>\n",
       "    <tr>\n",
       "      <th>8</th>\n",
       "      <td>gregd</td>\n",
       "      <td>10.0</td>\n",
       "      <td>Love it- great fun with my son. 2 plays so far...</td>\n",
       "      <td>30549</td>\n",
       "      <td>Pandemic</td>\n",
       "    </tr>\n",
       "  </tbody>\n",
       "</table>\n",
       "</div>"
      ],
      "text/plain": [
       "              user  rating                                            comment  \\\n",
       "1  mitnachtKAUBO-I    10.0  Hands down my favorite new game of BGG CON 200...   \n",
       "2           avlawn    10.0  I tend to either love or easily tire of co-op ...   \n",
       "4          Mease19    10.0  This is an amazing co-op game.  I play mostly ...   \n",
       "5         cfarrell    10.0  Hey! I can finally rate this game I've been pl...   \n",
       "8            gregd    10.0  Love it- great fun with my son. 2 plays so far...   \n",
       "\n",
       "      ID      name  \n",
       "1  30549  Pandemic  \n",
       "2  30549  Pandemic  \n",
       "4  30549  Pandemic  \n",
       "5  30549  Pandemic  \n",
       "8  30549  Pandemic  "
      ]
     },
     "execution_count": 45,
     "metadata": {},
     "output_type": "execute_result"
    }
   ],
   "source": [
    "# take rows where comment column isn't NaN\n",
    "reviews_clean = reviews[reviews[\"comment\"].notna()]\n",
    "\n",
    "# sanity check\n",
    "reviews_clean.head()"
   ]
  },
  {
   "cell_type": "code",
   "execution_count": 46,
   "id": "bbd9631b",
   "metadata": {},
   "outputs": [
    {
     "data": {
      "text/plain": [
       "(3368619, 5)"
      ]
     },
     "execution_count": 46,
     "metadata": {},
     "output_type": "execute_result"
    }
   ],
   "source": [
    "# check shape of clean dataset\n",
    "reviews_clean.shape"
   ]
  },
  {
   "cell_type": "markdown",
   "id": "bb97b376",
   "metadata": {},
   "source": [
    "There are 3.3 million rows left in our dataset!\n",
    "\n",
    "Next, I will check if there are any missing rows left."
   ]
  },
  {
   "cell_type": "code",
   "execution_count": 47,
   "id": "abdf4246",
   "metadata": {},
   "outputs": [
    {
     "data": {
      "text/plain": [
       "user       0\n",
       "rating     0\n",
       "comment    0\n",
       "ID         0\n",
       "name       0\n",
       "dtype: int64"
      ]
     },
     "execution_count": 47,
     "metadata": {},
     "output_type": "execute_result"
    }
   ],
   "source": [
    "# check if there are any Nan rows left\n",
    "reviews_clean.isna().sum()"
   ]
  },
  {
   "cell_type": "markdown",
   "id": "e402385a",
   "metadata": {},
   "source": [
    "There are no null rows left. Now, I can reset the index."
   ]
  },
  {
   "cell_type": "code",
   "execution_count": 48,
   "id": "ae9ed000",
   "metadata": {},
   "outputs": [
    {
     "data": {
      "text/html": [
       "<div>\n",
       "<style scoped>\n",
       "    .dataframe tbody tr th:only-of-type {\n",
       "        vertical-align: middle;\n",
       "    }\n",
       "\n",
       "    .dataframe tbody tr th {\n",
       "        vertical-align: top;\n",
       "    }\n",
       "\n",
       "    .dataframe thead th {\n",
       "        text-align: right;\n",
       "    }\n",
       "</style>\n",
       "<table border=\"1\" class=\"dataframe\">\n",
       "  <thead>\n",
       "    <tr style=\"text-align: right;\">\n",
       "      <th></th>\n",
       "      <th>user</th>\n",
       "      <th>rating</th>\n",
       "      <th>comment</th>\n",
       "      <th>ID</th>\n",
       "      <th>name</th>\n",
       "    </tr>\n",
       "  </thead>\n",
       "  <tbody>\n",
       "    <tr>\n",
       "      <th>0</th>\n",
       "      <td>mitnachtKAUBO-I</td>\n",
       "      <td>10.0</td>\n",
       "      <td>Hands down my favorite new game of BGG CON 200...</td>\n",
       "      <td>30549</td>\n",
       "      <td>Pandemic</td>\n",
       "    </tr>\n",
       "    <tr>\n",
       "      <th>1</th>\n",
       "      <td>avlawn</td>\n",
       "      <td>10.0</td>\n",
       "      <td>I tend to either love or easily tire of co-op ...</td>\n",
       "      <td>30549</td>\n",
       "      <td>Pandemic</td>\n",
       "    </tr>\n",
       "    <tr>\n",
       "      <th>2</th>\n",
       "      <td>Mease19</td>\n",
       "      <td>10.0</td>\n",
       "      <td>This is an amazing co-op game.  I play mostly ...</td>\n",
       "      <td>30549</td>\n",
       "      <td>Pandemic</td>\n",
       "    </tr>\n",
       "    <tr>\n",
       "      <th>3</th>\n",
       "      <td>cfarrell</td>\n",
       "      <td>10.0</td>\n",
       "      <td>Hey! I can finally rate this game I've been pl...</td>\n",
       "      <td>30549</td>\n",
       "      <td>Pandemic</td>\n",
       "    </tr>\n",
       "    <tr>\n",
       "      <th>4</th>\n",
       "      <td>gregd</td>\n",
       "      <td>10.0</td>\n",
       "      <td>Love it- great fun with my son. 2 plays so far...</td>\n",
       "      <td>30549</td>\n",
       "      <td>Pandemic</td>\n",
       "    </tr>\n",
       "  </tbody>\n",
       "</table>\n",
       "</div>"
      ],
      "text/plain": [
       "              user  rating                                            comment  \\\n",
       "0  mitnachtKAUBO-I    10.0  Hands down my favorite new game of BGG CON 200...   \n",
       "1           avlawn    10.0  I tend to either love or easily tire of co-op ...   \n",
       "2          Mease19    10.0  This is an amazing co-op game.  I play mostly ...   \n",
       "3         cfarrell    10.0  Hey! I can finally rate this game I've been pl...   \n",
       "4            gregd    10.0  Love it- great fun with my son. 2 plays so far...   \n",
       "\n",
       "      ID      name  \n",
       "0  30549  Pandemic  \n",
       "1  30549  Pandemic  \n",
       "2  30549  Pandemic  \n",
       "3  30549  Pandemic  \n",
       "4  30549  Pandemic  "
      ]
     },
     "execution_count": 48,
     "metadata": {},
     "output_type": "execute_result"
    }
   ],
   "source": [
    "# reset index \n",
    "reviews_clean.reset_index(drop=True, inplace=True)\n",
    "\n",
    "# sanity check\n",
    "reviews_clean.head()"
   ]
  },
  {
   "cell_type": "code",
   "execution_count": 49,
   "id": "cec7734d",
   "metadata": {},
   "outputs": [],
   "source": [
    "reviews_clean2 = reviews_clean.copy()"
   ]
  },
  {
   "cell_type": "code",
   "execution_count": 50,
   "id": "c93edf54",
   "metadata": {},
   "outputs": [],
   "source": [
    "# keep columns that don't start with this \n",
    "reviews_clean2 = reviews_clean2[~reviews_clean2[\"comment\"].str.contains(\"^[0-9]|10 ->\",\n",
    "                                                                        regex=True)]"
   ]
  },
  {
   "cell_type": "code",
   "execution_count": 51,
   "id": "1dd3a295",
   "metadata": {
    "scrolled": true
   },
   "outputs": [
    {
     "data": {
      "text/plain": [
       "(3230919, 5)"
      ]
     },
     "execution_count": 51,
     "metadata": {},
     "output_type": "execute_result"
    }
   ],
   "source": [
    "reviews_clean2.shape"
   ]
  },
  {
   "cell_type": "code",
   "execution_count": 52,
   "id": "7b9205d5",
   "metadata": {
    "scrolled": false
   },
   "outputs": [
    {
     "data": {
      "text/plain": [
       "137700"
      ]
     },
     "execution_count": 52,
     "metadata": {},
     "output_type": "execute_result"
    }
   ],
   "source": [
    "3368619 - 3230919"
   ]
  },
  {
   "cell_type": "code",
   "execution_count": 53,
   "id": "97cba794",
   "metadata": {},
   "outputs": [
    {
     "name": "stderr",
     "output_type": "stream",
     "text": [
      "C:\\Users\\winni\\AppData\\Local\\Temp\\ipykernel_26508\\1122396937.py:1: FutureWarning: The default value of regex will change from True to False in a future version.\n",
      "  reviews_clean2[\"comment\"] = reviews_clean2[\"comment\"].str.\\\n"
     ]
    }
   ],
   "source": [
    "reviews_clean2[\"comment\"] = reviews_clean2[\"comment\"].str.\\\n",
    "    replace(\"(10|[0-9]) \\-\\> (10|[0-9])\", \"\")"
   ]
  },
  {
   "cell_type": "code",
   "execution_count": 54,
   "id": "1e288173",
   "metadata": {},
   "outputs": [],
   "source": [
    "reviews_clean2[\"comment\"] = reviews_clean2[\"comment\"].str.strip()"
   ]
  },
  {
   "cell_type": "code",
   "execution_count": 55,
   "id": "a9b4c64b",
   "metadata": {},
   "outputs": [],
   "source": [
    "# reset index \n",
    "reviews_clean2.reset_index(inplace=True)"
   ]
  },
  {
   "cell_type": "markdown",
   "id": "cae8f8db",
   "metadata": {},
   "source": [
    "Since some of the columns might contain a non-English review, I will try to remove all the non-English reviews."
   ]
  },
  {
   "cell_type": "code",
   "execution_count": 56,
   "id": "46391e1f",
   "metadata": {},
   "outputs": [],
   "source": [
    "reviews_clean3 = reviews_clean2[reviews_clean2['comment'].map(lambda x: x.isascii())]"
   ]
  },
  {
   "cell_type": "code",
   "execution_count": 57,
   "id": "04cf405a",
   "metadata": {},
   "outputs": [
    {
     "data": {
      "text/plain": [
       "(3038471, 6)"
      ]
     },
     "execution_count": 57,
     "metadata": {},
     "output_type": "execute_result"
    }
   ],
   "source": [
    "# sanity check\n",
    "reviews_clean3.shape"
   ]
  },
  {
   "cell_type": "markdown",
   "id": "67fb55a0",
   "metadata": {},
   "source": [
    "There are now only 3.1 million columns. "
   ]
  },
  {
   "cell_type": "markdown",
   "id": "96040ac0",
   "metadata": {},
   "source": [
    "During this process, I also noticed that some `comments` only contain a rating change and sometimes, this rating change is included at the end of the user's review. I want to drop columns that only contain the rating change and remove the rating change that occurs at the end of comments."
   ]
  },
  {
   "cell_type": "markdown",
   "id": "991c79a2",
   "metadata": {},
   "source": [
    "The `reviews_clean` table is now clean! I will now save this dataframe.\n",
    "\n",
    "**NOTE**: I will be saving all my dataframes as `pkl` files instead of `csv` because when I save them as `csv` files and upload them again later, I've been noticing an issue where random null values appear in my dataset."
   ]
  },
  {
   "cell_type": "code",
   "execution_count": 58,
   "id": "2bc0a3b2",
   "metadata": {},
   "outputs": [
    {
     "data": {
      "text/plain": [
       "['data/reviews_clean_final.pkl']"
      ]
     },
     "execution_count": 58,
     "metadata": {},
     "output_type": "execute_result"
    }
   ],
   "source": [
    "joblib.dump(reviews_clean3, \"data/reviews_clean_final.pkl\")"
   ]
  },
  {
   "cell_type": "markdown",
   "id": "fda4725a",
   "metadata": {},
   "source": [
    "I will now take a look at the `games` dataframe."
   ]
  },
  {
   "cell_type": "markdown",
   "id": "f5dd4d4c",
   "metadata": {},
   "source": [
    "## `games` DataFrame"
   ]
  },
  {
   "cell_type": "markdown",
   "id": "53be3333",
   "metadata": {},
   "source": [
    "## Inpsecting Games\n",
    "First, I will take a look at the `games` dataframe."
   ]
  },
  {
   "cell_type": "code",
   "execution_count": 59,
   "id": "9a0b4589",
   "metadata": {
    "scrolled": false
   },
   "outputs": [
    {
     "name": "stdout",
     "output_type": "stream",
     "text": [
      "<class 'pandas.core.frame.DataFrame'>\n",
      "RangeIndex: 21631 entries, 0 to 21630\n",
      "Data columns (total 56 columns):\n",
      " #   Column                         Non-Null Count  Dtype  \n",
      "---  ------                         --------------  -----  \n",
      " 0   Unnamed: 0                     21631 non-null  int64  \n",
      " 1   type                           21631 non-null  object \n",
      " 2   id                             21631 non-null  int64  \n",
      " 3   thumbnail                      21616 non-null  object \n",
      " 4   image                          21616 non-null  object \n",
      " 5   primary                        21631 non-null  object \n",
      " 6   alternate                      8850 non-null   object \n",
      " 7   description                    21630 non-null  object \n",
      " 8   yearpublished                  21631 non-null  int64  \n",
      " 9   minplayers                     21631 non-null  int64  \n",
      " 10  maxplayers                     21631 non-null  int64  \n",
      " 11  suggested_num_players          21631 non-null  object \n",
      " 12  suggested_playerage            21520 non-null  object \n",
      " 13  suggested_language_dependence  21559 non-null  object \n",
      " 14  playingtime                    21631 non-null  int64  \n",
      " 15  minplaytime                    21631 non-null  int64  \n",
      " 16  maxplaytime                    21631 non-null  int64  \n",
      " 17  minage                         21631 non-null  int64  \n",
      " 18  boardgamecategory              21348 non-null  object \n",
      " 19  boardgamemechanic              20041 non-null  object \n",
      " 20  boardgamefamily                17870 non-null  object \n",
      " 21  boardgameexpansion             5506 non-null   object \n",
      " 22  boardgameimplementation        4862 non-null   object \n",
      " 23  boardgamedesigner              21035 non-null  object \n",
      " 24  boardgameartist                15724 non-null  object \n",
      " 25  boardgamepublisher             21630 non-null  object \n",
      " 26  usersrated                     21631 non-null  int64  \n",
      " 27  average                        21631 non-null  float64\n",
      " 28  bayesaverage                   21631 non-null  float64\n",
      " 29  Board Game Rank                21631 non-null  object \n",
      " 30  Strategy Game Rank             2337 non-null   float64\n",
      " 31  Family Game Rank               2327 non-null   float64\n",
      " 32  stddev                         21631 non-null  float64\n",
      " 33  median                         21631 non-null  int64  \n",
      " 34  owned                          21631 non-null  int64  \n",
      " 35  trading                        21631 non-null  int64  \n",
      " 36  wanting                        21631 non-null  int64  \n",
      " 37  wishing                        21631 non-null  int64  \n",
      " 38  numcomments                    21631 non-null  int64  \n",
      " 39  numweights                     21631 non-null  int64  \n",
      " 40  averageweight                  21631 non-null  float64\n",
      " 41  boardgameintegration           1731 non-null   object \n",
      " 42  boardgamecompilation           827 non-null    object \n",
      " 43  Party Game Rank                647 non-null    float64\n",
      " 44  Abstract Game Rank             1109 non-null   float64\n",
      " 45  Thematic Rank                  1235 non-null   float64\n",
      " 46  War Game Rank                  3501 non-null   float64\n",
      " 47  Customizable Rank              301 non-null    float64\n",
      " 48  Children's Game Rank           876 non-null    object \n",
      " 49  RPG Item Rank                  1 non-null      float64\n",
      " 50  Accessory Rank                 1 non-null      float64\n",
      " 51  Video Game Rank                1 non-null      float64\n",
      " 52  Amiga Rank                     1 non-null      float64\n",
      " 53  Commodore 64 Rank              1 non-null      float64\n",
      " 54  Arcade Rank                    1 non-null      float64\n",
      " 55  Atari ST Rank                  1 non-null      float64\n",
      "dtypes: float64(18), int64(17), object(21)\n",
      "memory usage: 9.2+ MB\n"
     ]
    }
   ],
   "source": [
    "games.info()"
   ]
  },
  {
   "cell_type": "markdown",
   "id": "273228f3",
   "metadata": {},
   "source": [
    "There are a lot of columns and a lot of them appear to have mostly null values. Those columns would likely be dropped. I will inpsect the columns in more detail in the next part of the notebook.\n",
    "\n",
    "I will now check the shape of the dataframe."
   ]
  },
  {
   "cell_type": "code",
   "execution_count": 60,
   "id": "41316dbd",
   "metadata": {},
   "outputs": [
    {
     "data": {
      "text/plain": [
       "(21631, 56)"
      ]
     },
     "execution_count": 60,
     "metadata": {},
     "output_type": "execute_result"
    }
   ],
   "source": [
    "games.shape"
   ]
  },
  {
   "cell_type": "markdown",
   "id": "d126299c",
   "metadata": {},
   "source": [
    "`games` consists of 21,631 rows and 56 different columns."
   ]
  },
  {
   "cell_type": "markdown",
   "id": "7ffed675",
   "metadata": {},
   "source": [
    "### Exploring and Dropping Columns"
   ]
  },
  {
   "cell_type": "markdown",
   "id": "7300eb84",
   "metadata": {},
   "source": [
    "First, I will check if `Unnamed: 0` is the same as the index for `games`."
   ]
  },
  {
   "cell_type": "code",
   "execution_count": 61,
   "id": "511aa776",
   "metadata": {},
   "outputs": [
    {
     "data": {
      "text/plain": [
       "0"
      ]
     },
     "execution_count": 61,
     "metadata": {},
     "output_type": "execute_result"
    }
   ],
   "source": [
    "(games[\"Unnamed: 0\"] != games.index).sum()"
   ]
  },
  {
   "cell_type": "markdown",
   "id": "a709c730",
   "metadata": {},
   "source": [
    "`Unnamed: 0` and the `index` appear to be the same so I will drop `Unnamed: 0`."
   ]
  },
  {
   "cell_type": "code",
   "execution_count": 62,
   "id": "53c31116",
   "metadata": {},
   "outputs": [],
   "source": [
    "games.drop(\"Unnamed: 0\", axis=1, inplace=True)"
   ]
  },
  {
   "cell_type": "markdown",
   "id": "fcc94908",
   "metadata": {},
   "source": [
    "Next, I will inspect the `type` column more closely."
   ]
  },
  {
   "cell_type": "code",
   "execution_count": 63,
   "id": "ab553ba9",
   "metadata": {},
   "outputs": [
    {
     "data": {
      "text/plain": [
       "0        boardgame\n",
       "1        boardgame\n",
       "2        boardgame\n",
       "3        boardgame\n",
       "4        boardgame\n",
       "           ...    \n",
       "21626    boardgame\n",
       "21627    boardgame\n",
       "21628    boardgame\n",
       "21629    boardgame\n",
       "21630    boardgame\n",
       "Name: type, Length: 21631, dtype: object"
      ]
     },
     "execution_count": 63,
     "metadata": {},
     "output_type": "execute_result"
    }
   ],
   "source": [
    "games[\"type\"]"
   ]
  },
  {
   "cell_type": "markdown",
   "id": "e9954191",
   "metadata": {},
   "source": [
    "This appears to be labelling the game as if it's a boardgame or not. I will take a look at all the unique values in `type`."
   ]
  },
  {
   "cell_type": "code",
   "execution_count": 64,
   "id": "5310b538",
   "metadata": {},
   "outputs": [
    {
     "data": {
      "text/plain": [
       "boardgame    21631\n",
       "Name: type, dtype: int64"
      ]
     },
     "execution_count": 64,
     "metadata": {},
     "output_type": "execute_result"
    }
   ],
   "source": [
    "games[\"type\"].value_counts()"
   ]
  },
  {
   "cell_type": "markdown",
   "id": "9ea8df3e",
   "metadata": {},
   "source": [
    "There is only 1 type: boardgame. Therefore, this column isn't very useful and I'll drop it.\n",
    "\n",
    "`id` is the next column. This is the board game id and will be useful for concatenating the `reviews_clean` dataframe and the "
   ]
  },
  {
   "cell_type": "code",
   "execution_count": 65,
   "id": "54b90f3f",
   "metadata": {},
   "outputs": [],
   "source": [
    "games.drop(\"type\", axis=1, inplace=True)"
   ]
  },
  {
   "cell_type": "markdown",
   "id": "c648d22d",
   "metadata": {},
   "source": [
    "The next few columns are:\n",
    "- `Thumbnail`: This is a link to a thumbail. \n",
    "- `Image`: This is a link to the image\n",
    "- `primary`: The name of the board game\n",
    "- `alternate`: Altnertive names of the game in different languages. This is a list.\n",
    "\n",
    "I will drop `Thumbnail`, `Image`, and `alternate` as they don't provide extra information. I will also later drop `primary` after I concatenate `games` with `reviews_clean` and confirm all the game names are the same."
   ]
  },
  {
   "cell_type": "code",
   "execution_count": 66,
   "id": "370808f5",
   "metadata": {},
   "outputs": [],
   "source": [
    "games.drop([\"thumbnail\", \"image\", \"alternate\"], axis=1, inplace=True)"
   ]
  },
  {
   "cell_type": "markdown",
   "id": "f6b4f322",
   "metadata": {},
   "source": [
    "Here are the next few columns:\n",
    "- `description`: The description of the board game.\n",
    "- `yearpublished`: The year the boardgame was releasde.\n",
    "- `minplayers`: The minimum number of players required to play the game.\n",
    "- `maxplayers`: The maximum number of players allowed to play the game.\n",
    "\n",
    "I will be keeping all of this information as they can contribute to how the board game is rated."
   ]
  },
  {
   "cell_type": "markdown",
   "id": "d4e667ff",
   "metadata": {},
   "source": [
    "The next few columns I will be looking at are:\n",
    "- `suggested_num_players`: The number of players suggested users think should play the game. Players vote on the number of players they think should play the game. This is an ordered dictionary containing information on the number of players, and votes on whether or not people recommend this number. \n",
    "- `suggested_playerage`: The age users vote on and think should play the game. This is an ordered dictionary containing on the suggested age and the number of votes people of people's suggested age.\n",
    "- `suggested_language_dependence`: This is the level of language needed to play the game. This is an ordered dictionary containing the level of language needed and the number of votes."
   ]
  },
  {
   "cell_type": "code",
   "execution_count": 67,
   "id": "5716012d",
   "metadata": {},
   "outputs": [
    {
     "data": {
      "text/plain": [
       "0        [OrderedDict([('@numplayers', '1'), ('result',...\n",
       "1        [OrderedDict([('@numplayers', '1'), ('result',...\n",
       "2        [OrderedDict([('@numplayers', '1'), ('result',...\n",
       "3        [OrderedDict([('@numplayers', '1'), ('result',...\n",
       "4        [OrderedDict([('@numplayers', '1'), ('result',...\n",
       "                               ...                        \n",
       "21626    [OrderedDict([('@numplayers', '1'), ('result',...\n",
       "21627    [OrderedDict([('@numplayers', '1'), ('result',...\n",
       "21628    [OrderedDict([('@numplayers', '1'), ('result',...\n",
       "21629    [OrderedDict([('@numplayers', '1'), ('result',...\n",
       "21630    [OrderedDict([('@numplayers', '1'), ('result',...\n",
       "Name: suggested_num_players, Length: 21631, dtype: object"
      ]
     },
     "execution_count": 67,
     "metadata": {},
     "output_type": "execute_result"
    }
   ],
   "source": [
    "games[\"suggested_num_players\"]"
   ]
  },
  {
   "cell_type": "markdown",
   "id": "0df4eb32",
   "metadata": {},
   "source": [
    "These columns are difficult to deal clean and contain a lot of information so I'll be dropping these columns."
   ]
  },
  {
   "cell_type": "code",
   "execution_count": 68,
   "id": "d5232715",
   "metadata": {},
   "outputs": [],
   "source": [
    "games.drop([\"suggested_num_players\", \"suggested_playerage\", \"suggested_language_dependence\"], \n",
    "           axis=1, inplace=True)"
   ]
  },
  {
   "cell_type": "markdown",
   "id": "2938d6c9",
   "metadata": {},
   "source": [
    "Next, I will take a look at the following columns:\n",
    "- `playingtime`: The max amount of suggested play time.\n",
    "- `minplaytime`: The min amount of suggested play time.\n",
    "- `maxplaytime`: The max amount of suggested play time.\n",
    "- `minage`: The suggested minimum age for the board game."
   ]
  },
  {
   "cell_type": "code",
   "execution_count": 69,
   "id": "bb441eb4",
   "metadata": {},
   "outputs": [
    {
     "data": {
      "text/html": [
       "<div>\n",
       "<style scoped>\n",
       "    .dataframe tbody tr th:only-of-type {\n",
       "        vertical-align: middle;\n",
       "    }\n",
       "\n",
       "    .dataframe tbody tr th {\n",
       "        vertical-align: top;\n",
       "    }\n",
       "\n",
       "    .dataframe thead th {\n",
       "        text-align: right;\n",
       "    }\n",
       "</style>\n",
       "<table border=\"1\" class=\"dataframe\">\n",
       "  <thead>\n",
       "    <tr style=\"text-align: right;\">\n",
       "      <th></th>\n",
       "      <th>playingtime</th>\n",
       "      <th>minplaytime</th>\n",
       "      <th>maxplaytime</th>\n",
       "      <th>minage</th>\n",
       "    </tr>\n",
       "  </thead>\n",
       "  <tbody>\n",
       "    <tr>\n",
       "      <th>0</th>\n",
       "      <td>45</td>\n",
       "      <td>45</td>\n",
       "      <td>45</td>\n",
       "      <td>8</td>\n",
       "    </tr>\n",
       "    <tr>\n",
       "      <th>1</th>\n",
       "      <td>45</td>\n",
       "      <td>30</td>\n",
       "      <td>45</td>\n",
       "      <td>7</td>\n",
       "    </tr>\n",
       "    <tr>\n",
       "      <th>2</th>\n",
       "      <td>120</td>\n",
       "      <td>60</td>\n",
       "      <td>120</td>\n",
       "      <td>10</td>\n",
       "    </tr>\n",
       "    <tr>\n",
       "      <th>3</th>\n",
       "      <td>30</td>\n",
       "      <td>30</td>\n",
       "      <td>30</td>\n",
       "      <td>10</td>\n",
       "    </tr>\n",
       "    <tr>\n",
       "      <th>4</th>\n",
       "      <td>30</td>\n",
       "      <td>30</td>\n",
       "      <td>30</td>\n",
       "      <td>13</td>\n",
       "    </tr>\n",
       "    <tr>\n",
       "      <th>...</th>\n",
       "      <td>...</td>\n",
       "      <td>...</td>\n",
       "      <td>...</td>\n",
       "      <td>...</td>\n",
       "    </tr>\n",
       "    <tr>\n",
       "      <th>21626</th>\n",
       "      <td>30</td>\n",
       "      <td>20</td>\n",
       "      <td>30</td>\n",
       "      <td>8</td>\n",
       "    </tr>\n",
       "    <tr>\n",
       "      <th>21627</th>\n",
       "      <td>30</td>\n",
       "      <td>15</td>\n",
       "      <td>30</td>\n",
       "      <td>10</td>\n",
       "    </tr>\n",
       "    <tr>\n",
       "      <th>21628</th>\n",
       "      <td>60</td>\n",
       "      <td>60</td>\n",
       "      <td>60</td>\n",
       "      <td>10</td>\n",
       "    </tr>\n",
       "    <tr>\n",
       "      <th>21629</th>\n",
       "      <td>10</td>\n",
       "      <td>10</td>\n",
       "      <td>10</td>\n",
       "      <td>5</td>\n",
       "    </tr>\n",
       "    <tr>\n",
       "      <th>21630</th>\n",
       "      <td>0</td>\n",
       "      <td>0</td>\n",
       "      <td>0</td>\n",
       "      <td>0</td>\n",
       "    </tr>\n",
       "  </tbody>\n",
       "</table>\n",
       "<p>21631 rows × 4 columns</p>\n",
       "</div>"
      ],
      "text/plain": [
       "       playingtime  minplaytime  maxplaytime  minage\n",
       "0               45           45           45       8\n",
       "1               45           30           45       7\n",
       "2              120           60          120      10\n",
       "3               30           30           30      10\n",
       "4               30           30           30      13\n",
       "...            ...          ...          ...     ...\n",
       "21626           30           20           30       8\n",
       "21627           30           15           30      10\n",
       "21628           60           60           60      10\n",
       "21629           10           10           10       5\n",
       "21630            0            0            0       0\n",
       "\n",
       "[21631 rows x 4 columns]"
      ]
     },
     "execution_count": 69,
     "metadata": {},
     "output_type": "execute_result"
    }
   ],
   "source": [
    "games[[\"playingtime\", \"minplaytime\", \"maxplaytime\", \"minage\"]]"
   ]
  },
  {
   "cell_type": "markdown",
   "id": "1d9ced37",
   "metadata": {},
   "source": [
    "`playingtime` and `maxplaytime` looks the same. I will check if they're the same."
   ]
  },
  {
   "cell_type": "code",
   "execution_count": 70,
   "id": "2bca169c",
   "metadata": {},
   "outputs": [
    {
     "data": {
      "text/plain": [
       "21631"
      ]
     },
     "execution_count": 70,
     "metadata": {},
     "output_type": "execute_result"
    }
   ],
   "source": [
    "(games[\"playingtime\"] == games[\"maxplaytime\"]).sum()"
   ]
  },
  {
   "cell_type": "markdown",
   "id": "7b965148",
   "metadata": {},
   "source": [
    "21,631 rows are the same. That's the same number of rows as the entire dataset, meaning the `playingtime` and `maxplaytime` are the same. Therefore, I will drop `playingtime`."
   ]
  },
  {
   "cell_type": "code",
   "execution_count": 71,
   "id": "7b5ec966",
   "metadata": {},
   "outputs": [],
   "source": [
    "games.drop(\"playingtime\", axis=1, inplace=True)"
   ]
  },
  {
   "cell_type": "markdown",
   "id": "05f3f54a",
   "metadata": {},
   "source": [
    "Next, I will look ath the following columns:\n",
    "- `boardgamecategory`: The categories the board game falls under. This is a list. \n",
    "- `boardgamemechanic`: The mechanics involved in the gboard game. This is a list.\n",
    "- `boardgamefamily`: The family the board game falls under. This is a list."
   ]
  },
  {
   "cell_type": "code",
   "execution_count": 72,
   "id": "1946907f",
   "metadata": {
    "scrolled": true
   },
   "outputs": [
    {
     "data": {
      "text/html": [
       "<div>\n",
       "<style scoped>\n",
       "    .dataframe tbody tr th:only-of-type {\n",
       "        vertical-align: middle;\n",
       "    }\n",
       "\n",
       "    .dataframe tbody tr th {\n",
       "        vertical-align: top;\n",
       "    }\n",
       "\n",
       "    .dataframe thead th {\n",
       "        text-align: right;\n",
       "    }\n",
       "</style>\n",
       "<table border=\"1\" class=\"dataframe\">\n",
       "  <thead>\n",
       "    <tr style=\"text-align: right;\">\n",
       "      <th></th>\n",
       "      <th>boardgamecategory</th>\n",
       "      <th>boardgamemechanic</th>\n",
       "      <th>boardgamefamily</th>\n",
       "    </tr>\n",
       "  </thead>\n",
       "  <tbody>\n",
       "    <tr>\n",
       "      <th>0</th>\n",
       "      <td>['Medical']</td>\n",
       "      <td>['Action Points', 'Cooperative Game', 'Hand Ma...</td>\n",
       "      <td>['Components: Map (Global Scale)', 'Components...</td>\n",
       "    </tr>\n",
       "    <tr>\n",
       "      <th>1</th>\n",
       "      <td>['City Building', 'Medieval', 'Territory Build...</td>\n",
       "      <td>['Area Majority / Influence', 'Map Addition', ...</td>\n",
       "      <td>['Cities: Carcassonne (France)', 'Components: ...</td>\n",
       "    </tr>\n",
       "    <tr>\n",
       "      <th>2</th>\n",
       "      <td>['Economic', 'Negotiation']</td>\n",
       "      <td>['Dice Rolling', 'Hexagon Grid', 'Income', 'Mo...</td>\n",
       "      <td>['Animals: Sheep', 'Components: Hexagonal Tile...</td>\n",
       "    </tr>\n",
       "    <tr>\n",
       "      <th>3</th>\n",
       "      <td>['Ancient', 'Card Game', 'City Building', 'Civ...</td>\n",
       "      <td>['Drafting', 'Hand Management', 'Set Collectio...</td>\n",
       "      <td>['Ancient: Babylon', 'Ancient: Egypt', 'Ancien...</td>\n",
       "    </tr>\n",
       "    <tr>\n",
       "      <th>4</th>\n",
       "      <td>['Card Game', 'Medieval']</td>\n",
       "      <td>['Deck, Bag, and Pool Building', 'Delayed Purc...</td>\n",
       "      <td>['Crowdfunding: Wspieram', 'Game: Dominion', '...</td>\n",
       "    </tr>\n",
       "  </tbody>\n",
       "</table>\n",
       "</div>"
      ],
      "text/plain": [
       "                                   boardgamecategory  \\\n",
       "0                                        ['Medical']   \n",
       "1  ['City Building', 'Medieval', 'Territory Build...   \n",
       "2                        ['Economic', 'Negotiation']   \n",
       "3  ['Ancient', 'Card Game', 'City Building', 'Civ...   \n",
       "4                          ['Card Game', 'Medieval']   \n",
       "\n",
       "                                   boardgamemechanic  \\\n",
       "0  ['Action Points', 'Cooperative Game', 'Hand Ma...   \n",
       "1  ['Area Majority / Influence', 'Map Addition', ...   \n",
       "2  ['Dice Rolling', 'Hexagon Grid', 'Income', 'Mo...   \n",
       "3  ['Drafting', 'Hand Management', 'Set Collectio...   \n",
       "4  ['Deck, Bag, and Pool Building', 'Delayed Purc...   \n",
       "\n",
       "                                     boardgamefamily  \n",
       "0  ['Components: Map (Global Scale)', 'Components...  \n",
       "1  ['Cities: Carcassonne (France)', 'Components: ...  \n",
       "2  ['Animals: Sheep', 'Components: Hexagonal Tile...  \n",
       "3  ['Ancient: Babylon', 'Ancient: Egypt', 'Ancien...  \n",
       "4  ['Crowdfunding: Wspieram', 'Game: Dominion', '...  "
      ]
     },
     "execution_count": 72,
     "metadata": {},
     "output_type": "execute_result"
    }
   ],
   "source": [
    "games[[\"boardgamecategory\", \"boardgamemechanic\", \"boardgamefamily\"]].head()"
   ]
  },
  {
   "cell_type": "markdown",
   "id": "c95aa566",
   "metadata": {},
   "source": [
    "I want to split these columns and see which categories, mechanics, and families exist and the number of counts for each.\n",
    "\n",
    "Since a lot of these columns are null, I will only look at the non-null columns."
   ]
  },
  {
   "cell_type": "code",
   "execution_count": 73,
   "id": "e7f588c9",
   "metadata": {},
   "outputs": [
    {
     "data": {
      "text/plain": [
       "0                                          ['Medical']\n",
       "1    ['City Building', 'Medieval', 'Territory Build...\n",
       "2                          ['Economic', 'Negotiation']\n",
       "3    ['Ancient', 'Card Game', 'City Building', 'Civ...\n",
       "4                            ['Card Game', 'Medieval']\n",
       "Name: boardgamecategory, dtype: object"
      ]
     },
     "execution_count": 73,
     "metadata": {},
     "output_type": "execute_result"
    }
   ],
   "source": [
    "# df of just boardgamecategory\n",
    "category_df = games[games[\"boardgamecategory\"].notnull()]\n",
    "category_df[\"boardgamecategory\"].head()"
   ]
  },
  {
   "cell_type": "markdown",
   "id": "53a4103e",
   "metadata": {},
   "source": [
    "Next, I will strip the [] brackets."
   ]
  },
  {
   "cell_type": "code",
   "execution_count": 74,
   "id": "c42876a1",
   "metadata": {},
   "outputs": [
    {
     "name": "stderr",
     "output_type": "stream",
     "text": [
      "C:\\Users\\winni\\AppData\\Local\\Temp\\ipykernel_26508\\41042790.py:1: SettingWithCopyWarning: \n",
      "A value is trying to be set on a copy of a slice from a DataFrame.\n",
      "Try using .loc[row_indexer,col_indexer] = value instead\n",
      "\n",
      "See the caveats in the documentation: https://pandas.pydata.org/pandas-docs/stable/user_guide/indexing.html#returning-a-view-versus-a-copy\n",
      "  category_df[\"boardgamecategory\"] = category_df[\"boardgamecategory\"].\\\n"
     ]
    }
   ],
   "source": [
    "category_df[\"boardgamecategory\"] = category_df[\"boardgamecategory\"].\\\n",
    "    map(lambda x: x.lstrip(\"[\").rstrip(\"]\"))"
   ]
  },
  {
   "cell_type": "code",
   "execution_count": 77,
   "id": "7dfef4d6",
   "metadata": {},
   "outputs": [],
   "source": [
    "games[\"boardgamecategory\"] =  category_df[\"boardgamecategory\"]"
   ]
  },
  {
   "cell_type": "code",
   "execution_count": 78,
   "id": "68a8d01b",
   "metadata": {},
   "outputs": [
    {
     "data": {
      "text/plain": [
       "0                                            'Medical'\n",
       "1    'City Building', 'Medieval', 'Territory Building'\n",
       "2                            'Economic', 'Negotiation'\n",
       "3    'Ancient', 'Card Game', 'City Building', 'Civi...\n",
       "4                              'Card Game', 'Medieval'\n",
       "Name: boardgamecategory, dtype: object"
      ]
     },
     "execution_count": 78,
     "metadata": {},
     "output_type": "execute_result"
    }
   ],
   "source": [
    "# sanity check\n",
    "games[\"boardgamecategory\"].head()"
   ]
  },
  {
   "cell_type": "markdown",
   "id": "7c24bf9e",
   "metadata": {},
   "source": [
    "I will also count the unique categories and see how many fall under each."
   ]
  },
  {
   "cell_type": "markdown",
   "id": "f665d983",
   "metadata": {},
   "source": [
    "Now I will look at `boardgamemechanic`."
   ]
  },
  {
   "cell_type": "code",
   "execution_count": 79,
   "id": "fac57e44",
   "metadata": {},
   "outputs": [
    {
     "name": "stderr",
     "output_type": "stream",
     "text": [
      "C:\\Users\\winni\\AppData\\Local\\Temp\\ipykernel_26508\\3914962758.py:2: SettingWithCopyWarning: \n",
      "A value is trying to be set on a copy of a slice from a DataFrame.\n",
      "Try using .loc[row_indexer,col_indexer] = value instead\n",
      "\n",
      "See the caveats in the documentation: https://pandas.pydata.org/pandas-docs/stable/user_guide/indexing.html#returning-a-view-versus-a-copy\n",
      "  mechanic_df[\"boardgamemechanic\"] = mechanic_df[\"boardgamemechanic\"].map(lambda x: x.lstrip(\"[\").\\\n"
     ]
    }
   ],
   "source": [
    "mechanic_df = games[games[\"boardgamemechanic\"].notnull()]\n",
    "mechanic_df[\"boardgamemechanic\"] = mechanic_df[\"boardgamemechanic\"].map(lambda x: x.lstrip(\"[\").\\\n",
    "                                                                        rstrip(\"]\")) \n",
    "\n",
    "games[\"boardgamemechanic\"] =  mechanic_df[\"boardgamemechanic\"]"
   ]
  },
  {
   "cell_type": "code",
   "execution_count": 80,
   "id": "b286c931",
   "metadata": {
    "scrolled": true
   },
   "outputs": [
    {
     "data": {
      "text/plain": [
       "0    'Action Points', 'Cooperative Game', 'Hand Man...\n",
       "1    'Area Majority / Influence', 'Map Addition', '...\n",
       "2    'Dice Rolling', 'Hexagon Grid', 'Income', 'Mod...\n",
       "3    'Drafting', 'Hand Management', 'Set Collection...\n",
       "4    'Deck, Bag, and Pool Building', 'Delayed Purch...\n",
       "Name: boardgamemechanic, dtype: object"
      ]
     },
     "execution_count": 80,
     "metadata": {},
     "output_type": "execute_result"
    }
   ],
   "source": [
    "games[\"boardgamemechanic\"].head()"
   ]
  },
  {
   "cell_type": "markdown",
   "id": "b43bf6d7",
   "metadata": {},
   "source": [
    "Now, I will look at `boardgamefamily`. "
   ]
  },
  {
   "cell_type": "code",
   "execution_count": 81,
   "id": "64f89afc",
   "metadata": {},
   "outputs": [
    {
     "name": "stderr",
     "output_type": "stream",
     "text": [
      "C:\\Users\\winni\\AppData\\Local\\Temp\\ipykernel_26508\\1913580934.py:2: SettingWithCopyWarning: \n",
      "A value is trying to be set on a copy of a slice from a DataFrame.\n",
      "Try using .loc[row_indexer,col_indexer] = value instead\n",
      "\n",
      "See the caveats in the documentation: https://pandas.pydata.org/pandas-docs/stable/user_guide/indexing.html#returning-a-view-versus-a-copy\n",
      "  family_df[\"boardgamefamily\"] = family_df[\"boardgamefamily\"].map(lambda x: x.lstrip(\"[\").\\\n"
     ]
    }
   ],
   "source": [
    "family_df = games[games[\"boardgamefamily\"].notnull()] \n",
    "family_df[\"boardgamefamily\"] = family_df[\"boardgamefamily\"].map(lambda x: x.lstrip(\"[\").\\\n",
    "                                                                rstrip(\"]\"))\n",
    "games[\"boardgamefamily\"] =  family_df[\"boardgamefamily\"]"
   ]
  },
  {
   "cell_type": "code",
   "execution_count": 82,
   "id": "0a87ee0f",
   "metadata": {},
   "outputs": [
    {
     "data": {
      "text/plain": [
       "0    'Components: Map (Global Scale)', 'Components:...\n",
       "1    'Cities: Carcassonne (France)', 'Components: M...\n",
       "2    'Animals: Sheep', 'Components: Hexagonal Tiles...\n",
       "3    'Ancient: Babylon', 'Ancient: Egypt', 'Ancient...\n",
       "4    'Crowdfunding: Wspieram', 'Game: Dominion', 'M...\n",
       "Name: boardgamefamily, dtype: object"
      ]
     },
     "execution_count": 82,
     "metadata": {},
     "output_type": "execute_result"
    }
   ],
   "source": [
    "# sanity check\n",
    "games[\"boardgamefamily\"].head()"
   ]
  },
  {
   "cell_type": "markdown",
   "id": "d5ce4bc0",
   "metadata": {},
   "source": [
    "Now, I will look at these 2 columns:\n",
    "- `boardgameexpansion`: an expansion of the board game\n",
    "- `boardgameimplementation`: Different implementations of the board game (different versions, different rules)"
   ]
  },
  {
   "cell_type": "code",
   "execution_count": 83,
   "id": "30dd84e2",
   "metadata": {},
   "outputs": [
    {
     "data": {
      "text/html": [
       "<div>\n",
       "<style scoped>\n",
       "    .dataframe tbody tr th:only-of-type {\n",
       "        vertical-align: middle;\n",
       "    }\n",
       "\n",
       "    .dataframe tbody tr th {\n",
       "        vertical-align: top;\n",
       "    }\n",
       "\n",
       "    .dataframe thead th {\n",
       "        text-align: right;\n",
       "    }\n",
       "</style>\n",
       "<table border=\"1\" class=\"dataframe\">\n",
       "  <thead>\n",
       "    <tr style=\"text-align: right;\">\n",
       "      <th></th>\n",
       "      <th>boardgameexpansion</th>\n",
       "      <th>boardgameimplementation</th>\n",
       "    </tr>\n",
       "  </thead>\n",
       "  <tbody>\n",
       "    <tr>\n",
       "      <th>0</th>\n",
       "      <td>['Pandemic: Gen Con 2016 Promos – Z-Force Team...</td>\n",
       "      <td>['Pandemic Legacy: Season 0', 'Pandemic Legacy...</td>\n",
       "    </tr>\n",
       "    <tr>\n",
       "      <th>1</th>\n",
       "      <td>['20 Jahre Darmstadt Spielt', 'Apothecaries (f...</td>\n",
       "      <td>['The Ark of the Covenant', 'Carcassonne für 2...</td>\n",
       "    </tr>\n",
       "    <tr>\n",
       "      <th>2</th>\n",
       "      <td>['20 Jahre Darmstadt Spielt', 'Brettspiel Adve...</td>\n",
       "      <td>['Baden-Württemberg Catan', 'Catan Geographies...</td>\n",
       "    </tr>\n",
       "    <tr>\n",
       "      <th>3</th>\n",
       "      <td>['7 Wonders: Armada', '7 Wonders: Babel', '7 W...</td>\n",
       "      <td>['7 Wonders (Second Edition)', '7 Wonders Duel...</td>\n",
       "    </tr>\n",
       "    <tr>\n",
       "      <th>4</th>\n",
       "      <td>['Ancient Times (fan expansion for Dominion)',...</td>\n",
       "      <td>['Dominion (Second Edition)', 'Het Koninkrijk ...</td>\n",
       "    </tr>\n",
       "  </tbody>\n",
       "</table>\n",
       "</div>"
      ],
      "text/plain": [
       "                                  boardgameexpansion  \\\n",
       "0  ['Pandemic: Gen Con 2016 Promos – Z-Force Team...   \n",
       "1  ['20 Jahre Darmstadt Spielt', 'Apothecaries (f...   \n",
       "2  ['20 Jahre Darmstadt Spielt', 'Brettspiel Adve...   \n",
       "3  ['7 Wonders: Armada', '7 Wonders: Babel', '7 W...   \n",
       "4  ['Ancient Times (fan expansion for Dominion)',...   \n",
       "\n",
       "                             boardgameimplementation  \n",
       "0  ['Pandemic Legacy: Season 0', 'Pandemic Legacy...  \n",
       "1  ['The Ark of the Covenant', 'Carcassonne für 2...  \n",
       "2  ['Baden-Württemberg Catan', 'Catan Geographies...  \n",
       "3  ['7 Wonders (Second Edition)', '7 Wonders Duel...  \n",
       "4  ['Dominion (Second Edition)', 'Het Koninkrijk ...  "
      ]
     },
     "execution_count": 83,
     "metadata": {},
     "output_type": "execute_result"
    }
   ],
   "source": [
    "games[[\"boardgameexpansion\", \"boardgameimplementation\"]].head()"
   ]
  },
  {
   "cell_type": "code",
   "execution_count": 84,
   "id": "672171f1",
   "metadata": {},
   "outputs": [
    {
     "data": {
      "text/plain": [
       "id                             0\n",
       "primary                        0\n",
       "description                    1\n",
       "yearpublished                  0\n",
       "minplayers                     0\n",
       "maxplayers                     0\n",
       "minplaytime                    0\n",
       "maxplaytime                    0\n",
       "minage                         0\n",
       "boardgamecategory            283\n",
       "boardgamemechanic           1590\n",
       "boardgamefamily             3761\n",
       "boardgameexpansion         16125\n",
       "boardgameimplementation    16769\n",
       "boardgamedesigner            596\n",
       "boardgameartist             5907\n",
       "boardgamepublisher             1\n",
       "usersrated                     0\n",
       "average                        0\n",
       "bayesaverage                   0\n",
       "Board Game Rank                0\n",
       "Strategy Game Rank         19294\n",
       "Family Game Rank           19304\n",
       "stddev                         0\n",
       "median                         0\n",
       "owned                          0\n",
       "trading                        0\n",
       "wanting                        0\n",
       "wishing                        0\n",
       "numcomments                    0\n",
       "numweights                     0\n",
       "averageweight                  0\n",
       "boardgameintegration       19900\n",
       "boardgamecompilation       20804\n",
       "Party Game Rank            20984\n",
       "Abstract Game Rank         20522\n",
       "Thematic Rank              20396\n",
       "War Game Rank              18130\n",
       "Customizable Rank          21330\n",
       "Children's Game Rank       20755\n",
       "RPG Item Rank              21630\n",
       "Accessory Rank             21630\n",
       "Video Game Rank            21630\n",
       "Amiga Rank                 21630\n",
       "Commodore 64 Rank          21630\n",
       "Arcade Rank                21630\n",
       "Atari ST Rank              21630\n",
       "dtype: int64"
      ]
     },
     "execution_count": 84,
     "metadata": {},
     "output_type": "execute_result"
    }
   ],
   "source": [
    "games.isnull().sum()"
   ]
  },
  {
   "cell_type": "markdown",
   "id": "a5813a52",
   "metadata": {},
   "source": [
    "A lot of games seem to have null values for these 2 categories. Instead of dropping them, I will encode them as whether or not they have a implementation or expansion (1 if the do, 0 if they don't)."
   ]
  },
  {
   "cell_type": "code",
   "execution_count": 85,
   "id": "4d39dceb",
   "metadata": {},
   "outputs": [],
   "source": [
    "games[\"boardgameexpansion\"] = np.where(games[\"boardgameexpansion\"].isna(), 0, 1)"
   ]
  },
  {
   "cell_type": "markdown",
   "id": "186cc76f",
   "metadata": {},
   "source": [
    "I will also do this for `boardgameimplementation`."
   ]
  },
  {
   "cell_type": "code",
   "execution_count": 86,
   "id": "45e6eb24",
   "metadata": {},
   "outputs": [],
   "source": [
    "games[\"boardgameimplementation\"] = np.where(games[\"boardgameimplementation\"].isna(), 0, 1)"
   ]
  },
  {
   "cell_type": "markdown",
   "id": "369e819c",
   "metadata": {},
   "source": [
    "Next, I will look at these categories:\n",
    "- `boardgamedesigner`: The designers who worked on the board game.\n",
    "- `boardgameartist`: the artists who worked on the board game.\n",
    "- `boardgamepublisher`: The publishers who pubished the board game in different countries."
   ]
  },
  {
   "cell_type": "code",
   "execution_count": 87,
   "id": "c185b5a7",
   "metadata": {
    "scrolled": true
   },
   "outputs": [
    {
     "data": {
      "text/html": [
       "<div>\n",
       "<style scoped>\n",
       "    .dataframe tbody tr th:only-of-type {\n",
       "        vertical-align: middle;\n",
       "    }\n",
       "\n",
       "    .dataframe tbody tr th {\n",
       "        vertical-align: top;\n",
       "    }\n",
       "\n",
       "    .dataframe thead th {\n",
       "        text-align: right;\n",
       "    }\n",
       "</style>\n",
       "<table border=\"1\" class=\"dataframe\">\n",
       "  <thead>\n",
       "    <tr style=\"text-align: right;\">\n",
       "      <th></th>\n",
       "      <th>boardgamedesigner</th>\n",
       "      <th>boardgameartist</th>\n",
       "      <th>boardgamepublisher</th>\n",
       "    </tr>\n",
       "  </thead>\n",
       "  <tbody>\n",
       "    <tr>\n",
       "      <th>0</th>\n",
       "      <td>['Matt Leacock']</td>\n",
       "      <td>['Josh Cappel', 'Christian Hanisch', 'Régis Mo...</td>\n",
       "      <td>['Z-Man Games', 'Albi', 'Asmodee', 'Asmodee It...</td>\n",
       "    </tr>\n",
       "    <tr>\n",
       "      <th>1</th>\n",
       "      <td>['Klaus-Jürgen Wrede']</td>\n",
       "      <td>['Doris Matthäus', 'Anne Pätzke', 'Chris Quill...</td>\n",
       "      <td>['Hans im Glück', '999 Games', 'Albi', 'Bard C...</td>\n",
       "    </tr>\n",
       "    <tr>\n",
       "      <th>2</th>\n",
       "      <td>['Klaus Teuber']</td>\n",
       "      <td>['Volkan Baga', 'Tanja Donner', 'Pete Fenlon',...</td>\n",
       "      <td>['KOSMOS', '999 Games', 'Albi', 'Asmodee', 'As...</td>\n",
       "    </tr>\n",
       "    <tr>\n",
       "      <th>3</th>\n",
       "      <td>['Antoine Bauza']</td>\n",
       "      <td>['Dimitri Chappuis', 'Miguel Coimbra', 'Etienn...</td>\n",
       "      <td>['Repos Production', 'ADC Blackfire Entertainm...</td>\n",
       "    </tr>\n",
       "    <tr>\n",
       "      <th>4</th>\n",
       "      <td>['Donald X. Vaccarino']</td>\n",
       "      <td>['Matthias Catrein', 'Julien Delval', 'Tomasz ...</td>\n",
       "      <td>['Rio Grande Games', '999 Games', 'Albi', 'Bar...</td>\n",
       "    </tr>\n",
       "  </tbody>\n",
       "</table>\n",
       "</div>"
      ],
      "text/plain": [
       "         boardgamedesigner                                    boardgameartist  \\\n",
       "0         ['Matt Leacock']  ['Josh Cappel', 'Christian Hanisch', 'Régis Mo...   \n",
       "1   ['Klaus-Jürgen Wrede']  ['Doris Matthäus', 'Anne Pätzke', 'Chris Quill...   \n",
       "2         ['Klaus Teuber']  ['Volkan Baga', 'Tanja Donner', 'Pete Fenlon',...   \n",
       "3        ['Antoine Bauza']  ['Dimitri Chappuis', 'Miguel Coimbra', 'Etienn...   \n",
       "4  ['Donald X. Vaccarino']  ['Matthias Catrein', 'Julien Delval', 'Tomasz ...   \n",
       "\n",
       "                                  boardgamepublisher  \n",
       "0  ['Z-Man Games', 'Albi', 'Asmodee', 'Asmodee It...  \n",
       "1  ['Hans im Glück', '999 Games', 'Albi', 'Bard C...  \n",
       "2  ['KOSMOS', '999 Games', 'Albi', 'Asmodee', 'As...  \n",
       "3  ['Repos Production', 'ADC Blackfire Entertainm...  \n",
       "4  ['Rio Grande Games', '999 Games', 'Albi', 'Bar...  "
      ]
     },
     "execution_count": 87,
     "metadata": {},
     "output_type": "execute_result"
    }
   ],
   "source": [
    "games[[\"boardgamedesigner\", \"boardgameartist\", \"boardgamepublisher\"]].head()"
   ]
  },
  {
   "cell_type": "markdown",
   "id": "53158abc",
   "metadata": {},
   "source": [
    "First, I will look at `boardgamedesigner`:"
   ]
  },
  {
   "cell_type": "code",
   "execution_count": 88,
   "id": "de319dd8",
   "metadata": {},
   "outputs": [
    {
     "name": "stderr",
     "output_type": "stream",
     "text": [
      "C:\\Users\\winni\\AppData\\Local\\Temp\\ipykernel_26508\\1661595047.py:2: SettingWithCopyWarning: \n",
      "A value is trying to be set on a copy of a slice from a DataFrame.\n",
      "Try using .loc[row_indexer,col_indexer] = value instead\n",
      "\n",
      "See the caveats in the documentation: https://pandas.pydata.org/pandas-docs/stable/user_guide/indexing.html#returning-a-view-versus-a-copy\n",
      "  designer_df[\"boardgamedesigner\"] = designer_df[\"boardgamedesigner\"].map(lambda x: x.\\\n"
     ]
    },
    {
     "data": {
      "text/plain": [
       "0                         'Matt Leacock'\n",
       "1                   'Klaus-Jürgen Wrede'\n",
       "2                         'Klaus Teuber'\n",
       "3                        'Antoine Bauza'\n",
       "4                  'Donald X. Vaccarino'\n",
       "                      ...               \n",
       "21626      'Julia Koerwer', 'Jono Naito'\n",
       "21627    'Masakazu Takizawa (たきざわ まさかず)'\n",
       "21628                     '(Uncredited)'\n",
       "21629                     '(Uncredited)'\n",
       "21630                   'Eric R. Harvey'\n",
       "Name: boardgamedesigner, Length: 21631, dtype: object"
      ]
     },
     "execution_count": 88,
     "metadata": {},
     "output_type": "execute_result"
    }
   ],
   "source": [
    "designer_df = games[games[\"boardgamedesigner\"].notnull()]\n",
    "designer_df[\"boardgamedesigner\"] = designer_df[\"boardgamedesigner\"].map(lambda x: x.\\\n",
    "                                                                        lstrip(\"[\").rstrip(\"]\"))\n",
    "games[\"boardgamedesigner\"]=designer_df[\"boardgamedesigner\"]\n",
    "games[\"boardgamedesigner\"]"
   ]
  },
  {
   "cell_type": "markdown",
   "id": "7846f5e9",
   "metadata": {},
   "source": [
    "Now, I will look at `boardgameartist`."
   ]
  },
  {
   "cell_type": "code",
   "execution_count": 89,
   "id": "deb07eea",
   "metadata": {},
   "outputs": [
    {
     "name": "stderr",
     "output_type": "stream",
     "text": [
      "C:\\Users\\winni\\AppData\\Local\\Temp\\ipykernel_26508\\3190912686.py:2: SettingWithCopyWarning: \n",
      "A value is trying to be set on a copy of a slice from a DataFrame.\n",
      "Try using .loc[row_indexer,col_indexer] = value instead\n",
      "\n",
      "See the caveats in the documentation: https://pandas.pydata.org/pandas-docs/stable/user_guide/indexing.html#returning-a-view-versus-a-copy\n",
      "  artist_df[\"boardgameartist\"] = artist_df[\"boardgameartist\"].map(lambda x: x.\\\n"
     ]
    },
    {
     "data": {
      "text/plain": [
       "0    'Josh Cappel', 'Christian Hanisch', 'Régis Mou...\n",
       "1    'Doris Matthäus', 'Anne Pätzke', 'Chris Quilli...\n",
       "2    'Volkan Baga', 'Tanja Donner', 'Pete Fenlon', ...\n",
       "3    'Dimitri Chappuis', 'Miguel Coimbra', 'Etienne...\n",
       "4    'Matthias Catrein', 'Julien Delval', 'Tomasz J...\n",
       "Name: boardgameartist, dtype: object"
      ]
     },
     "execution_count": 89,
     "metadata": {},
     "output_type": "execute_result"
    }
   ],
   "source": [
    "artist_df = games[games[\"boardgameartist\"].notnull()]\n",
    "artist_df[\"boardgameartist\"] = artist_df[\"boardgameartist\"].map(lambda x: x.\\\n",
    "                                                                lstrip(\"[\").rstrip(\"]\"))\n",
    "games[\"boardgameartist\"] = artist_df[\"boardgameartist\"] \n",
    "games[\"boardgameartist\"].head()"
   ]
  },
  {
   "cell_type": "code",
   "execution_count": 90,
   "id": "b7fbeeea",
   "metadata": {},
   "outputs": [
    {
     "name": "stderr",
     "output_type": "stream",
     "text": [
      "C:\\Users\\winni\\AppData\\Local\\Temp\\ipykernel_26508\\2678130644.py:2: SettingWithCopyWarning: \n",
      "A value is trying to be set on a copy of a slice from a DataFrame.\n",
      "Try using .loc[row_indexer,col_indexer] = value instead\n",
      "\n",
      "See the caveats in the documentation: https://pandas.pydata.org/pandas-docs/stable/user_guide/indexing.html#returning-a-view-versus-a-copy\n",
      "  publisher_df[\"boardgamepublisher\"] = publisher_df[\"boardgamepublisher\"].map(lambda x: x.\\\n"
     ]
    }
   ],
   "source": [
    "publisher_df = games[games[\"boardgamepublisher\"].notnull()]\n",
    "publisher_df[\"boardgamepublisher\"] = publisher_df[\"boardgamepublisher\"].map(lambda x: x.\\\n",
    "                                                                            lstrip(\"[\").rstrip(\"]\"))\n",
    "games[\"boardgamepublisher\"] = publisher_df[\"boardgamepublisher\"]"
   ]
  },
  {
   "cell_type": "code",
   "execution_count": 91,
   "id": "2c85251a",
   "metadata": {
    "scrolled": false
   },
   "outputs": [
    {
     "data": {
      "text/plain": [
       "0    'Z-Man Games', 'Albi', 'Asmodee', 'Asmodee Ita...\n",
       "1    'Hans im Glück', '999 Games', 'Albi', 'Bard Ce...\n",
       "2    'KOSMOS', '999 Games', 'Albi', 'Asmodee', 'Ast...\n",
       "3    'Repos Production', 'ADC Blackfire Entertainme...\n",
       "4    'Rio Grande Games', '999 Games', 'Albi', 'Bard...\n",
       "Name: boardgamepublisher, dtype: object"
      ]
     },
     "execution_count": 91,
     "metadata": {},
     "output_type": "execute_result"
    }
   ],
   "source": [
    "games[\"boardgamepublisher\"].head()"
   ]
  },
  {
   "cell_type": "markdown",
   "id": "33746502",
   "metadata": {},
   "source": [
    "Next, I will look at the following columns:\n",
    "- `usersrated`: The number of users who rated the game.\n",
    "- `average`: The average rating of the game.\n",
    "- `bayesaverage`: The average rating of the game, but 100 ratings rated at 5.5 are added to help prevent games with very few reviews being rated very high. If there are a lot of ratings, this wouldn't affect the rating that much. If there are only a few ratings, this would make the rating lower.\n",
    "- `Board Game Rank`: The overall ranking of the boardgame.\n",
    "\n",
    "I will be dropping `bayesaverage` as this isn't information might be related to `average` and might not be a reflecting the comments and ratings someone gives."
   ]
  },
  {
   "cell_type": "code",
   "execution_count": 92,
   "id": "6259f9c7",
   "metadata": {},
   "outputs": [],
   "source": [
    "games.drop(\"bayesaverage\", axis=1, inplace=True)"
   ]
  },
  {
   "cell_type": "markdown",
   "id": "104a2af4",
   "metadata": {},
   "source": [
    "Next, I will drop all the columns that include `Rank` as they are many null values. I will only keep `Board Game Rank`. I will also drop `std` and `median` as this relates to the `average` column."
   ]
  },
  {
   "cell_type": "code",
   "execution_count": 93,
   "id": "7e707db3",
   "metadata": {},
   "outputs": [],
   "source": [
    "column_list = games.columns.to_list()"
   ]
  },
  {
   "cell_type": "code",
   "execution_count": 94,
   "id": "8fbbdab5",
   "metadata": {},
   "outputs": [],
   "source": [
    "rank_list = []\n",
    "for col in column_list:\n",
    "    if \"Rank\" in col and col != \"Board Game Rank\":\n",
    "        rank_list.append(col)"
   ]
  },
  {
   "cell_type": "code",
   "execution_count": 95,
   "id": "1276c02f",
   "metadata": {},
   "outputs": [],
   "source": [
    "games.drop(rank_list, axis=1, inplace=True)"
   ]
  },
  {
   "cell_type": "code",
   "execution_count": 96,
   "id": "eb7477e4",
   "metadata": {},
   "outputs": [],
   "source": [
    "games.drop([\"stddev\", \"median\"], axis=1, inplace=True)"
   ]
  },
  {
   "cell_type": "markdown",
   "id": "6789e3f2",
   "metadata": {},
   "source": [
    "I will also drop `boardgameintegration` and `boardgamecompilation` as they contain mostly null values."
   ]
  },
  {
   "cell_type": "code",
   "execution_count": 97,
   "id": "454394b1",
   "metadata": {},
   "outputs": [],
   "source": [
    "games.drop([\"boardgamecompilation\", \"boardgameintegration\"], axis=1, inplace=True)"
   ]
  },
  {
   "cell_type": "code",
   "execution_count": 98,
   "id": "723d6a07",
   "metadata": {
    "scrolled": true
   },
   "outputs": [
    {
     "name": "stdout",
     "output_type": "stream",
     "text": [
      "<class 'pandas.core.frame.DataFrame'>\n",
      "RangeIndex: 21631 entries, 0 to 21630\n",
      "Data columns (total 27 columns):\n",
      " #   Column                   Non-Null Count  Dtype  \n",
      "---  ------                   --------------  -----  \n",
      " 0   id                       21631 non-null  int64  \n",
      " 1   primary                  21631 non-null  object \n",
      " 2   description              21630 non-null  object \n",
      " 3   yearpublished            21631 non-null  int64  \n",
      " 4   minplayers               21631 non-null  int64  \n",
      " 5   maxplayers               21631 non-null  int64  \n",
      " 6   minplaytime              21631 non-null  int64  \n",
      " 7   maxplaytime              21631 non-null  int64  \n",
      " 8   minage                   21631 non-null  int64  \n",
      " 9   boardgamecategory        21348 non-null  object \n",
      " 10  boardgamemechanic        20041 non-null  object \n",
      " 11  boardgamefamily          17870 non-null  object \n",
      " 12  boardgameexpansion       21631 non-null  int32  \n",
      " 13  boardgameimplementation  21631 non-null  int32  \n",
      " 14  boardgamedesigner        21035 non-null  object \n",
      " 15  boardgameartist          15724 non-null  object \n",
      " 16  boardgamepublisher       21630 non-null  object \n",
      " 17  usersrated               21631 non-null  int64  \n",
      " 18  average                  21631 non-null  float64\n",
      " 19  Board Game Rank          21631 non-null  object \n",
      " 20  owned                    21631 non-null  int64  \n",
      " 21  trading                  21631 non-null  int64  \n",
      " 22  wanting                  21631 non-null  int64  \n",
      " 23  wishing                  21631 non-null  int64  \n",
      " 24  numcomments              21631 non-null  int64  \n",
      " 25  numweights               21631 non-null  int64  \n",
      " 26  averageweight            21631 non-null  float64\n",
      "dtypes: float64(2), int32(2), int64(14), object(9)\n",
      "memory usage: 4.3+ MB\n"
     ]
    }
   ],
   "source": [
    "games.info()"
   ]
  },
  {
   "cell_type": "markdown",
   "id": "cb115125",
   "metadata": {},
   "source": [
    "There are 21,631 rows and 26 different columns.\n",
    "\n",
    "Games is now clean and I will save it."
   ]
  },
  {
   "cell_type": "code",
   "execution_count": 99,
   "id": "7376a52c",
   "metadata": {},
   "outputs": [],
   "source": [
    "games.to_csv(\"data/games_clean.csv\", index=False)"
   ]
  },
  {
   "cell_type": "markdown",
   "id": "5654d4b6",
   "metadata": {},
   "source": [
    "## Data Wrangling\n",
    "### Games Dataframe\n",
    "\n",
    "I will wrangle the columns boardgamecategory, boardgamemechanic, boardgamefamily, boardgameexpansion, boardgameimplementation, boardgamedesigner, boardgameartist, and boardgamepublisher as they consist lists. I should make them into separate columns.\n",
    "\n",
    "First, I will start with `boardgamecategory`."
   ]
  },
  {
   "cell_type": "code",
   "execution_count": 100,
   "id": "9108e419",
   "metadata": {},
   "outputs": [],
   "source": [
    "games_clean = games.copy()"
   ]
  },
  {
   "cell_type": "code",
   "execution_count": 101,
   "id": "16a35e73",
   "metadata": {},
   "outputs": [
    {
     "data": {
      "text/plain": [
       "'Card Game'                    6402\n",
       "'Wargame'                      3820\n",
       "'Fantasy'                      2681\n",
       "'Party Game'                   1968\n",
       "'Dice'                         1847\n",
       "'Science Fiction'              1666\n",
       "'Fighting'                     1658\n",
       "\"Children's Game\"              1635\n",
       "'Abstract Strategy'            1545\n",
       "'Economic'                     1503\n",
       "'Animals'                      1354\n",
       "'World War II'                 1212\n",
       "'Bluffing'                     1206\n",
       "'Humor'                        1204\n",
       "'Adventure'                    1181\n",
       "'Deduction'                    1150\n",
       "'Miniatures'                   1091\n",
       "'Action / Dexterity'           1090\n",
       "'Movies / TV / Radio theme'    1069\n",
       "'Medieval'                     1013\n",
       "dtype: int64"
      ]
     },
     "execution_count": 101,
     "metadata": {},
     "output_type": "execute_result"
    }
   ],
   "source": [
    "unique_categories = category_df[\"boardgamecategory\"].str.split(\",\", expand=True).stack().\\\n",
    "    unique().tolist()\n",
    "unique_categories_count = category_df[\"boardgamecategory\"].str.split(\", \", expand=True).\\\n",
    "    stack().value_counts()\n",
    "\n",
    "# view top 20\n",
    "unique_categories_count.head(20)"
   ]
  },
  {
   "cell_type": "markdown",
   "id": "af43dbe4",
   "metadata": {},
   "source": [
    "There is a high count for the top 20 categories and they all seem to be important. Therefore, I will keep all of them and make them into binary columns in the dataframe."
   ]
  },
  {
   "cell_type": "code",
   "execution_count": 102,
   "id": "a834b232",
   "metadata": {},
   "outputs": [],
   "source": [
    "# list of categories \n",
    "cat_list = ['Card Game', 'Wargame', 'Fantasy', 'Party Game', 'Dice', 'Science Fiction', 'Fighting',\n",
    "            \"Children's Game\", 'Abstract Strategy', 'Economic', 'Animals', 'World War II',\n",
    "            'Bluffing', 'Humor', 'Adventure', 'Deduction', 'Miniatures', 'Action / Dexterity',\n",
    "            'Movies / TV / Radio theme', 'Medieval']"
   ]
  },
  {
   "cell_type": "code",
   "execution_count": 103,
   "id": "c2738162",
   "metadata": {},
   "outputs": [],
   "source": [
    "# replace null values with \"nocat\"\n",
    "games_clean[\"boardgamecategory\"] = np.where(games_clean[\"boardgamecategory\"].isna(),\n",
    "                                            \"nocat\", games_clean[\"boardgamecategory\"])"
   ]
  },
  {
   "cell_type": "code",
   "execution_count": 104,
   "id": "4f5f3d76",
   "metadata": {},
   "outputs": [],
   "source": [
    "# loop through categories and make it 1 if the game has that category and 0 if it doesn't \n",
    "for cat in cat_list:\n",
    "    games_clean[f\"{cat}\"] = games_clean[\"boardgamecategory\"].apply(lambda x: 1 if (f\"{cat}\" in x) else 0)"
   ]
  },
  {
   "cell_type": "code",
   "execution_count": 105,
   "id": "fa20bc4f",
   "metadata": {
    "scrolled": true
   },
   "outputs": [
    {
     "name": "stdout",
     "output_type": "stream",
     "text": [
      "<class 'pandas.core.frame.DataFrame'>\n",
      "RangeIndex: 21631 entries, 0 to 21630\n",
      "Data columns (total 47 columns):\n",
      " #   Column                     Non-Null Count  Dtype  \n",
      "---  ------                     --------------  -----  \n",
      " 0   id                         21631 non-null  int64  \n",
      " 1   primary                    21631 non-null  object \n",
      " 2   description                21630 non-null  object \n",
      " 3   yearpublished              21631 non-null  int64  \n",
      " 4   minplayers                 21631 non-null  int64  \n",
      " 5   maxplayers                 21631 non-null  int64  \n",
      " 6   minplaytime                21631 non-null  int64  \n",
      " 7   maxplaytime                21631 non-null  int64  \n",
      " 8   minage                     21631 non-null  int64  \n",
      " 9   boardgamecategory          21631 non-null  object \n",
      " 10  boardgamemechanic          20041 non-null  object \n",
      " 11  boardgamefamily            17870 non-null  object \n",
      " 12  boardgameexpansion         21631 non-null  int32  \n",
      " 13  boardgameimplementation    21631 non-null  int32  \n",
      " 14  boardgamedesigner          21035 non-null  object \n",
      " 15  boardgameartist            15724 non-null  object \n",
      " 16  boardgamepublisher         21630 non-null  object \n",
      " 17  usersrated                 21631 non-null  int64  \n",
      " 18  average                    21631 non-null  float64\n",
      " 19  Board Game Rank            21631 non-null  object \n",
      " 20  owned                      21631 non-null  int64  \n",
      " 21  trading                    21631 non-null  int64  \n",
      " 22  wanting                    21631 non-null  int64  \n",
      " 23  wishing                    21631 non-null  int64  \n",
      " 24  numcomments                21631 non-null  int64  \n",
      " 25  numweights                 21631 non-null  int64  \n",
      " 26  averageweight              21631 non-null  float64\n",
      " 27  Card Game                  21631 non-null  int64  \n",
      " 28  Wargame                    21631 non-null  int64  \n",
      " 29  Fantasy                    21631 non-null  int64  \n",
      " 30  Party Game                 21631 non-null  int64  \n",
      " 31  Dice                       21631 non-null  int64  \n",
      " 32  Science Fiction            21631 non-null  int64  \n",
      " 33  Fighting                   21631 non-null  int64  \n",
      " 34  Children's Game            21631 non-null  int64  \n",
      " 35  Abstract Strategy          21631 non-null  int64  \n",
      " 36  Economic                   21631 non-null  int64  \n",
      " 37  Animals                    21631 non-null  int64  \n",
      " 38  World War II               21631 non-null  int64  \n",
      " 39  Bluffing                   21631 non-null  int64  \n",
      " 40  Humor                      21631 non-null  int64  \n",
      " 41  Adventure                  21631 non-null  int64  \n",
      " 42  Deduction                  21631 non-null  int64  \n",
      " 43  Miniatures                 21631 non-null  int64  \n",
      " 44  Action / Dexterity         21631 non-null  int64  \n",
      " 45  Movies / TV / Radio theme  21631 non-null  int64  \n",
      " 46  Medieval                   21631 non-null  int64  \n",
      "dtypes: float64(2), int32(2), int64(34), object(9)\n",
      "memory usage: 7.6+ MB\n"
     ]
    }
   ],
   "source": [
    "# sanity check \n",
    "games_clean.info()"
   ]
  },
  {
   "cell_type": "markdown",
   "id": "9756f4f0",
   "metadata": {},
   "source": [
    "Now, I will look at `boardgamefamily`."
   ]
  },
  {
   "cell_type": "code",
   "execution_count": 106,
   "id": "4fc02a76",
   "metadata": {},
   "outputs": [
    {
     "data": {
      "text/plain": [
       "'Players: Two Player Only Games'               3619\n",
       "'Crowdfunding: Kickstarter'                    3146\n",
       "'Players: Games with Solitaire Rules'          1261\n",
       "'Admin: Better Description Needed!'            1020\n",
       "'Components: Miniatures'                        475\n",
       "'Digital Implementations: Board Game Arena'     390\n",
       "'Misc: LongPack Games'                          374\n",
       "'Country: USA'                                  366\n",
       "'Category: Combinatorial'                       353\n",
       "'Players: Solitaire Only Games'                 327\n",
       "'Players: Wargames with Solitaire Rules'        300\n",
       "'Components: 3-Dimensional (3D)'                296\n",
       "'Country: France'                               295\n",
       "'Theme: Food / Cooking'                         255\n",
       "'Magazine: Strategy & Tactics'                  246\n",
       "'Ancient: Rome'                                 241\n",
       "'Country: Germany'                              225\n",
       "'Country: Japan'                                222\n",
       "'Components: Dice with Icons'                   216\n",
       "'Creatures: Dragons'                            207\n",
       "dtype: int64"
      ]
     },
     "execution_count": 106,
     "metadata": {},
     "output_type": "execute_result"
    }
   ],
   "source": [
    "unique_family = family_df[\"boardgamefamily\"].str.split(\",\", expand=True).stack().unique().tolist()\n",
    "unique_family_count = family_df[\"boardgamefamily\"].str.split(\", \", expand=True).stack().\\\n",
    "    value_counts()\n",
    "unique_family_count.head(20)"
   ]
  },
  {
   "cell_type": "markdown",
   "id": "99db94af",
   "metadata": {},
   "source": [
    "Only 2 categories seem of note:\n",
    "- Players: 2 player only games\n",
    "- Crowdfunding: kickstarter\n",
    "\n",
    "Therefore, I will binarize these 2 families and concatenate them to the dataframe."
   ]
  },
  {
   "cell_type": "code",
   "execution_count": 107,
   "id": "f9ad05c5",
   "metadata": {},
   "outputs": [],
   "source": [
    "family_list = ['Players: Two Player Only Games', 'Crowdfunding: Kickstarter']\n",
    "games_clean[\"boardgamefamily\"] = np.where(games_clean[\"boardgamefamily\"].isna(),\n",
    "                                        \"nocat\", games_clean[\"boardgamefamily\"])\n"
   ]
  },
  {
   "cell_type": "code",
   "execution_count": 108,
   "id": "f211ddd3",
   "metadata": {},
   "outputs": [],
   "source": [
    "for family in family_list:\n",
    "    games_clean[f\"{family}\"] = games_clean[\"boardgamefamily\"].\\\n",
    "    apply(lambda x: 1 if (f\"{family}\" in x) else 0)"
   ]
  },
  {
   "cell_type": "code",
   "execution_count": 109,
   "id": "9ff3df72",
   "metadata": {
    "scrolled": true
   },
   "outputs": [
    {
     "name": "stdout",
     "output_type": "stream",
     "text": [
      "<class 'pandas.core.frame.DataFrame'>\n",
      "RangeIndex: 21631 entries, 0 to 21630\n",
      "Data columns (total 49 columns):\n",
      " #   Column                          Non-Null Count  Dtype  \n",
      "---  ------                          --------------  -----  \n",
      " 0   id                              21631 non-null  int64  \n",
      " 1   primary                         21631 non-null  object \n",
      " 2   description                     21630 non-null  object \n",
      " 3   yearpublished                   21631 non-null  int64  \n",
      " 4   minplayers                      21631 non-null  int64  \n",
      " 5   maxplayers                      21631 non-null  int64  \n",
      " 6   minplaytime                     21631 non-null  int64  \n",
      " 7   maxplaytime                     21631 non-null  int64  \n",
      " 8   minage                          21631 non-null  int64  \n",
      " 9   boardgamecategory               21631 non-null  object \n",
      " 10  boardgamemechanic               20041 non-null  object \n",
      " 11  boardgamefamily                 21631 non-null  object \n",
      " 12  boardgameexpansion              21631 non-null  int32  \n",
      " 13  boardgameimplementation         21631 non-null  int32  \n",
      " 14  boardgamedesigner               21035 non-null  object \n",
      " 15  boardgameartist                 15724 non-null  object \n",
      " 16  boardgamepublisher              21630 non-null  object \n",
      " 17  usersrated                      21631 non-null  int64  \n",
      " 18  average                         21631 non-null  float64\n",
      " 19  Board Game Rank                 21631 non-null  object \n",
      " 20  owned                           21631 non-null  int64  \n",
      " 21  trading                         21631 non-null  int64  \n",
      " 22  wanting                         21631 non-null  int64  \n",
      " 23  wishing                         21631 non-null  int64  \n",
      " 24  numcomments                     21631 non-null  int64  \n",
      " 25  numweights                      21631 non-null  int64  \n",
      " 26  averageweight                   21631 non-null  float64\n",
      " 27  Card Game                       21631 non-null  int64  \n",
      " 28  Wargame                         21631 non-null  int64  \n",
      " 29  Fantasy                         21631 non-null  int64  \n",
      " 30  Party Game                      21631 non-null  int64  \n",
      " 31  Dice                            21631 non-null  int64  \n",
      " 32  Science Fiction                 21631 non-null  int64  \n",
      " 33  Fighting                        21631 non-null  int64  \n",
      " 34  Children's Game                 21631 non-null  int64  \n",
      " 35  Abstract Strategy               21631 non-null  int64  \n",
      " 36  Economic                        21631 non-null  int64  \n",
      " 37  Animals                         21631 non-null  int64  \n",
      " 38  World War II                    21631 non-null  int64  \n",
      " 39  Bluffing                        21631 non-null  int64  \n",
      " 40  Humor                           21631 non-null  int64  \n",
      " 41  Adventure                       21631 non-null  int64  \n",
      " 42  Deduction                       21631 non-null  int64  \n",
      " 43  Miniatures                      21631 non-null  int64  \n",
      " 44  Action / Dexterity              21631 non-null  int64  \n",
      " 45  Movies / TV / Radio theme       21631 non-null  int64  \n",
      " 46  Medieval                        21631 non-null  int64  \n",
      " 47  Players: Two Player Only Games  21631 non-null  int64  \n",
      " 48  Crowdfunding: Kickstarter       21631 non-null  int64  \n",
      "dtypes: float64(2), int32(2), int64(36), object(9)\n",
      "memory usage: 7.9+ MB\n"
     ]
    }
   ],
   "source": [
    "# sanity check\n",
    "games_clean.info()"
   ]
  },
  {
   "cell_type": "markdown",
   "id": "6a452eeb",
   "metadata": {},
   "source": [
    "Now, I will look at `boardgamepublisher`:"
   ]
  },
  {
   "cell_type": "code",
   "execution_count": 110,
   "id": "3270a191",
   "metadata": {},
   "outputs": [
    {
     "data": {
      "text/plain": [
       "Ltd.'                    970\n",
       "Inc.'                    854\n",
       "'Hasbro'                 597\n",
       "'(Self-Published)'       594\n",
       "'Asmodee'                571\n",
       "'Ravensburger'           520\n",
       "'Parker Brothers'        486\n",
       "'(Web published)'        485\n",
       "'Pegasus Spiele'         480\n",
       "'999 Games'              477\n",
       "'Korea Boardgames Co.    474\n",
       "'KOSMOS'                 429\n",
       "'Hobby World'            422\n",
       "'Edge Entertainment'     405\n",
       "'Milton Bradley'         401\n",
       "'Rio Grande Games'       395\n",
       "'Devir'                  384\n",
       "'Rebel Sp. z o.o.'       374\n",
       "LLC'                     367\n",
       "'Hobby Japan'            361\n",
       "dtype: int64"
      ]
     },
     "execution_count": 110,
     "metadata": {},
     "output_type": "execute_result"
    }
   ],
   "source": [
    "unique_publisher_count = publisher_df[\"boardgamepublisher\"].str.split(\", \", expand=True).stack().value_counts()\n",
    "unique_publisher_count.head(20)"
   ]
  },
  {
   "cell_type": "markdown",
   "id": "e43ea3fd",
   "metadata": {},
   "source": [
    "There are a lot of different publishers and none of the values are particularly high. Furthermore, every board game has several categories and has different publishers for different countries. Therefore, I will drop the `publisher` column."
   ]
  },
  {
   "cell_type": "code",
   "execution_count": 111,
   "id": "05339330",
   "metadata": {},
   "outputs": [],
   "source": [
    "games_clean.drop(\"boardgamepublisher\", axis=1, inplace=True)"
   ]
  },
  {
   "cell_type": "code",
   "execution_count": 112,
   "id": "5e5bb9bc",
   "metadata": {
    "scrolled": true
   },
   "outputs": [
    {
     "name": "stdout",
     "output_type": "stream",
     "text": [
      "<class 'pandas.core.frame.DataFrame'>\n",
      "RangeIndex: 21631 entries, 0 to 21630\n",
      "Data columns (total 48 columns):\n",
      " #   Column                          Non-Null Count  Dtype  \n",
      "---  ------                          --------------  -----  \n",
      " 0   id                              21631 non-null  int64  \n",
      " 1   primary                         21631 non-null  object \n",
      " 2   description                     21630 non-null  object \n",
      " 3   yearpublished                   21631 non-null  int64  \n",
      " 4   minplayers                      21631 non-null  int64  \n",
      " 5   maxplayers                      21631 non-null  int64  \n",
      " 6   minplaytime                     21631 non-null  int64  \n",
      " 7   maxplaytime                     21631 non-null  int64  \n",
      " 8   minage                          21631 non-null  int64  \n",
      " 9   boardgamecategory               21631 non-null  object \n",
      " 10  boardgamemechanic               20041 non-null  object \n",
      " 11  boardgamefamily                 21631 non-null  object \n",
      " 12  boardgameexpansion              21631 non-null  int32  \n",
      " 13  boardgameimplementation         21631 non-null  int32  \n",
      " 14  boardgamedesigner               21035 non-null  object \n",
      " 15  boardgameartist                 15724 non-null  object \n",
      " 16  usersrated                      21631 non-null  int64  \n",
      " 17  average                         21631 non-null  float64\n",
      " 18  Board Game Rank                 21631 non-null  object \n",
      " 19  owned                           21631 non-null  int64  \n",
      " 20  trading                         21631 non-null  int64  \n",
      " 21  wanting                         21631 non-null  int64  \n",
      " 22  wishing                         21631 non-null  int64  \n",
      " 23  numcomments                     21631 non-null  int64  \n",
      " 24  numweights                      21631 non-null  int64  \n",
      " 25  averageweight                   21631 non-null  float64\n",
      " 26  Card Game                       21631 non-null  int64  \n",
      " 27  Wargame                         21631 non-null  int64  \n",
      " 28  Fantasy                         21631 non-null  int64  \n",
      " 29  Party Game                      21631 non-null  int64  \n",
      " 30  Dice                            21631 non-null  int64  \n",
      " 31  Science Fiction                 21631 non-null  int64  \n",
      " 32  Fighting                        21631 non-null  int64  \n",
      " 33  Children's Game                 21631 non-null  int64  \n",
      " 34  Abstract Strategy               21631 non-null  int64  \n",
      " 35  Economic                        21631 non-null  int64  \n",
      " 36  Animals                         21631 non-null  int64  \n",
      " 37  World War II                    21631 non-null  int64  \n",
      " 38  Bluffing                        21631 non-null  int64  \n",
      " 39  Humor                           21631 non-null  int64  \n",
      " 40  Adventure                       21631 non-null  int64  \n",
      " 41  Deduction                       21631 non-null  int64  \n",
      " 42  Miniatures                      21631 non-null  int64  \n",
      " 43  Action / Dexterity              21631 non-null  int64  \n",
      " 44  Movies / TV / Radio theme       21631 non-null  int64  \n",
      " 45  Medieval                        21631 non-null  int64  \n",
      " 46  Players: Two Player Only Games  21631 non-null  int64  \n",
      " 47  Crowdfunding: Kickstarter       21631 non-null  int64  \n",
      "dtypes: float64(2), int32(2), int64(36), object(8)\n",
      "memory usage: 7.8+ MB\n"
     ]
    }
   ],
   "source": [
    "# sanity check\n",
    "games_clean.info()"
   ]
  },
  {
   "cell_type": "markdown",
   "id": "a3446ee3",
   "metadata": {},
   "source": [
    "Now, I will look at `boardgameartist`. "
   ]
  },
  {
   "cell_type": "code",
   "execution_count": 113,
   "id": "04baf638",
   "metadata": {},
   "outputs": [
    {
     "data": {
      "text/plain": [
       "'Rodger B. MacGowan'       375\n",
       "'(Uncredited)'             365\n",
       "'Franz Vohwinkel'          309\n",
       "'Redmond A. Simonsen'      233\n",
       "'Mark Simonitch'           217\n",
       "'Michael Menzel'           171\n",
       "'Joe Youst'                157\n",
       "'Charles Kibler'           141\n",
       "'Oliver Freudenreich'      137\n",
       "'Klemens Franz'            132\n",
       "'Claus Stephan'            128\n",
       "'Harald Lieske'            124\n",
       "'Nicolás Eskubi'           112\n",
       "'Dennis Lohausen'          111\n",
       "'John Kovalic'             101\n",
       "Jr.'                        79\n",
       "'Néstor Romeral Andrés'     79\n",
       "'Christophe Camilotte'      76\n",
       "'Larry Hoffman'             75\n",
       "'Vincent Dutrait'           71\n",
       "dtype: int64"
      ]
     },
     "execution_count": 113,
     "metadata": {},
     "output_type": "execute_result"
    }
   ],
   "source": [
    "unique_artist_count = artist_df[\"boardgameartist\"].str.split(\", \", expand=True).\\\n",
    "    stack().value_counts()\n",
    "unique_artist_count.head(20)"
   ]
  },
  {
   "cell_type": "markdown",
   "id": "f1d21a21",
   "metadata": {},
   "source": [
    "The value count for the artists aren't particularly high so I will drop this column and not binarize any of them."
   ]
  },
  {
   "cell_type": "code",
   "execution_count": 114,
   "id": "2f95f681",
   "metadata": {},
   "outputs": [],
   "source": [
    "games_clean.drop(\"boardgameartist\", axis=1, inplace=True)"
   ]
  },
  {
   "cell_type": "markdown",
   "id": "9cc530c5",
   "metadata": {},
   "source": [
    "Now, I will look at `boardgamedesigner`."
   ]
  },
  {
   "cell_type": "code",
   "execution_count": 115,
   "id": "8b1f21be",
   "metadata": {},
   "outputs": [
    {
     "data": {
      "text/plain": [
       "'(Uncredited)'         1445\n",
       "'Reiner Knizia'         329\n",
       "'Joseph Miranda'        134\n",
       "'Wolfgang Kramer'       133\n",
       "'Richard H. Berg'       111\n",
       "'Bruno Cathala'          95\n",
       "'Martin Wallace'         92\n",
       "'Jim Dunnigan'           92\n",
       "'James Ernest'           91\n",
       "'Dean Essig'             86\n",
       "Jr.'                     85\n",
       "'Michael Schacht'        84\n",
       "'Frank Chadwick'         81\n",
       "'Andrew Looney'          74\n",
       "'Alan R. Moon'           73\n",
       "'Bruno Faidutti'         73\n",
       "'Ty Bomba'               70\n",
       "'Eric M. Lang'           70\n",
       "'Steve Jackson (I)'      70\n",
       "'Reinhard Staupe'        69\n",
       "dtype: int64"
      ]
     },
     "execution_count": 115,
     "metadata": {},
     "output_type": "execute_result"
    }
   ],
   "source": [
    "unique_designer_count = designer_df[\"boardgamedesigner\"].str.split(\", \", expand=True).stack().value_counts()\n",
    "unique_designer_count.head(20)"
   ]
  },
  {
   "cell_type": "markdown",
   "id": "d38b63b6",
   "metadata": {},
   "source": [
    "Most boardgame designers are uncredited and most of the other counts aren't that high either so I will also drop this column."
   ]
  },
  {
   "cell_type": "code",
   "execution_count": 116,
   "id": "9677d5ab",
   "metadata": {},
   "outputs": [],
   "source": [
    "games_clean.drop(\"boardgamedesigner\", axis=1, inplace=True)"
   ]
  },
  {
   "cell_type": "markdown",
   "id": "95e674b2",
   "metadata": {},
   "source": [
    "Since I added the columns for `boardgamecategory`, `boardgamemechanic`, and `boardgamefamily`, I can drop the original columns."
   ]
  },
  {
   "cell_type": "code",
   "execution_count": 117,
   "id": "b78d1b7f",
   "metadata": {},
   "outputs": [],
   "source": [
    "games_clean.drop([\"boardgamecategory\", \"boardgamemechanic\", \"boardgamefamily\"], axis=1, inplace=True)"
   ]
  },
  {
   "cell_type": "code",
   "execution_count": 118,
   "id": "2ab25e26",
   "metadata": {},
   "outputs": [
    {
     "name": "stdout",
     "output_type": "stream",
     "text": [
      "<class 'pandas.core.frame.DataFrame'>\n",
      "RangeIndex: 21631 entries, 0 to 21630\n",
      "Data columns (total 43 columns):\n",
      " #   Column                          Non-Null Count  Dtype  \n",
      "---  ------                          --------------  -----  \n",
      " 0   id                              21631 non-null  int64  \n",
      " 1   primary                         21631 non-null  object \n",
      " 2   description                     21630 non-null  object \n",
      " 3   yearpublished                   21631 non-null  int64  \n",
      " 4   minplayers                      21631 non-null  int64  \n",
      " 5   maxplayers                      21631 non-null  int64  \n",
      " 6   minplaytime                     21631 non-null  int64  \n",
      " 7   maxplaytime                     21631 non-null  int64  \n",
      " 8   minage                          21631 non-null  int64  \n",
      " 9   boardgameexpansion              21631 non-null  int32  \n",
      " 10  boardgameimplementation         21631 non-null  int32  \n",
      " 11  usersrated                      21631 non-null  int64  \n",
      " 12  average                         21631 non-null  float64\n",
      " 13  Board Game Rank                 21631 non-null  object \n",
      " 14  owned                           21631 non-null  int64  \n",
      " 15  trading                         21631 non-null  int64  \n",
      " 16  wanting                         21631 non-null  int64  \n",
      " 17  wishing                         21631 non-null  int64  \n",
      " 18  numcomments                     21631 non-null  int64  \n",
      " 19  numweights                      21631 non-null  int64  \n",
      " 20  averageweight                   21631 non-null  float64\n",
      " 21  Card Game                       21631 non-null  int64  \n",
      " 22  Wargame                         21631 non-null  int64  \n",
      " 23  Fantasy                         21631 non-null  int64  \n",
      " 24  Party Game                      21631 non-null  int64  \n",
      " 25  Dice                            21631 non-null  int64  \n",
      " 26  Science Fiction                 21631 non-null  int64  \n",
      " 27  Fighting                        21631 non-null  int64  \n",
      " 28  Children's Game                 21631 non-null  int64  \n",
      " 29  Abstract Strategy               21631 non-null  int64  \n",
      " 30  Economic                        21631 non-null  int64  \n",
      " 31  Animals                         21631 non-null  int64  \n",
      " 32  World War II                    21631 non-null  int64  \n",
      " 33  Bluffing                        21631 non-null  int64  \n",
      " 34  Humor                           21631 non-null  int64  \n",
      " 35  Adventure                       21631 non-null  int64  \n",
      " 36  Deduction                       21631 non-null  int64  \n",
      " 37  Miniatures                      21631 non-null  int64  \n",
      " 38  Action / Dexterity              21631 non-null  int64  \n",
      " 39  Movies / TV / Radio theme       21631 non-null  int64  \n",
      " 40  Medieval                        21631 non-null  int64  \n",
      " 41  Players: Two Player Only Games  21631 non-null  int64  \n",
      " 42  Crowdfunding: Kickstarter       21631 non-null  int64  \n",
      "dtypes: float64(2), int32(2), int64(36), object(3)\n",
      "memory usage: 6.9+ MB\n"
     ]
    }
   ],
   "source": [
    "# sanity check \n",
    "games_clean.info()"
   ]
  },
  {
   "cell_type": "markdown",
   "id": "2013fe54",
   "metadata": {},
   "source": [
    "Now, I will save this dataframe."
   ]
  },
  {
   "cell_type": "code",
   "execution_count": 120,
   "id": "fc761d08",
   "metadata": {},
   "outputs": [
    {
     "data": {
      "text/plain": [
       "['data/games_wrangled.pkl']"
      ]
     },
     "execution_count": 120,
     "metadata": {},
     "output_type": "execute_result"
    }
   ],
   "source": [
    "joblib.dump(games_clean, \"data/games_wrangled.pkl\")"
   ]
  },
  {
   "cell_type": "markdown",
   "id": "0795b5b4",
   "metadata": {},
   "source": [
    "## Conclusion\n",
    "In this notebook, we cleaned the notebook by dropping rows and columns. We also binarized some of the columns.\n",
    "\n",
    "**Next Notebook**: 2. Feature Engineering\n",
    "- We engineer new features to add onto the dataframes and concatenate the 2 dataframes together"
   ]
  }
 ],
 "metadata": {
  "kernelspec": {
   "display_name": "Python 3 (ipykernel)",
   "language": "python",
   "name": "python3"
  },
  "language_info": {
   "codemirror_mode": {
    "name": "ipython",
    "version": 3
   },
   "file_extension": ".py",
   "mimetype": "text/x-python",
   "name": "python",
   "nbconvert_exporter": "python",
   "pygments_lexer": "ipython3",
   "version": "3.8.13"
  }
 },
 "nbformat": 4,
 "nbformat_minor": 5
}
